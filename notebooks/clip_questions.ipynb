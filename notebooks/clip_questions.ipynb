{
 "cells": [
  {
   "cell_type": "markdown",
   "metadata": {
    "id": "eCO9BA7EqUaE"
   },
   "source": [
    "by Sonia Joseph\n",
    "\n",
    "Twitter: [@soniajoseph_](https://twitter.com/soniajoseph_)\n",
    "\n",
    "Original introduction is [here](https://www.lesswrong.com/posts/kobJymvvcvhbjWFKe/laying-the-foundations-for-vision-and-multimodal-mechanistic).\n",
    "\n",
    "# Introduction\n",
    "\n",
    "The purpose of this notebook is to introduce readers to vision transformer (ViT) mechanistic interpretability.\n",
    "\n",
    "To make ViT mechanistic interpretability easier, I built an [open source library Prisma](https://github.com/soniajoseph/ViT-Prisma). The library is based on Neel Nanda's fantastic [TransformerLens](https://github.com/neelnanda-io/TransformerLens) but adapted for vision transformers and text-image models like CLIP. This notebook serves as a demo of the library. I highly encourage readers to check out the library and request features that they'd like to see!\n",
    "\n",
    "I hope this notebook builds the vision mech interp ecosystem and encourages researchers to pursue their own directions with Prisma!\n",
    "\n",
    "## Audience\n",
    "This notebook is geared toward two audiences. The first is familiar with language mech interp, but not vision mech interp. The second is somewhat new to mechanistic interpretability, but is familiar with basic deep learning and has some mild exposure to mech interp concepts. If you are *completely* new to all mech interp, I recommend getting the basics down with the [ARENA curriculum](https://github.com/callummcdougall/ARENA_2.0) first.\n",
    "\n",
    "\n",
    "The structure of this notebook is based on the excellent notebook [Exploratory Analysis](https://colab.research.google.com/github/neelnanda-io/TransformerLens/blob/main/demos/Exploratory_Analysis_Demo.ipynb#scrollTo=lZgu7cH72kdd) from TransformerLens, with some detours. While this notebook acts as a stand-alone, I encourage readers to consult the original notebook when they would like a deeper explanation.\n",
    "\n",
    "For unfamiliar terms, also check out the [mech interp explorer](https://dynalist.io/d/n2ZWtnoYHrU1s4vnFSAQ519J#inline-images&theme=default).\n",
    "\n",
    "## Structure\n",
    "\n",
    "*See the sidebar for navigation.*\n",
    "\n",
    "We'll run through the basic mech interp techniques on a vision transformer, including:\n",
    "\n",
    "* Logit attribution\n",
    "* Patch-level emoji logit lens\n",
    "* Attention visualization\n",
    "* Activation patching\n",
    "\n",
    "**We will illustrate the last few technique by changing the ViT's prediction from tabby cat to Border Collie with a minimum viable ablation.**\n",
    "\n",
    "## Acknowledgements and contributors\n",
    "\n",
    "Thank you to Noah MacCallum, Rob Graham, and Karolis Ramanauskas for giving feedback on an early draft of this notebook.\n",
    "\n",
    "Further thank you to Neel Nanda for your feedback, and to the Prisma team and core contributers, the MATS community, and South Park Commons. Full acknowledgements are on the Prisma repo documentation.\n"
   ]
  },
  {
   "cell_type": "markdown",
   "metadata": {
    "id": "VtK4FZb5MyDS"
   },
   "source": [
    "### Differences between ViT and Language Interpretability\n",
    "\n"
   ]
  },
  {
   "cell_type": "markdown",
   "metadata": {
    "id": "zdqCsy85M9cP"
   },
   "source": [
    "*This section is geared toward readers already familiar with language transformer mech interp. If you are new to mech interp in general, you don't have to dwell on this section too much.*\n",
    "\n",
    "\n",
    "Vision mech interp is like language mech interp, but in a fun-house mirror. Both architectures are transformers, so many LLM techniques carry over. However, there are a few twists:\n",
    "\n",
    "* **The typical ViT is not doing unidirectional sequence modeling.** ViTs use bidirectional attention and predict a global CLS token, rather than predicting the next token in an autoregressive manner. (Note: There are autoregressive vision transformers with basically the same architecture as language, such as [Image GPT](https://openai.com/research/image-gpt) and [Parti](https://sites.research.google/parti/), which do next-token image generation. However, as of February 2024, autoregressive vision transformers are not frequently used in the wild.)\n",
    "* **Bidirectional attention vs causal attention.** Language transformers have causal (unidirectional) attention. This means that there is an upper triangular mask on the attention, so that earlier tokens cannot attend to tokens in the future. The classical ViT, with its bidirectional attention, does not have the same concept of \"time.\" Thus, some of the original LLM mech interp techniques break. It can be unclear which direction information is flowing. Induction heads, if they are present in vision, would look different from those in language to account for bidirectional attention.\n",
    "* **CLS token instead of next token prediction/ autoregressive loss.** For ViTs, a learnable CLS token, which is prepended to the input, gets fed into the classification head instead of the final token as in language. The CLS token accrues global information from the other patches through self-attention as all the patches pass through the net.\n",
    "* **No canonical dictionary matrix. Vision is more ambiguous.** Vision lacks a standard dictionary matrix like the 50k one for language, partially due to inherent ambiguity. For instance, a yellow patch on a goldfinch might represent \"yellow,\" \"wing,\" \"goldfinch,\" \"bird,\" or \"animal,\" depending on the granularity, demonstrating hierarchical ambiguity. An animal might be identified specifically as a \"Border collie\" or more generally as a \"dog.\" Beyond hierarchy, ambiguity in vision also stems from cultural interpretations and the imprecision of language. Practically, ImageNet's 1000 classes serve as a makeshift \"dictionary,\" but it falls short of fully encompassing visual concepts.\n",
    "* **Additional hyperparameters.** Patch size is a vision-specific hyperparameter, determining the size of the patches into which an image is divided. Using smaller patches increases accuracy but also computational load, because attention scales quadratically with patch number.\n",
    "* **There is a zoo of vision transformers.** Similar to language, vision transformers come in many forms. The most relevant are the vanilla ViT, which we'll be analyzing in this notebook; CLIP, which is co-trained with text using contrastive loss; and DINO uses unlabeled data. For a review, check out [this survey](https://arxiv.org/pdf/2101.01169.pdf).\n"
   ]
  },
  {
   "cell_type": "markdown",
   "metadata": {
    "id": "nRmhq7T8iObj"
   },
   "source": [
    "## Import libraries, data, and helper functions (ignore)"
   ]
  },
  {
   "cell_type": "markdown",
   "metadata": {
    "id": "TuWZeSnmF6iD"
   },
   "source": []
  },
  {
   "cell_type": "code",
   "execution_count": 1,
   "metadata": {
    "id": "MHyAQuZiu3ci"
   },
   "outputs": [
    {
     "name": "stderr",
     "output_type": "stream",
     "text": [
      "/var/folders/w4/6m47nb7x1cv2hsxbb89dmcz80000gn/T/ipykernel_31170/594584972.py:19: DeprecationWarning: Importing display from IPython.core.display is deprecated since IPython 7.14, please import from IPython display\n",
      "  from IPython.core.display import display, HTML\n"
     ]
    }
   ],
   "source": [
    "import vit_prisma\n",
    "# from vit_prisma.utils.data_utils.imagenet_dict import IMAGENET_DICT\n",
    "# from vit_prisma.utils import prisma_utils\n",
    "\n",
    "import numpy as np\n",
    "import torch\n",
    "from fancy_einsum import einsum\n",
    "from collections import defaultdict\n",
    "\n",
    "import plotly.graph_objs as go\n",
    "import plotly.express as px\n",
    "\n",
    "import matplotlib.colors as mcolors\n",
    "\n",
    "from PIL import Image\n",
    "from torchvision import transforms\n",
    "import matplotlib.pyplot as plt\n",
    "\n",
    "from IPython.core.display import display, HTML\n",
    "from vit_prisma.models.base_vit import HookedViT\n",
    "import torchvision\n",
    "from transformers import CLIPProcessor, CLIPModel, AutoTokenizer\n",
    "\n",
    "\n"
   ]
  },
  {
   "cell_type": "code",
   "execution_count": 2,
   "metadata": {
    "id": "jbmXO1Zu2SwL"
   },
   "outputs": [],
   "source": [
    "# Get images we'll feed into the model\n",
    "!wget \"https://github.com/soniajoseph/ViT-Prisma/blob/main/src/vit_prisma/sample_images/cat_dog.jpeg?raw=true\" -O cat_dog.jpeg --quiet\n",
    "!wget \"https://github.com/soniajoseph/ViT-Prisma/blob/main/src/vit_prisma/sample_images/cat_crop.jpeg?raw=true\" -O crop_cat.png --quiet\n"
   ]
  },
  {
   "cell_type": "code",
   "execution_count": 3,
   "metadata": {},
   "outputs": [],
   "source": [
    "MODEL_NAME = \"wkcn/TinyCLIP-ViT-40M-32-Text-19M-LAION400M\""
   ]
  },
  {
   "cell_type": "markdown",
   "metadata": {
    "id": "wEIpV4X9F_3O"
   },
   "source": [
    "**Helper Functions** (ignore)"
   ]
  },
  {
   "cell_type": "code",
   "execution_count": 4,
   "metadata": {
    "id": "vLuiwSw3_1at"
   },
   "outputs": [
    {
     "name": "stderr",
     "output_type": "stream",
     "text": [
      "/Users/lukecadigan/miniconda3/envs/dsprites/lib/python3.12/site-packages/huggingface_hub/file_download.py:1132: FutureWarning: `resume_download` is deprecated and will be removed in version 1.0.0. Downloads always resume when possible. If you want to force a new download, use `force_download=True`.\n",
      "  warnings.warn(\n"
     ]
    }
   ],
   "source": [
    "# Helper function (ignore)\n",
    "def plot_image(image):\n",
    "  plt.figure()\n",
    "  plt.axis('off')\n",
    "  plt.imshow(image.permute(1,2,0))\n",
    "\n",
    "class ConvertTo3Channels:\n",
    "    def __call__(self, img):\n",
    "        if img.mode != 'RGB':\n",
    "            return img.convert('RGB')\n",
    "        return img\n",
    "\n",
    "# transform = transforms.Compose([\n",
    "#     ConvertTo3Channels(),\n",
    "#     transforms.Resize((224, 224)),\n",
    "#     transforms.ToTensor(),\n",
    "# ])\n",
    "\n",
    "clip_processor = CLIPProcessor.from_pretrained(MODEL_NAME)\n",
    "clip_tokenizer = AutoTokenizer.from_pretrained(MODEL_NAME)\n",
    "transform = torchvision.transforms.Compose([\n",
    "    ConvertTo3Channels(),\n",
    "    torchvision.transforms.Resize((224, 224)),\n",
    "    torchvision.transforms.ToTensor(),\n",
    "    torchvision.transforms.Normalize(mean=clip_processor.image_processor.image_mean,\n",
    "                        std=clip_processor.image_processor.image_std),\n",
    "])\n",
    "transform_without_normalization = torchvision.transforms.Compose([\n",
    "    ConvertTo3Channels(),\n",
    "    torchvision.transforms.Resize((224, 224)),\n",
    "    torchvision.transforms.ToTensor(),\n",
    "])"
   ]
  },
  {
   "cell_type": "code",
   "execution_count": 5,
   "metadata": {
    "id": "TNUEm2XqF8NF"
   },
   "outputs": [],
   "source": [
    "def plot_logit_boxplot(average_logits, labels):\n",
    "  hovertexts = np.array([[IMAGENET_DICT[i] for _ in range(25)] for i in range(1000)])\n",
    "\n",
    "  fig = go.Figure()\n",
    "  data = []\n",
    "\n",
    "  # if tensor, turn to numpy\n",
    "  if isinstance(average_logits, torch.Tensor):\n",
    "      average_logits = average_logits.detach().cpu().numpy()\n",
    "\n",
    "  for i in range(average_logits.shape[1]):  # For each layer\n",
    "      layer_logits = average_logits[:, i]\n",
    "      hovertext = hovertexts[:, i]\n",
    "      box = fig.add_trace(go.Box(\n",
    "          y=layer_logits,\n",
    "          name=f'{layer_labels[i]}',\n",
    "          text=hovertext,\n",
    "          hoverinfo='y+text',\n",
    "          boxpoints='suspectedoutliers'\n",
    "      ))\n",
    "      data.append(box)\n",
    "\n",
    "\n",
    "  means = np.mean(average_logits, axis=0)\n",
    "  fig.add_trace(go.Scatter(\n",
    "      x = layer_labels,\n",
    "      y=means,\n",
    "      mode='markers',\n",
    "      name='Mean',\n",
    "      # line=dict(color='gray'),\n",
    "      marker=dict(size=4, color='red'),\n",
    "  ))\n",
    "\n",
    "\n",
    "  fig.update_layout(\n",
    "      title='Raw Logit Values Per Layer (each dot is 1 ImageNet Class)',\n",
    "      xaxis=dict(title='Layer'),\n",
    "      yaxis=dict(title='Logit Values'),\n",
    "      showlegend=False\n",
    "  )\n",
    "\n",
    "  fig.show()"
   ]
  },
  {
   "cell_type": "code",
   "execution_count": 6,
   "metadata": {
    "id": "KG3howry0Axq"
   },
   "outputs": [],
   "source": [
    "def plot_patched_component(patched_head, title=''):\n",
    "  \"\"\"\n",
    "  Use for plotting Activation Patching.\n",
    "  \"\"\"\n",
    "\n",
    "  fig = go.Figure(data=go.Heatmap(\n",
    "      z=patched_head.detach().numpy(),\n",
    "      colorscale='RdBu',  # You can choose any colorscale\n",
    "      colorbar=dict(title='Value'),  # Customize the color bar\n",
    "      hoverongaps=False\n",
    "  ))\n",
    "  fig.update_layout(\n",
    "      title=title,\n",
    "      xaxis_title='Attention Head',\n",
    "      yaxis_title='Patch Number',\n",
    "  )\n",
    "\n",
    "  return fig\n",
    "\n",
    "def imshow(tensor, **kwargs):\n",
    "    \"\"\"\n",
    "    Use for Activation Patching.\n",
    "    \"\"\"\n",
    "    px.imshow(\n",
    "          prisma_utils.to_numpy(tensor),\n",
    "          color_continuous_midpoint=0.0,\n",
    "          color_continuous_scale=\"RdBu\",\n",
    "          **kwargs,\n",
    "      ).show()\n"
   ]
  },
  {
   "cell_type": "markdown",
   "metadata": {
    "id": "nAHnpeVuqdzV"
   },
   "source": [
    "# Load model and data"
   ]
  },
  {
   "cell_type": "markdown",
   "metadata": {
    "id": "UrrRs3CCnn20"
   },
   "source": [
    "## ViT Architecture\n",
    "\n",
    "![image](https://production-media.paperswithcode.com/methods/Screen_Shot_2021-01-26_at_9.43.31_PM_uI4jjMq.png)\n",
    "\n",
    "\n",
    "A [vision transformer](https://arxiv.org/pdf/2010.11929.pdf) (ViT) is an architecture designed for image classification tasks, similar to the classic transformer architecture used in language models. A ViT consists of transformer blocks; each block consists of an Attention layer and an MLP layer.\n",
    "\n",
    "\n",
    "Unlike language models, vision transformers do not have a dictionary embedding and unembedding matrix. Instead, images are divided into non-overlapping patches, similar to tokens in language models. These patches are flattened and linearly projected to embeddings via a Conv2D layer, similar to word embeddings in language models. A learnable class token (CLS token) is appended to the beginning of the sequence, which accrues global information throughout the network. A linear position embedding is added to the patches.\n",
    "\n",
    "The patch embeddings then pass through the transformer blocks (each block consists of a layer norm, an attention layer, another layernorm, and an mlp layer). The output of each block is added back to the previous input. The sum of the block and the previous input is called the residual stream.\n",
    "\n",
    "The final layer of this vision transformer is a classification head with 1000 logit values for ImageNet's 1000 classes. The CLS token is fed into the final layer for 1000-way classification.\n",
    "\n",
    "Like TransformerLens, we use HookedViT to easily capture intermediate activations with custom hook functions, instead of dealing with PyTorch's normal hook functionality.\n",
    "\n"
   ]
  },
  {
   "cell_type": "code",
   "execution_count": 7,
   "metadata": {},
   "outputs": [],
   "source": [
    "clip_model = CLIPModel.from_pretrained(MODEL_NAME)"
   ]
  },
  {
   "cell_type": "code",
   "execution_count": 8,
   "metadata": {
    "id": "s1rG8BllnjL3"
   },
   "outputs": [
    {
     "name": "stdout",
     "output_type": "stream",
     "text": [
      "{'n_layers': 12, 'd_model': 512, 'd_head': 64, 'model_name': '', 'n_heads': 8, 'd_mlp': 2048, 'activation_name': 'gelu', 'eps': 1e-05, 'original_architecture': 'vit_clip_vision_encoder', 'initializer_range': 0.02, 'n_channels': 3, 'patch_size': 32, 'image_size': 224, 'n_classes': 512, 'n_params': None, 'layer_norm_pre': True, 'return_type': 'class_logits'}\n",
      "LayerNorm folded.\n",
      "Centered weights writing to residual stream\n",
      "Loaded pretrained model wkcn/TinyCLIP-ViT-40M-32-Text-19M-LAION400M into HookedTransformer\n"
     ]
    }
   ],
   "source": [
    "model = HookedViT.from_pretrained(MODEL_NAME, is_timm=False, is_clip=True)"
   ]
  },
  {
   "cell_type": "markdown",
   "metadata": {
    "id": "qvcfAlnrp9od"
   },
   "source": [
    "## Load data\n",
    "\n",
    "For this specific transformer, ImageNet's 1000 classes serve as a rough equivalent to a language dictionary, but it's important to remember that these classes don't fully encompass all visual concepts, unlike more expansive models like CLIP.\n",
    "\n",
    "<details> <summary>On the ambiguities of vision </summary>\n",
    "\n",
    "Vision introduces unique ambiguities not found in language, including hierarchical ambiguity (e.g., identifying a black dog paw at varying levels of specificity), cultural ambiguity (where different cultures may label images differently), and precision ambiguity (where terms like \"object\" can refer to a wide range of items). While exploring language's ambiguity is beyond this notebook's focus, it's a recurring team in non-language interpretability.\n",
    "\n",
    "</details>\n",
    "\n",
    "For now, we will keep things simple and just deal with 1000-way ImageNet. Let's load our image.\n"
   ]
  },
  {
   "cell_type": "code",
   "execution_count": null,
   "metadata": {},
   "outputs": [],
   "source": []
  },
  {
   "cell_type": "code",
   "execution_count": 227,
   "metadata": {
    "id": "iOwg905fnOwJ"
   },
   "outputs": [
    {
     "data": {
      "image/png": "[encoded data removed]",
      "text/plain": [
       "<Figure size 640x480 with 1 Axes>"
      ]
     },
     "metadata": {},
     "output_type": "display_data"
    }
   ],
   "source": [
    "raw_image = Image.open('cat_dog.jpeg')\n",
    "image = transform_without_normalization(raw_image)\n",
    "image_tensor = transform(raw_image)\n",
    "plot_image(image)"
   ]
  },
  {
   "cell_type": "markdown",
   "metadata": {
    "id": "iajLnFCDhU2v"
   },
   "source": [
    "We'll use an image with both a Border Collie and a tabby cat. I'm curious how the classifier represents each animal throughout the net and 'decides' between the two animals for its final classification.\n",
    "\n",
    "For the sake of this demo, we'll just use one image. However, a more comprehensive analysis would use several images instead of one.\n",
    "\n",
    "\n",
    "\n",
    "\n"
   ]
  },
  {
   "cell_type": "markdown",
   "metadata": {
    "id": "1Wupq4pryZ9Q"
   },
   "source": [
    "We divide our 224 x 224 image into 32 x 32 non-overlapping patches to feed into the transformer. The transformer also appends a CLS token at the beginning, which is not represented spatially. In total, including the CLS token, there are 50 patches for the image."
   ]
  },
  {
   "cell_type": "code",
   "execution_count": 228,
   "metadata": {
    "id": "_enziNCHuBfu"
   },
   "outputs": [
    {
     "data": {
      "image/png": "[encoded data removed]",
      "text/plain": [
       "<Figure size 400x400 with 1 Axes>"
      ]
     },
     "metadata": {},
     "output_type": "display_data"
    }
   ],
   "source": [
    "from vit_prisma.visualization.visualize_image import display_grid_on_image\n",
    "\n",
    "display_grid_on_image(image, patch_size=32)"
   ]
  },
  {
   "cell_type": "markdown",
   "metadata": {
    "id": "tQDe8LdjuXI_"
   },
   "source": [
    "## Test prompt\n",
    "\n",
    "Let's feed the image into the transformer and investigate its top logits."
   ]
  },
  {
   "cell_type": "code",
   "execution_count": 267,
   "metadata": {
    "id": "JesDn5qCuYAk"
   },
   "outputs": [
    {
     "name": "stdout",
     "output_type": "stream",
     "text": [
      "{0: 'fluffy', 1: 'scaly', 2: 'smooth', 3: 'standing', 4: 'woman', 5: 'cute', 6: 'cat', 7: 'dog'}\n"
     ]
    }
   ],
   "source": [
    "# from vit_prisma.utils.data_utils.imagenet_utils import imagenet_index_from_word\n",
    "# from vit_prisma.utils.data_utils.imagenet_dict import IMAGENET_DICT\n",
    "from vit_prisma.utils.prisma_utils import test_prompt\n",
    "\n",
    "\n",
    "interesting_words=[\"fluffy\", \"scaly\", \"smooth\", \"standing\", \"woman\",\"cute\",\"cat\", \"dog\" ]\n",
    "\n",
    "IMAGENET_DICT={key: value for key, value in enumerate(interesting_words)}\n",
    "\n",
    "print(IMAGENET_DICT)\n",
    "WORD_TO_KEY_DICT = {value: key for key, value in IMAGENET_DICT.items()}\n",
    "def imagenet_index_from_word(word):\n",
    "    return WORD_TO_KEY_DICT[word]\n",
    "\n",
    "\n"
   ]
  },
  {
   "cell_type": "code",
   "execution_count": 268,
   "metadata": {
    "scrolled": true
   },
   "outputs": [],
   "source": [
    "\n",
    "\n",
    "# print(len(IMAGENET_DICT.keys()))\n",
    "# IMAGENET_DICT[len(IMAGENET_DICT.keys())]=\"animal\"\n",
    "# IMAGENET_DICT[len(IMAGENET_DICT.keys())]=\"happy\"\n",
    "# IMAGENET_DICT[len(IMAGENET_DICT.keys())]=\"sad\"\n",
    "\n",
    "# print(len(IMAGENET_DICT.keys()))\n",
    "# print(IMAGENET_DICT[1000])"
   ]
  },
  {
   "cell_type": "code",
   "execution_count": 269,
   "metadata": {},
   "outputs": [
    {
     "data": {
      "text/plain": [
       "['fluffy', 'scaly', 'smooth', 'standing', 'woman', 'cute', 'cat', 'dog']"
      ]
     },
     "execution_count": 269,
     "metadata": {},
     "output_type": "execute_result"
    }
   ],
   "source": [
    "list(IMAGENET_DICT.values())[:10]"
   ]
  },
  {
   "cell_type": "code",
   "execution_count": 270,
   "metadata": {},
   "outputs": [
    {
     "data": {
      "text/plain": [
       "'this is a fluffy image'"
      ]
     },
     "execution_count": 270,
     "metadata": {},
     "output_type": "execute_result"
    }
   ],
   "source": [
    "CLASS_PROMPTS = [f\"this is a {c} image\" for c in IMAGENET_DICT.values()]\n",
    "CLASS_PROMPTS[0]"
   ]
  },
  {
   "cell_type": "code",
   "execution_count": 271,
   "metadata": {},
   "outputs": [],
   "source": [
    "# CLASS_PROMPTS_SINGLE = [f\"a portrait of a {c.split(',')[0]}\" for c in IMAGENET_DICT.values()]\n",
    "# CLASS_PROMPTS_SINGLE[0]"
   ]
  },
  {
   "cell_type": "code",
   "execution_count": 272,
   "metadata": {},
   "outputs": [],
   "source": [
    "# CLASS_PROMPTS_SINGLE[281]"
   ]
  },
  {
   "cell_type": "code",
   "execution_count": 273,
   "metadata": {},
   "outputs": [],
   "source": [
    "# CLASS_PROMPTS[281]"
   ]
  },
  {
   "cell_type": "code",
   "execution_count": 274,
   "metadata": {},
   "outputs": [],
   "source": [
    "text_tokens = clip_processor(text=CLASS_PROMPTS, return_tensors=\"pt\", padding=True)\n",
    "text_features = clip_model.get_text_features(**text_tokens)\n",
    "text_features /= text_features.norm(dim=-1, keepdim=True)"
   ]
  },
  {
   "cell_type": "code",
   "execution_count": 275,
   "metadata": {},
   "outputs": [],
   "source": [
    "# text_tokens_single = clip_processor(text=CLASS_PROMPTS_SINGLE, return_tensors=\"pt\", padding=True)\n",
    "# text_features_single = clip_model.get_text_features(**text_tokens_single)\n",
    "# text_features_single /= text_features_single.norm(dim=-1, keepdim=True)"
   ]
  },
  {
   "cell_type": "code",
   "execution_count": 276,
   "metadata": {},
   "outputs": [],
   "source": [
    "def test_prompt(example_data_point, model, text_features, example_answers=None, top_k=10):\n",
    "\n",
    "    image_features = model(example_data_point)\n",
    "    image_features /= image_features.norm(dim=-1, keepdim=True)\n",
    "    similarity = (100.0 * image_features @ text_features.T).softmax(dim=-1)\n",
    "    # values, indices = similarity[0].topk(top_k)\n",
    "    logits = similarity\n",
    "\n",
    "    probs = logits.softmax(dim=-1)\n",
    "    probs = probs.squeeze(0).detach().numpy()\n",
    "    sorted_probs = np.sort(probs)[::-1]\n",
    "    sorted_probs_args = np.argsort(probs)[::-1]\n",
    "\n",
    "    for i in range(top_k):\n",
    "        index = sorted_probs_args[i]\n",
    "        prob = sorted_probs[i]\n",
    "        logit = logits[0, index].item()  # Assuming you want to show the original logit value\n",
    "        print(\"index is \",index)\n",
    "        label = IMAGENET_DICT[index]  # Adjust based on your mapping\n",
    "\n",
    "        rank_str = f\"Top {i}th token.\"\n",
    "        logit_str = f\"Logit: {logit:.2f}\"\n",
    "        prob_str = f\"Prob: {prob * 100:.2f}%\"\n",
    "        token_str = f\"Label: |{label}|\"\n",
    "\n",
    "        print(f\"{rank_str} {logit_str} {prob_str} {token_str}\")\n",
    "\n",
    "    if example_answers:\n",
    "      for example_answer in example_answers:\n",
    "        tabby_cat_idx = imagenet_index_from_word(example_answer)\n",
    "\n",
    "      # Example for displaying ranks of the answer tokens, adjust according to your needs\n",
    "        answer_index = imagenet_index_from_word(example_answer)\n",
    "        answer_indices = [answer_index]  # Assuming index is the answer index, adjust as necessary\n",
    "        print(\"Rank of the correct answer:\")\n",
    "        for ans_index in answer_indices:\n",
    "            rank = np.where(sorted_probs_args == ans_index)[0][0]\n",
    "            print(f\"Class Name: {example_answer} | Rank: {rank} | ImageNet Index: {tabby_cat_idx}\")"
   ]
  },
  {
   "cell_type": "code",
   "execution_count": 277,
   "metadata": {
    "id": "Qe-mTBKDudHf"
   },
   "outputs": [
    {
     "name": "stdout",
     "output_type": "stream",
     "text": [
      "index is  7\n",
      "Top 0th token. Logit: 0.64 Prob: 20.36% Label: |dog|\n",
      "index is  6\n",
      "Top 1th token. Logit: 0.23 Prob: 13.55% Label: |cat|\n",
      "Rank of the correct answer:\n",
      "Class Name: fluffy | Rank: 2 | ImageNet Index: 0\n",
      "Rank of the correct answer:\n",
      "Class Name: scaly | Rank: 6 | ImageNet Index: 1\n",
      "Rank of the correct answer:\n",
      "Class Name: smooth | Rank: 4 | ImageNet Index: 2\n",
      "Rank of the correct answer:\n",
      "Class Name: standing | Rank: 5 | ImageNet Index: 3\n",
      "Rank of the correct answer:\n",
      "Class Name: woman | Rank: 7 | ImageNet Index: 4\n",
      "Rank of the correct answer:\n",
      "Class Name: cute | Rank: 3 | ImageNet Index: 5\n",
      "Rank of the correct answer:\n",
      "Class Name: cat | Rank: 1 | ImageNet Index: 6\n",
      "Rank of the correct answer:\n",
      "Class Name: dog | Rank: 0 | ImageNet Index: 7\n"
     ]
    }
   ],
   "source": [
    "test_prompt(image_tensor.unsqueeze(0), model, text_features, example_answers=interesting_words, top_k=2)"
   ]
  },
  {
   "cell_type": "code",
   "execution_count": 278,
   "metadata": {},
   "outputs": [],
   "source": [
    "# test_prompt(image_tensor.unsqueeze(0), model, text_features_single, example_answers=[\"tabby\", \"Bernese mountain dog\"], top_k=2)"
   ]
  },
  {
   "cell_type": "markdown",
   "metadata": {
    "id": "u-TPJHZjy3fP"
   },
   "source": [
    "Previous conclusion\n",
    "> We can see that the net predicts tabby and Bernese mountain dog as the two most probable classes! This is close-to-accurate! The other candidates are various other dogs and cats.\n",
    "> \n",
    "> I am curious why the net decides the overall image is a tabby instead of a dog, when both animals are present. I'd naively expect the net to classify the image as dog because are more patches containing the dog.\n",
    "> \n",
    "> Let's run the model again and cache all the intermediate activations.\n",
    "\n",
    "Current conclusion\n",
    "\n",
    "We can see that the model mostly predicts dogs, while it just starts to predict cat at pos 14\n"
   ]
  },
  {
   "cell_type": "code",
   "execution_count": 279,
   "metadata": {},
   "outputs": [],
   "source": [
    "logit_scale = clip_model.logit_scale.exp()"
   ]
  },
  {
   "cell_type": "code",
   "execution_count": 280,
   "metadata": {
    "id": "ByDwBXKHwTIv"
   },
   "outputs": [],
   "source": [
    "# Run Cache\n",
    "image_features, cache = model.run_with_cache(image_tensor.unsqueeze(0))\n",
    "normalized_image_features = image_features / image_features.norm(dim=-1, keepdim=True)\n",
    "logits = logit_scale * normalized_image_features @ text_features.T"
   ]
  },
  {
   "cell_type": "code",
   "execution_count": 281,
   "metadata": {},
   "outputs": [
    {
     "data": {
      "text/plain": [
       "'fluffy'"
      ]
     },
     "execution_count": 281,
     "metadata": {},
     "output_type": "execute_result"
    }
   ],
   "source": [
    "IMAGENET_DICT[0]"
   ]
  },
  {
   "cell_type": "code",
   "execution_count": 282,
   "metadata": {},
   "outputs": [
    {
     "data": {
      "application/vnd.plotly.v1+json": {
       "config": {
        "plotlyServerURL": "https://plot.ly"
       },
       "data": [
        {
         "hovertemplate": "Class Index=%{x}<br>Logit Value=%{y}<extra></extra>",
         "legendgroup": "",
         "marker": {
          "color": "#636efa",
          "symbol": "circle"
         },
         "mode": "markers",
         "name": "",
         "orientation": "v",
         "showlegend": false,
         "type": "scatter",
         "x": [
          "fluffy",
          "scaly"
         ],
         "xaxis": "x",
         "y": [
          0.15861651301383972,
          0.003872239263728261
         ],
         "yaxis": "y"
        }
       ],
       "layout": {
        "autosize": true,
        "legend": {
         "tracegroupgap": 0
        },
        "template": {
         "data": {
          "bar": [
           {
            "error_x": {
             "color": "#2a3f5f"
            },
            "error_y": {
             "color": "#2a3f5f"
            },
            "marker": {
             "line": {
              "color": "#E5ECF6",
              "width": 0.5
             },
             "pattern": {
              "fillmode": "overlay",
              "size": 10,
              "solidity": 0.2
             }
            },
            "type": "bar"
           }
          ],
          "barpolar": [
           {
            "marker": {
             "line": {
              "color": "#E5ECF6",
              "width": 0.5
             },
             "pattern": {
              "fillmode": "overlay",
              "size": 10,
              "solidity": 0.2
             }
            },
            "type": "barpolar"
           }
          ],
          "carpet": [
           {
            "aaxis": {
             "endlinecolor": "#2a3f5f",
             "gridcolor": "white",
             "linecolor": "white",
             "minorgridcolor": "white",
             "startlinecolor": "#2a3f5f"
            },
            "baxis": {
             "endlinecolor": "#2a3f5f",
             "gridcolor": "white",
             "linecolor": "white",
             "minorgridcolor": "white",
             "startlinecolor": "#2a3f5f"
            },
            "type": "carpet"
           }
          ],
          "choropleth": [
           {
            "colorbar": {
             "outlinewidth": 0,
             "ticks": ""
            },
            "type": "choropleth"
           }
          ],
          "contour": [
           {
            "colorbar": {
             "outlinewidth": 0,
             "ticks": ""
            },
            "colorscale": [
             [
              0,
              "#0d0887"
             ],
             [
              0.1111111111111111,
              "#46039f"
             ],
             [
              0.2222222222222222,
              "#7201a8"
             ],
             [
              0.3333333333333333,
              "#9c179e"
             ],
             [
              0.4444444444444444,
              "#bd3786"
             ],
             [
              0.5555555555555556,
              "#d8576b"
             ],
             [
              0.6666666666666666,
              "#ed7953"
             ],
             [
              0.7777777777777778,
              "#fb9f3a"
             ],
             [
              0.8888888888888888,
              "#fdca26"
             ],
             [
              1,
              "#f0f921"
             ]
            ],
            "type": "contour"
           }
          ],
          "contourcarpet": [
           {
            "colorbar": {
             "outlinewidth": 0,
             "ticks": ""
            },
            "type": "contourcarpet"
           }
          ],
          "heatmap": [
           {
            "colorbar": {
             "outlinewidth": 0,
             "ticks": ""
            },
            "colorscale": [
             [
              0,
              "#0d0887"
             ],
             [
              0.1111111111111111,
              "#46039f"
             ],
             [
              0.2222222222222222,
              "#7201a8"
             ],
             [
              0.3333333333333333,
              "#9c179e"
             ],
             [
              0.4444444444444444,
              "#bd3786"
             ],
             [
              0.5555555555555556,
              "#d8576b"
             ],
             [
              0.6666666666666666,
              "#ed7953"
             ],
             [
              0.7777777777777778,
              "#fb9f3a"
             ],
             [
              0.8888888888888888,
              "#fdca26"
             ],
             [
              1,
              "#f0f921"
             ]
            ],
            "type": "heatmap"
           }
          ],
          "heatmapgl": [
           {
            "colorbar": {
             "outlinewidth": 0,
             "ticks": ""
            },
            "colorscale": [
             [
              0,
              "#0d0887"
             ],
             [
              0.1111111111111111,
              "#46039f"
             ],
             [
              0.2222222222222222,
              "#7201a8"
             ],
             [
              0.3333333333333333,
              "#9c179e"
             ],
             [
              0.4444444444444444,
              "#bd3786"
             ],
             [
              0.5555555555555556,
              "#d8576b"
             ],
             [
              0.6666666666666666,
              "#ed7953"
             ],
             [
              0.7777777777777778,
              "#fb9f3a"
             ],
             [
              0.8888888888888888,
              "#fdca26"
             ],
             [
              1,
              "#f0f921"
             ]
            ],
            "type": "heatmapgl"
           }
          ],
          "histogram": [
           {
            "marker": {
             "pattern": {
              "fillmode": "overlay",
              "size": 10,
              "solidity": 0.2
             }
            },
            "type": "histogram"
           }
          ],
          "histogram2d": [
           {
            "colorbar": {
             "outlinewidth": 0,
             "ticks": ""
            },
            "colorscale": [
             [
              0,
              "#0d0887"
             ],
             [
              0.1111111111111111,
              "#46039f"
             ],
             [
              0.2222222222222222,
              "#7201a8"
             ],
             [
              0.3333333333333333,
              "#9c179e"
             ],
             [
              0.4444444444444444,
              "#bd3786"
             ],
             [
              0.5555555555555556,
              "#d8576b"
             ],
             [
              0.6666666666666666,
              "#ed7953"
             ],
             [
              0.7777777777777778,
              "#fb9f3a"
             ],
             [
              0.8888888888888888,
              "#fdca26"
             ],
             [
              1,
              "#f0f921"
             ]
            ],
            "type": "histogram2d"
           }
          ],
          "histogram2dcontour": [
           {
            "colorbar": {
             "outlinewidth": 0,
             "ticks": ""
            },
            "colorscale": [
             [
              0,
              "#0d0887"
             ],
             [
              0.1111111111111111,
              "#46039f"
             ],
             [
              0.2222222222222222,
              "#7201a8"
             ],
             [
              0.3333333333333333,
              "#9c179e"
             ],
             [
              0.4444444444444444,
              "#bd3786"
             ],
             [
              0.5555555555555556,
              "#d8576b"
             ],
             [
              0.6666666666666666,
              "#ed7953"
             ],
             [
              0.7777777777777778,
              "#fb9f3a"
             ],
             [
              0.8888888888888888,
              "#fdca26"
             ],
             [
              1,
              "#f0f921"
             ]
            ],
            "type": "histogram2dcontour"
           }
          ],
          "mesh3d": [
           {
            "colorbar": {
             "outlinewidth": 0,
             "ticks": ""
            },
            "type": "mesh3d"
           }
          ],
          "parcoords": [
           {
            "line": {
             "colorbar": {
              "outlinewidth": 0,
              "ticks": ""
             }
            },
            "type": "parcoords"
           }
          ],
          "pie": [
           {
            "automargin": true,
            "type": "pie"
           }
          ],
          "scatter": [
           {
            "fillpattern": {
             "fillmode": "overlay",
             "size": 10,
             "solidity": 0.2
            },
            "type": "scatter"
           }
          ],
          "scatter3d": [
           {
            "line": {
             "colorbar": {
              "outlinewidth": 0,
              "ticks": ""
             }
            },
            "marker": {
             "colorbar": {
              "outlinewidth": 0,
              "ticks": ""
             }
            },
            "type": "scatter3d"
           }
          ],
          "scattercarpet": [
           {
            "marker": {
             "colorbar": {
              "outlinewidth": 0,
              "ticks": ""
             }
            },
            "type": "scattercarpet"
           }
          ],
          "scattergeo": [
           {
            "marker": {
             "colorbar": {
              "outlinewidth": 0,
              "ticks": ""
             }
            },
            "type": "scattergeo"
           }
          ],
          "scattergl": [
           {
            "marker": {
             "colorbar": {
              "outlinewidth": 0,
              "ticks": ""
             }
            },
            "type": "scattergl"
           }
          ],
          "scattermapbox": [
           {
            "marker": {
             "colorbar": {
              "outlinewidth": 0,
              "ticks": ""
             }
            },
            "type": "scattermapbox"
           }
          ],
          "scatterpolar": [
           {
            "marker": {
             "colorbar": {
              "outlinewidth": 0,
              "ticks": ""
             }
            },
            "type": "scatterpolar"
           }
          ],
          "scatterpolargl": [
           {
            "marker": {
             "colorbar": {
              "outlinewidth": 0,
              "ticks": ""
             }
            },
            "type": "scatterpolargl"
           }
          ],
          "scatterternary": [
           {
            "marker": {
             "colorbar": {
              "outlinewidth": 0,
              "ticks": ""
             }
            },
            "type": "scatterternary"
           }
          ],
          "surface": [
           {
            "colorbar": {
             "outlinewidth": 0,
             "ticks": ""
            },
            "colorscale": [
             [
              0,
              "#0d0887"
             ],
             [
              0.1111111111111111,
              "#46039f"
             ],
             [
              0.2222222222222222,
              "#7201a8"
             ],
             [
              0.3333333333333333,
              "#9c179e"
             ],
             [
              0.4444444444444444,
              "#bd3786"
             ],
             [
              0.5555555555555556,
              "#d8576b"
             ],
             [
              0.6666666666666666,
              "#ed7953"
             ],
             [
              0.7777777777777778,
              "#fb9f3a"
             ],
             [
              0.8888888888888888,
              "#fdca26"
             ],
             [
              1,
              "#f0f921"
             ]
            ],
            "type": "surface"
           }
          ],
          "table": [
           {
            "cells": {
             "fill": {
              "color": "#EBF0F8"
             },
             "line": {
              "color": "white"
             }
            },
            "header": {
             "fill": {
              "color": "#C8D4E3"
             },
             "line": {
              "color": "white"
             }
            },
            "type": "table"
           }
          ]
         },
         "layout": {
          "annotationdefaults": {
           "arrowcolor": "#2a3f5f",
           "arrowhead": 0,
           "arrowwidth": 1
          },
          "autotypenumbers": "strict",
          "coloraxis": {
           "colorbar": {
            "outlinewidth": 0,
            "ticks": ""
           }
          },
          "colorscale": {
           "diverging": [
            [
             0,
             "#8e0152"
            ],
            [
             0.1,
             "#c51b7d"
            ],
            [
             0.2,
             "#de77ae"
            ],
            [
             0.3,
             "#f1b6da"
            ],
            [
             0.4,
             "#fde0ef"
            ],
            [
             0.5,
             "#f7f7f7"
            ],
            [
             0.6,
             "#e6f5d0"
            ],
            [
             0.7,
             "#b8e186"
            ],
            [
             0.8,
             "#7fbc41"
            ],
            [
             0.9,
             "#4d9221"
            ],
            [
             1,
             "#276419"
            ]
           ],
           "sequential": [
            [
             0,
             "#0d0887"
            ],
            [
             0.1111111111111111,
             "#46039f"
            ],
            [
             0.2222222222222222,
             "#7201a8"
            ],
            [
             0.3333333333333333,
             "#9c179e"
            ],
            [
             0.4444444444444444,
             "#bd3786"
            ],
            [
             0.5555555555555556,
             "#d8576b"
            ],
            [
             0.6666666666666666,
             "#ed7953"
            ],
            [
             0.7777777777777778,
             "#fb9f3a"
            ],
            [
             0.8888888888888888,
             "#fdca26"
            ],
            [
             1,
             "#f0f921"
            ]
           ],
           "sequentialminus": [
            [
             0,
             "#0d0887"
            ],
            [
             0.1111111111111111,
             "#46039f"
            ],
            [
             0.2222222222222222,
             "#7201a8"
            ],
            [
             0.3333333333333333,
             "#9c179e"
            ],
            [
             0.4444444444444444,
             "#bd3786"
            ],
            [
             0.5555555555555556,
             "#d8576b"
            ],
            [
             0.6666666666666666,
             "#ed7953"
            ],
            [
             0.7777777777777778,
             "#fb9f3a"
            ],
            [
             0.8888888888888888,
             "#fdca26"
            ],
            [
             1,
             "#f0f921"
            ]
           ]
          },
          "colorway": [
           "#636efa",
           "#EF553B",
           "#00cc96",
           "#ab63fa",
           "#FFA15A",
           "#19d3f3",
           "#FF6692",
           "#B6E880",
           "#FF97FF",
           "#FECB52"
          ],
          "font": {
           "color": "#2a3f5f"
          },
          "geo": {
           "bgcolor": "white",
           "lakecolor": "white",
           "landcolor": "#E5ECF6",
           "showlakes": true,
           "showland": true,
           "subunitcolor": "white"
          },
          "hoverlabel": {
           "align": "left"
          },
          "hovermode": "closest",
          "mapbox": {
           "style": "light"
          },
          "paper_bgcolor": "white",
          "plot_bgcolor": "#E5ECF6",
          "polar": {
           "angularaxis": {
            "gridcolor": "white",
            "linecolor": "white",
            "ticks": ""
           },
           "bgcolor": "#E5ECF6",
           "radialaxis": {
            "gridcolor": "white",
            "linecolor": "white",
            "ticks": ""
           }
          },
          "scene": {
           "xaxis": {
            "backgroundcolor": "#E5ECF6",
            "gridcolor": "white",
            "gridwidth": 2,
            "linecolor": "white",
            "showbackground": true,
            "ticks": "",
            "zerolinecolor": "white"
           },
           "yaxis": {
            "backgroundcolor": "#E5ECF6",
            "gridcolor": "white",
            "gridwidth": 2,
            "linecolor": "white",
            "showbackground": true,
            "ticks": "",
            "zerolinecolor": "white"
           },
           "zaxis": {
            "backgroundcolor": "#E5ECF6",
            "gridcolor": "white",
            "gridwidth": 2,
            "linecolor": "white",
            "showbackground": true,
            "ticks": "",
            "zerolinecolor": "white"
           }
          },
          "shapedefaults": {
           "line": {
            "color": "#2a3f5f"
           }
          },
          "ternary": {
           "aaxis": {
            "gridcolor": "white",
            "linecolor": "white",
            "ticks": ""
           },
           "baxis": {
            "gridcolor": "white",
            "linecolor": "white",
            "ticks": ""
           },
           "bgcolor": "#E5ECF6",
           "caxis": {
            "gridcolor": "white",
            "linecolor": "white",
            "ticks": ""
           }
          },
          "title": {
           "x": 0.05
          },
          "xaxis": {
           "automargin": true,
           "gridcolor": "white",
           "linecolor": "white",
           "ticks": "",
           "title": {
            "standoff": 15
           },
           "zerolinecolor": "white",
           "zerolinewidth": 2
          },
          "yaxis": {
           "automargin": true,
           "gridcolor": "white",
           "linecolor": "white",
           "ticks": "",
           "title": {
            "standoff": 15
           },
           "zerolinecolor": "white",
           "zerolinewidth": 2
          }
         }
        },
        "title": {
         "text": "Logit Value for Each Class"
        },
        "xaxis": {
         "anchor": "y",
         "autorange": true,
         "domain": [
          0,
          1
         ],
         "range": [
          -0.06426332288401254,
          1.0642633228840126
         ],
         "title": {
          "text": "Class Index"
         },
         "type": "category"
        },
        "yaxis": {
         "anchor": "x",
         "autorange": true,
         "domain": [
          0,
          1
         ],
         "range": [
          -0.008897919249630452,
          0.17138667152719844
         ],
         "title": {
          "text": "Logit Value"
         },
         "type": "linear"
        }
       }
      },
      "text/html": [
       "<div>                            <div id=\"bb7d4d98-72fc-4fac-bc16-055d3ef96a52\" class=\"plotly-graph-div\" style=\"height:525px; width:100%;\"></div>            <script type=\"text/javascript\">                require([\"plotly\"], function(Plotly) {                    window.PLOTLYENV=window.PLOTLYENV || {};                                    if (document.getElementById(\"bb7d4d98-72fc-4fac-bc16-055d3ef96a52\")) {                    Plotly.newPlot(                        \"bb7d4d98-72fc-4fac-bc16-055d3ef96a52\",                        [{\"hovertemplate\":\"Class Index=%{x}\\u003cbr\\u003eLogit Value=%{y}\\u003cextra\\u003e\\u003c\\u002fextra\\u003e\",\"legendgroup\":\"\",\"marker\":{\"color\":\"#636efa\",\"symbol\":\"circle\"},\"mode\":\"markers\",\"name\":\"\",\"orientation\":\"v\",\"showlegend\":false,\"x\":[\"fluffy\",\"scaly\"],\"xaxis\":\"x\",\"y\":[0.15861651301383972,0.003872239263728261],\"yaxis\":\"y\",\"type\":\"scatter\"}],                        {\"template\":{\"data\":{\"histogram2dcontour\":[{\"type\":\"histogram2dcontour\",\"colorbar\":{\"outlinewidth\":0,\"ticks\":\"\"},\"colorscale\":[[0.0,\"#0d0887\"],[0.1111111111111111,\"#46039f\"],[0.2222222222222222,\"#7201a8\"],[0.3333333333333333,\"#9c179e\"],[0.4444444444444444,\"#bd3786\"],[0.5555555555555556,\"#d8576b\"],[0.6666666666666666,\"#ed7953\"],[0.7777777777777778,\"#fb9f3a\"],[0.8888888888888888,\"#fdca26\"],[1.0,\"#f0f921\"]]}],\"choropleth\":[{\"type\":\"choropleth\",\"colorbar\":{\"outlinewidth\":0,\"ticks\":\"\"}}],\"histogram2d\":[{\"type\":\"histogram2d\",\"colorbar\":{\"outlinewidth\":0,\"ticks\":\"\"},\"colorscale\":[[0.0,\"#0d0887\"],[0.1111111111111111,\"#46039f\"],[0.2222222222222222,\"#7201a8\"],[0.3333333333333333,\"#9c179e\"],[0.4444444444444444,\"#bd3786\"],[0.5555555555555556,\"#d8576b\"],[0.6666666666666666,\"#ed7953\"],[0.7777777777777778,\"#fb9f3a\"],[0.8888888888888888,\"#fdca26\"],[1.0,\"#f0f921\"]]}],\"heatmap\":[{\"type\":\"heatmap\",\"colorbar\":{\"outlinewidth\":0,\"ticks\":\"\"},\"colorscale\":[[0.0,\"#0d0887\"],[0.1111111111111111,\"#46039f\"],[0.2222222222222222,\"#7201a8\"],[0.3333333333333333,\"#9c179e\"],[0.4444444444444444,\"#bd3786\"],[0.5555555555555556,\"#d8576b\"],[0.6666666666666666,\"#ed7953\"],[0.7777777777777778,\"#fb9f3a\"],[0.8888888888888888,\"#fdca26\"],[1.0,\"#f0f921\"]]}],\"heatmapgl\":[{\"type\":\"heatmapgl\",\"colorbar\":{\"outlinewidth\":0,\"ticks\":\"\"},\"colorscale\":[[0.0,\"#0d0887\"],[0.1111111111111111,\"#46039f\"],[0.2222222222222222,\"#7201a8\"],[0.3333333333333333,\"#9c179e\"],[0.4444444444444444,\"#bd3786\"],[0.5555555555555556,\"#d8576b\"],[0.6666666666666666,\"#ed7953\"],[0.7777777777777778,\"#fb9f3a\"],[0.8888888888888888,\"#fdca26\"],[1.0,\"#f0f921\"]]}],\"contourcarpet\":[{\"type\":\"contourcarpet\",\"colorbar\":{\"outlinewidth\":0,\"ticks\":\"\"}}],\"contour\":[{\"type\":\"contour\",\"colorbar\":{\"outlinewidth\":0,\"ticks\":\"\"},\"colorscale\":[[0.0,\"#0d0887\"],[0.1111111111111111,\"#46039f\"],[0.2222222222222222,\"#7201a8\"],[0.3333333333333333,\"#9c179e\"],[0.4444444444444444,\"#bd3786\"],[0.5555555555555556,\"#d8576b\"],[0.6666666666666666,\"#ed7953\"],[0.7777777777777778,\"#fb9f3a\"],[0.8888888888888888,\"#fdca26\"],[1.0,\"#f0f921\"]]}],\"surface\":[{\"type\":\"surface\",\"colorbar\":{\"outlinewidth\":0,\"ticks\":\"\"},\"colorscale\":[[0.0,\"#0d0887\"],[0.1111111111111111,\"#46039f\"],[0.2222222222222222,\"#7201a8\"],[0.3333333333333333,\"#9c179e\"],[0.4444444444444444,\"#bd3786\"],[0.5555555555555556,\"#d8576b\"],[0.6666666666666666,\"#ed7953\"],[0.7777777777777778,\"#fb9f3a\"],[0.8888888888888888,\"#fdca26\"],[1.0,\"#f0f921\"]]}],\"mesh3d\":[{\"type\":\"mesh3d\",\"colorbar\":{\"outlinewidth\":0,\"ticks\":\"\"}}],\"scatter\":[{\"fillpattern\":{\"fillmode\":\"overlay\",\"size\":10,\"solidity\":0.2},\"type\":\"scatter\"}],\"parcoords\":[{\"type\":\"parcoords\",\"line\":{\"colorbar\":{\"outlinewidth\":0,\"ticks\":\"\"}}}],\"scatterpolargl\":[{\"type\":\"scatterpolargl\",\"marker\":{\"colorbar\":{\"outlinewidth\":0,\"ticks\":\"\"}}}],\"bar\":[{\"error_x\":{\"color\":\"#2a3f5f\"},\"error_y\":{\"color\":\"#2a3f5f\"},\"marker\":{\"line\":{\"color\":\"#E5ECF6\",\"width\":0.5},\"pattern\":{\"fillmode\":\"overlay\",\"size\":10,\"solidity\":0.2}},\"type\":\"bar\"}],\"scattergeo\":[{\"type\":\"scattergeo\",\"marker\":{\"colorbar\":{\"outlinewidth\":0,\"ticks\":\"\"}}}],\"scatterpolar\":[{\"type\":\"scatterpolar\",\"marker\":{\"colorbar\":{\"outlinewidth\":0,\"ticks\":\"\"}}}],\"histogram\":[{\"marker\":{\"pattern\":{\"fillmode\":\"overlay\",\"size\":10,\"solidity\":0.2}},\"type\":\"histogram\"}],\"scattergl\":[{\"type\":\"scattergl\",\"marker\":{\"colorbar\":{\"outlinewidth\":0,\"ticks\":\"\"}}}],\"scatter3d\":[{\"type\":\"scatter3d\",\"line\":{\"colorbar\":{\"outlinewidth\":0,\"ticks\":\"\"}},\"marker\":{\"colorbar\":{\"outlinewidth\":0,\"ticks\":\"\"}}}],\"scattermapbox\":[{\"type\":\"scattermapbox\",\"marker\":{\"colorbar\":{\"outlinewidth\":0,\"ticks\":\"\"}}}],\"scatterternary\":[{\"type\":\"scatterternary\",\"marker\":{\"colorbar\":{\"outlinewidth\":0,\"ticks\":\"\"}}}],\"scattercarpet\":[{\"type\":\"scattercarpet\",\"marker\":{\"colorbar\":{\"outlinewidth\":0,\"ticks\":\"\"}}}],\"carpet\":[{\"aaxis\":{\"endlinecolor\":\"#2a3f5f\",\"gridcolor\":\"white\",\"linecolor\":\"white\",\"minorgridcolor\":\"white\",\"startlinecolor\":\"#2a3f5f\"},\"baxis\":{\"endlinecolor\":\"#2a3f5f\",\"gridcolor\":\"white\",\"linecolor\":\"white\",\"minorgridcolor\":\"white\",\"startlinecolor\":\"#2a3f5f\"},\"type\":\"carpet\"}],\"table\":[{\"cells\":{\"fill\":{\"color\":\"#EBF0F8\"},\"line\":{\"color\":\"white\"}},\"header\":{\"fill\":{\"color\":\"#C8D4E3\"},\"line\":{\"color\":\"white\"}},\"type\":\"table\"}],\"barpolar\":[{\"marker\":{\"line\":{\"color\":\"#E5ECF6\",\"width\":0.5},\"pattern\":{\"fillmode\":\"overlay\",\"size\":10,\"solidity\":0.2}},\"type\":\"barpolar\"}],\"pie\":[{\"automargin\":true,\"type\":\"pie\"}]},\"layout\":{\"autotypenumbers\":\"strict\",\"colorway\":[\"#636efa\",\"#EF553B\",\"#00cc96\",\"#ab63fa\",\"#FFA15A\",\"#19d3f3\",\"#FF6692\",\"#B6E880\",\"#FF97FF\",\"#FECB52\"],\"font\":{\"color\":\"#2a3f5f\"},\"hovermode\":\"closest\",\"hoverlabel\":{\"align\":\"left\"},\"paper_bgcolor\":\"white\",\"plot_bgcolor\":\"#E5ECF6\",\"polar\":{\"bgcolor\":\"#E5ECF6\",\"angularaxis\":{\"gridcolor\":\"white\",\"linecolor\":\"white\",\"ticks\":\"\"},\"radialaxis\":{\"gridcolor\":\"white\",\"linecolor\":\"white\",\"ticks\":\"\"}},\"ternary\":{\"bgcolor\":\"#E5ECF6\",\"aaxis\":{\"gridcolor\":\"white\",\"linecolor\":\"white\",\"ticks\":\"\"},\"baxis\":{\"gridcolor\":\"white\",\"linecolor\":\"white\",\"ticks\":\"\"},\"caxis\":{\"gridcolor\":\"white\",\"linecolor\":\"white\",\"ticks\":\"\"}},\"coloraxis\":{\"colorbar\":{\"outlinewidth\":0,\"ticks\":\"\"}},\"colorscale\":{\"sequential\":[[0.0,\"#0d0887\"],[0.1111111111111111,\"#46039f\"],[0.2222222222222222,\"#7201a8\"],[0.3333333333333333,\"#9c179e\"],[0.4444444444444444,\"#bd3786\"],[0.5555555555555556,\"#d8576b\"],[0.6666666666666666,\"#ed7953\"],[0.7777777777777778,\"#fb9f3a\"],[0.8888888888888888,\"#fdca26\"],[1.0,\"#f0f921\"]],\"sequentialminus\":[[0.0,\"#0d0887\"],[0.1111111111111111,\"#46039f\"],[0.2222222222222222,\"#7201a8\"],[0.3333333333333333,\"#9c179e\"],[0.4444444444444444,\"#bd3786\"],[0.5555555555555556,\"#d8576b\"],[0.6666666666666666,\"#ed7953\"],[0.7777777777777778,\"#fb9f3a\"],[0.8888888888888888,\"#fdca26\"],[1.0,\"#f0f921\"]],\"diverging\":[[0,\"#8e0152\"],[0.1,\"#c51b7d\"],[0.2,\"#de77ae\"],[0.3,\"#f1b6da\"],[0.4,\"#fde0ef\"],[0.5,\"#f7f7f7\"],[0.6,\"#e6f5d0\"],[0.7,\"#b8e186\"],[0.8,\"#7fbc41\"],[0.9,\"#4d9221\"],[1,\"#276419\"]]},\"xaxis\":{\"gridcolor\":\"white\",\"linecolor\":\"white\",\"ticks\":\"\",\"title\":{\"standoff\":15},\"zerolinecolor\":\"white\",\"automargin\":true,\"zerolinewidth\":2},\"yaxis\":{\"gridcolor\":\"white\",\"linecolor\":\"white\",\"ticks\":\"\",\"title\":{\"standoff\":15},\"zerolinecolor\":\"white\",\"automargin\":true,\"zerolinewidth\":2},\"scene\":{\"xaxis\":{\"backgroundcolor\":\"#E5ECF6\",\"gridcolor\":\"white\",\"linecolor\":\"white\",\"showbackground\":true,\"ticks\":\"\",\"zerolinecolor\":\"white\",\"gridwidth\":2},\"yaxis\":{\"backgroundcolor\":\"#E5ECF6\",\"gridcolor\":\"white\",\"linecolor\":\"white\",\"showbackground\":true,\"ticks\":\"\",\"zerolinecolor\":\"white\",\"gridwidth\":2},\"zaxis\":{\"backgroundcolor\":\"#E5ECF6\",\"gridcolor\":\"white\",\"linecolor\":\"white\",\"showbackground\":true,\"ticks\":\"\",\"zerolinecolor\":\"white\",\"gridwidth\":2}},\"shapedefaults\":{\"line\":{\"color\":\"#2a3f5f\"}},\"annotationdefaults\":{\"arrowcolor\":\"#2a3f5f\",\"arrowhead\":0,\"arrowwidth\":1},\"geo\":{\"bgcolor\":\"white\",\"landcolor\":\"#E5ECF6\",\"subunitcolor\":\"white\",\"showland\":true,\"showlakes\":true,\"lakecolor\":\"white\"},\"title\":{\"x\":0.05},\"mapbox\":{\"style\":\"light\"}}},\"xaxis\":{\"anchor\":\"y\",\"domain\":[0.0,1.0],\"title\":{\"text\":\"Class Index\"}},\"yaxis\":{\"anchor\":\"x\",\"domain\":[0.0,1.0],\"title\":{\"text\":\"Logit Value\"}},\"legend\":{\"tracegroupgap\":0},\"title\":{\"text\":\"Logit Value for Each Class\"}},                        {\"responsive\": true}                    ).then(function(){\n",
       "                            \n",
       "var gd = document.getElementById('bb7d4d98-72fc-4fac-bc16-055d3ef96a52');\n",
       "var x = new MutationObserver(function (mutations, observer) {{\n",
       "        var display = window.getComputedStyle(gd).display;\n",
       "        if (!display || display === 'none') {{\n",
       "            console.log([gd, 'removed!']);\n",
       "            Plotly.purge(gd);\n",
       "            observer.disconnect();\n",
       "        }}\n",
       "}});\n",
       "\n",
       "// Listen for the removal of the full notebook cells\n",
       "var notebookContainer = gd.closest('#notebook-container');\n",
       "if (notebookContainer) {{\n",
       "    x.observe(notebookContainer, {childList: true});\n",
       "}}\n",
       "\n",
       "// Listen for the clearing of the current output cell\n",
       "var outputEl = gd.closest('.output');\n",
       "if (outputEl) {{\n",
       "    x.observe(outputEl, {childList: true});\n",
       "}}\n",
       "\n",
       "                        })                };                });            </script>        </div>"
      ]
     },
     "metadata": {},
     "output_type": "display_data"
    }
   ],
   "source": [
    "# plot scatter plot of logits, x axis is the class index, y axis is the logit value\n",
    "import plotly.express as px\n",
    "import plotly.graph_objects as go\n",
    "\n",
    "left_index = 0\n",
    "right_index = 1\n",
    "\n",
    "# only plot [left_index, right_index] classes\n",
    "logits_np = logits.softmax(dim=-1).squeeze(0).detach().numpy()\n",
    "logits_np = logits_np[left_index:right_index+1]\n",
    "class_indices = np.arange(left_index, right_index+1)\n",
    "class_names = [IMAGENET_DICT[i] for i in class_indices]\n",
    "fig = px.scatter(x=class_names, y=logits_np, labels={'x': 'Class Index', 'y': 'Logit Value'}, title='Logit Value for Each Class')\n",
    "fig.show()\n",
    "\n",
    "\n"
   ]
  },
  {
   "cell_type": "markdown",
   "metadata": {
    "id": "YxIKmzx8nQOJ"
   },
   "source": [
    "# Logit Attribution\n",
    "\n",
    "We want to see how each internal component of the model is impacting its output. Direct logit attribution is a powerful technique to do so.\n",
    "\n",
    "<details> <summary>Background</summary>\n",
    "\n",
    "Compared to past architectures like CNNs and RNNs, transformers are unusually interpretable. This is partially because transformers are highly linear, which means we can easily decompose the output of each layer into the contributions of its previous parts.\n",
    "\n",
    "The residual stream of the transformer is the cumulative sum of the outputs of the previous layers, plus the original patch and position embedding.\n",
    "\n",
    "The output of each attention layer can be decomposed into a sum of the attention heads; and the output of each MLP layer can be decomposed into the sum of each neuron.\n",
    "\n",
    "The final logits of the model are `logits=ClassificationHead(LayerNorm(final_residual_stream)`. The classification head is a linear layer, and the LayerNorm is *approximately* a linear layer. Thus, we can decompose the logits into the sum of components, and see which components contribute most to the logit of the correct answer.\n",
    "\n",
    "For example, the tabby cat logit has an index of 281 in our 1000-logit classification head. We can decompose the transformer to see which components of the transformer (MLP layers, attention heads, etc) contribute most strongly to the tabby cat logit.\n",
    "\n",
    "For details on the linear structure of transformer, check out [A Mathematical Framework for Transformer Circuits](https://transformer-circuits.pub/2021/framework/index.html).\n",
    "\n",
    "For more details on direct logit attribution, check out the mech interp explainer [here](https://dynalist.io/d/n2ZWtnoYHrU1s4vnFSAQ519J#z=disz2gTx-jooAcR0a5r8e7LZ) and the original Exploratory Analysis notebook [here](https://colab.research.google.com/github/neelnanda-io/TransformerLens/blob/main/demos/Exploratory_Analysis_Demo.ipynb#scrollTo=tGz70kpdiPzs).\n",
    "\n",
    "<details> <summary> Folding LayerNorm </summary>\n",
    "\n",
    "The original LayerNorm implementation, which is a center and scale, messes with the linearity described above. The LayerNorm is almost a linear operation except for the scaling factor; but thankfully, if we fix the scale factor, then it becomes a global property. Thus, we can create an approximation of the LayerNorm that factors out the linear parts with 'fold_ln' when we load the model, and we can move the scaling factor to the end of the residual stream as a global computation with 'apply_ln'.\n",
    "For more information, check out the [original rationale](https://github.com/neelnanda-io/TransformerLens/blob/main/further_comments.md) on TransformerLens.\n",
    "</details>\n",
    "\n"
   ]
  },
  {
   "cell_type": "markdown",
   "metadata": {
    "id": "tffA0RFnq2ow"
   },
   "source": [
    "Let's snag the ImageNet indexes for tabby and border collie.\n",
    "\n",
    "<details> <summary> An aside on superclasses </summary>\n",
    "It's possible to run our analysis with superclasses (e.g. cats vs dogs), whose coarser granularity may more readily reveal properties of the model. However, we'll leave that for a future exercise and focus on these two specific classes.\n",
    "</details>"
   ]
  },
  {
   "cell_type": "code",
   "execution_count": 283,
   "metadata": {
    "id": "DNIt2u66nsij"
   },
   "outputs": [
    {
     "name": "stdout",
     "output_type": "stream",
     "text": [
      "fluffy  index  0\n",
      "scaly  index  1\n",
      "smooth  index  2\n",
      "standing  index  3\n",
      "woman  index  4\n",
      "cute  index  5\n",
      "cat  index  6\n",
      "dog  index  7\n"
     ]
    }
   ],
   "source": [
    "## Accumulated residual\n",
    "\n",
    "interesting_indexes = [imagenet_index_from_word(interesting_word) for interesting_word in interesting_words]\n",
    "\n",
    "\n",
    "for i, interesting_index in enumerate(interesting_indexes):\n",
    "    print(interesting_words[i],\" index \", interesting_index)\n",
    "\n"
   ]
  },
  {
   "cell_type": "markdown",
   "metadata": {
    "id": "7eccOgoVrLcz"
   },
   "source": [
    "Let's get the residual directions of the tabby and Border Collie.\n",
    "\n",
    "The residual directions are simply indexing into the classication head, which is represented as a 768 x 1000 matrix. We take the columns that correspond with the cat and dog indices. We're taking these size 768 vectors as our residual directions."
   ]
  },
  {
   "cell_type": "code",
   "execution_count": 284,
   "metadata": {},
   "outputs": [],
   "source": [
    "import einops\n",
    "def tokens_to_residual_directions_clip(model: HookedViT, labels, text_features: torch.Tensor):\n",
    "    \n",
    "    answer_residual_directions = model.head.W_H[:,labels]  \n",
    "    answer_residual_directions = einops.rearrange(\n",
    "                    answer_residual_directions, \"d_model ... -> ... d_model\"\n",
    "                )\n",
    "    \n",
    "    return answer_residual_directions"
   ]
  },
  {
   "cell_type": "code",
   "execution_count": 285,
   "metadata": {},
   "outputs": [
    {
     "data": {
      "text/plain": [
       "torch.Size([512, 512])"
      ]
     },
     "execution_count": 285,
     "metadata": {},
     "output_type": "execute_result"
    }
   ],
   "source": [
    "model.head.W_H.shape # (d_model, num_classes) for vit (d_model, d_model) for clip"
   ]
  },
  {
   "cell_type": "code",
   "execution_count": 286,
   "metadata": {},
   "outputs": [
    {
     "data": {
      "text/plain": [
       "True"
      ]
     },
     "execution_count": 286,
     "metadata": {},
     "output_type": "execute_result"
    }
   ],
   "source": [
    "\n",
    "# Put 0 to get CLS token at beginning\n",
    "cls_token_residual_stream = cache[\"resid_post\", -1][:, 0, :]\n",
    "scaled_final_token_residual_stream = cache.apply_ln_to_stack(cls_token_residual_stream, layer=-1, pos_slice=0 )\n",
    "# Note: We can also use the cache result\n",
    "torch.allclose(scaled_final_token_residual_stream, cache[\"ln_final.hook_normalized\"][:,0,:])"
   ]
  },
  {
   "cell_type": "code",
   "execution_count": 287,
   "metadata": {},
   "outputs": [
    {
     "data": {
      "text/plain": [
       "torch.Size([1, 512])"
      ]
     },
     "execution_count": 287,
     "metadata": {},
     "output_type": "execute_result"
    }
   ],
   "source": [
    "pre_proj_cls_token = cache[\"ln_final.hook_normalized\"][:,0,:]\n",
    "pre_proj_cls_token.shape"
   ]
  },
  {
   "cell_type": "code",
   "execution_count": 288,
   "metadata": {},
   "outputs": [],
   "source": [
    "def get_W_H(\n",
    "    model: HookedViT,\n",
    "    token: torch.Tensor,\n",
    "    normalized_text_features: torch.Tensor,\n",
    "    logit_scale: torch.Tensor,\n",
    ") -> torch.Tensor:\n",
    "    n = (token @ model.head.W_H + model.head.b_H).norm(dim=-1, keepdim=True)\n",
    "    scaled_text_features = logit_scale * normalized_text_features.T\n",
    "    return model.head.W_H / n @ scaled_text_features\n",
    "\n",
    "\n",
    "def get_b_H(\n",
    "    model: HookedViT,\n",
    "    token: torch.Tensor,\n",
    "    normalized_text_features: torch.Tensor,\n",
    "    logit_scale: torch.Tensor,\n",
    ") -> torch.Tensor:\n",
    "    n = (token @ model.head.W_H + model.head.b_H).norm(dim=-1, keepdim=True)\n",
    "    scaled_text_features = logit_scale * normalized_text_features.T\n",
    "    return model.head.b_H / n @ scaled_text_features\n",
    "\n",
    "\"\"\"\n",
    "post_proj_cls = clstok @ model.head.W_H + model.head.b_H\n",
    "c = (clstok @ model.head.W_H + model.head.b_H).norm(dim=-1, keepdim=True)\n",
    "scaled_text_features = logit_scale * text_features.T\n",
    "logits_2 = clstok @ (model.head.W_H/c @ scaled_text_features) + model.head.b_H/c @ scaled_text_features\n",
    "\"\"\"\n",
    "\n",
    "\n",
    "def tokens_to_residual_directions(\n",
    "    model: HookedViT,\n",
    "    indices: np.ndarray,\n",
    "    token: torch.Tensor,\n",
    "    normalized_text_features: torch.Tensor,\n",
    "    logit_scale: torch.Tensor,\n",
    "):\n",
    "    new_W_H = get_W_H(model, token, normalized_text_features, logit_scale)\n",
    "    return new_W_H.T[indices]"
   ]
  },
  {
   "cell_type": "code",
   "execution_count": 289,
   "metadata": {},
   "outputs": [],
   "source": [
    "def get_logits_from_pre_proj_cls(\n",
    "    model: HookedViT,\n",
    "    pre_proj_cls_token: torch.Tensor,\n",
    "    normalized_text_features: torch.Tensor,\n",
    "    logit_scale: torch.Tensor,\n",
    "):\n",
    "    post_proj_cls_token = (pre_proj_cls_token @ model.head.W_H + model.head.b_H)\n",
    "    post_proj_cls_token /= post_proj_cls_token.norm(dim=-1, keepdim=True) # also called image_features on clip lingo\n",
    "    logits = logit_scale * post_proj_cls_token @ normalized_text_features.T\n",
    "    return logits"
   ]
  },
  {
   "cell_type": "code",
   "execution_count": 290,
   "metadata": {},
   "outputs": [
    {
     "name": "stdout",
     "output_type": "stream",
     "text": [
      "True\n",
      "True\n"
     ]
    }
   ],
   "source": [
    "clstok = cache[\"ln_final.hook_normalized\"][:, 0, :]\n",
    "logits_v2 = get_logits_from_pre_proj_cls(model, clstok, text_features, logit_scale)\n",
    "logits_v3 = clstok @ get_W_H(model, clstok, text_features, logit_scale) + get_b_H(\n",
    "    model, clstok, text_features, logit_scale\n",
    ")\n",
    "print(torch.allclose(logits, logits_v2))\n",
    "print(torch.allclose(logits, logits_v3, atol=1e-5))"
   ]
  },
  {
   "cell_type": "code",
   "execution_count": 291,
   "metadata": {
    "id": "Li2uVIrieXx3"
   },
   "outputs": [],
   "source": [
    "\n",
    "interesting_residual_directions = [tokens_to_residual_directions(model, index, clstok, text_features, logit_scale) for index in interesting_indexes]\n",
    "\n"
   ]
  },
  {
   "cell_type": "markdown",
   "metadata": {
    "id": "qZy4bHKGqgrS"
   },
   "source": [
    "To check that our residual directions are correct, we can dot product them with the model's final residual stream. The answer should equal the raw logit value if we indexed directly into the model's output logits."
   ]
  },
  {
   "cell_type": "code",
   "execution_count": 292,
   "metadata": {},
   "outputs": [
    {
     "data": {
      "text/plain": [
       "torch.Size([1, 8])"
      ]
     },
     "execution_count": 292,
     "metadata": {},
     "output_type": "execute_result"
    }
   ],
   "source": [
    "get_b_H(model, scaled_final_token_residual_stream, text_features, logit_scale).shape"
   ]
  },
  {
   "cell_type": "code",
   "execution_count": 293,
   "metadata": {
    "id": "-DlbFYece3Ta"
   },
   "outputs": [],
   "source": [
    "\n",
    "# Confirm manually\n",
    "final_residual_stream = cache[\"resid_post\", -1]\n",
    "\n",
    "# Put 0 to get CLS token at beginning\n",
    "cls_token_residual_stream = final_residual_stream[:, 0, :]\n",
    "\n",
    "scaled_final_token_residual_stream = cache.apply_ln_to_stack(cls_token_residual_stream, layer=-1, pos_slice=0 )\n",
    "\n",
    "\n",
    "b_H = get_b_H(model, scaled_final_token_residual_stream, text_features, logit_scale)[0]\n",
    "\n",
    "interesting_logits = [einsum(\n",
    "    \"batch d_model, d_model -> batch\",\n",
    "    scaled_final_token_residual_stream,\n",
    "    residual_direction,\n",
    ") for residual_direction in interesting_residual_directions]\n",
    "\n",
    "\n",
    "for i, index in enumerate(interesting_indexes):\n",
    "    interesting_logits[i] += b_H[interesting_indexes[i]] \n",
    "\n",
    "# print(\"Calculated tabby cat logit value:\", round(happy_logit.item(), 3))\n",
    "# print(\"Tabby cat logit value taken directly from model's output logits:\", round(logits[:,happy_index].item(),3))\n",
    "# print()\n",
    "\n",
    "# sad_logit += b_H[sad_index]\n",
    "# print(\"Calculated Border collie logit value:\", round(sad_logit.item(), 3))\n",
    "# print(\"Border collie logit value taken directly from model's output logits:\", round(logits[:,sad_index].item(), 3))"
   ]
  },
  {
   "cell_type": "markdown",
   "metadata": {
    "id": "BcpzOTx7rhm0"
   },
   "source": [
    "## All Logit Values\n",
    "\n",
    "We can project every intermediate CLS token output from each layer onto the residual directions. This is the equivalent of directly feeding the CLS output of each layer into the 1000-way classification head to get a logit value for each class."
   ]
  },
  {
   "cell_type": "code",
   "execution_count": 294,
   "metadata": {
    "id": "PLq0roLewx3W"
   },
   "outputs": [],
   "source": [
    "def average_logit_value_across_all_classes(\n",
    "    residual_stack,\n",
    "    cache,\n",
    "    mean = True,\n",
    "):\n",
    "    scaled_residual_stack = cache.apply_ln_to_stack(\n",
    "            residual_stack, layer=-1, pos_slice=0\n",
    "        )\n",
    "    logit_predictions = []\n",
    "    for layer_res in scaled_residual_stack:\n",
    "       res = get_logits_from_pre_proj_cls(model, layer_res, text_features, logit_scale)\n",
    "       logit_predictions.append(res)\n",
    "    logit_predictions = torch.stack(logit_predictions, dim=-1).squeeze(0)\n",
    "\n",
    "    if mean:\n",
    "      logit_predictions = logit_predictions.mean(axis=0)\n",
    "\n",
    "    return logit_predictions\n",
    "\n",
    "accumulated_residual, layer_labels = cache.accumulated_resid(\n",
    "        layer=-1, incl_mid=True, pos_slice=0, return_labels=True\n",
    "    )\n",
    "average_logits = average_logit_value_across_all_classes(accumulated_residual, cache, mean=False)"
   ]
  },
  {
   "cell_type": "markdown",
   "metadata": {
    "id": "sNQYQf2NuMIj"
   },
   "source": [
    "\n",
    "We can see that the final attention layer most significantly changes the distribution of logits! The plot is interactive; hover your mouse over the outliers to see the class names.z\n",
    "\n",
    "**Key for graph below**\n",
    "* n_pre - residual stream at start of layer n\n",
    "* n_mid - residual stream after attention part of layer\n",
    "* final_post - residual stream after final mlp layer (before classification head)\n",
    "\n",
    "<details>\n",
    "<summary><i>Note on raw logit metric for more experienced mech interp people</i></summary>\n",
    "\n",
    "The logit difference between two classes, rather than the raw logit value itself, is often considered a more reliable measure. This is because when subtracting one logit from another, any arbitrary constants inherent in the logits cancel out. The design of cross-entropy loss focuses specifically on the differences between class logits, which can result in the logits being adjusted by an arbitrary constant. For a more in-depth explanation, refer to the mechanism interpretation explainer [here](https://dynalist.io/d/n2ZWtnoYHrU1s4vnFSAQ519J#z=disz2gTx-jooAcR0a5r8e7LZ) or the original Exploratory Analysis notebook [here](https://colab.research.google.com/github/neelnanda-io/TransformerLens/blob/main/demos/Exploratory_Analysis_Demo.ipynb#scrollTo=tGz70kpdiPzs).\n",
    "\n",
    "Contrary to the initial Indirect Object Identification (IOI) analysis, which focuses on the logit differences between two classes, my approach considers the raw logit value of a single class. Observing a box plot of all logit values reveals that, on average, the values are near zero for every layer (indicated by the red dot). Therefore, the notion of biases neutralizing each other, as seen in the logit difference case, does not hold here since the average logit value is zero.\n",
    "\n",
    "\n",
    "\n",
    "\n",
    "</details>\n",
    "\n"
   ]
  },
  {
   "cell_type": "code",
   "execution_count": 295,
   "metadata": {},
   "outputs": [],
   "source": [
    "# average_logits.shape"
   ]
  },
  {
   "cell_type": "code",
   "execution_count": 296,
   "metadata": {
    "id": "kWhOyNstAGqD"
   },
   "outputs": [],
   "source": [
    "# plot_logit_boxplot(average_logits, layer_labels)"
   ]
  },
  {
   "cell_type": "markdown",
   "metadata": {
    "id": "zmLYxKo1ujjj"
   },
   "source": [
    "### Layer-Level Logit lens\n",
    "We'll now project every layer of the image's residual stream onto the residual directions. We'll use just the CLS token for this analysis.\n",
    "\n",
    "This is analogous to deleting all subsequent layers and just projecting that layer's output into the classification head. This will tell us the likelihood the net assigns to each class throughout the net.\n",
    "\n",
    "Let's also grab a random logit, like banana, for comparison. We'll also get the average of all logits as a baseline."
   ]
  },
  {
   "cell_type": "code",
   "execution_count": 297,
   "metadata": {
    "id": "IutGakbRk_3s"
   },
   "outputs": [],
   "source": [
    "# misc_index = imagenet_index_from_word(\"banana\")\n",
    "# print(\"Banana index:\", misc_index)\n",
    "# misc_residual_direction = tokens_to_residual_directions(model, misc_index, clstok, text_features, logit_scale)"
   ]
  },
  {
   "cell_type": "code",
   "execution_count": 298,
   "metadata": {},
   "outputs": [],
   "source": [
    "# life_index=imagenet_index_from_word(\"life\")\n",
    "# pet_index=imagenet_index_from_word(\"pet\")\n",
    "# edge_index=imagenet_index_from_word(\"edge\")\n",
    "# animal_index=imagenet_index_from_word(\"animal\")\n",
    "\n",
    "\n",
    "# life_residual_direction = tokens_to_residual_directions(model, life_index , clstok, text_features, logit_scale)\n",
    "# pet_residual_direction = tokens_to_residual_directions(model, pet_index, clstok, text_features, logit_scale)\n",
    "# edge_residual_direction = tokens_to_residual_directions(model, edge_index, clstok, text_features, logit_scale)\n",
    "# animal_residual_direction = tokens_to_residual_directions(model, animal_index, clstok, text_features, logit_scale)\n",
    "\n",
    "\n",
    "\n",
    "interesting_residual_directions = [tokens_to_residual_directions(model, index, clstok, text_features, logit_scale) for index in interesting_indexes]\n",
    "\n",
    "\n",
    "\n",
    "\n",
    "# animal_residual_direction = tokens_to_residual_directions(model, pet_index, clstok, text_features, logit_scale)"
   ]
  },
  {
   "cell_type": "markdown",
   "metadata": {
    "id": "uqPo5RSDsrp-"
   },
   "source": [
    "\n",
    "Let's plot the logit values for tabby cat, Border collie, and banana throughout the layers."
   ]
  },
  {
   "cell_type": "code",
   "execution_count": 299,
   "metadata": {
    "id": "vgxmWoF_GZjI"
   },
   "outputs": [],
   "source": [
    "def residual_stack_to_logit(\n",
    "    residual_stack,\n",
    "    cache,\n",
    "):\n",
    "    scaled_residual_stack = cache.apply_ln_to_stack(\n",
    "            residual_stack, layer=-1, pos_slice=0\n",
    "        )\n",
    "    logit_predictions = []\n",
    "    for layer_res in scaled_residual_stack:\n",
    "       res = get_logits_from_pre_proj_cls(model, layer_res, text_features, logit_scale)\n",
    "       logit_predictions.append(res)\n",
    "    logit_predictions = torch.stack(logit_predictions, dim=-1).squeeze(0)\n",
    "    return logit_predictions\n",
    "\n",
    "accumulated_residual, layer_labels = cache.accumulated_resid(\n",
    "        layer=-1, incl_mid=True, pos_slice=0, return_labels=True\n",
    ")"
   ]
  },
  {
   "cell_type": "markdown",
   "metadata": {
    "id": "BAeKsmZfwQb3"
   },
   "source": [
    "The plot below is interactive. Run your cursor over the layers to see the corresponding logit value."
   ]
  },
  {
   "cell_type": "code",
   "execution_count": 306,
   "metadata": {
    "id": "dWo3Dk8yoh9U"
   },
   "outputs": [
    {
     "data": {
      "application/vnd.plotly.v1+json": {
       "config": {
        "plotlyServerURL": "https://plot.ly"
       },
       "data": [
        {
         "line": {
          "color": "orange"
         },
         "mode": "lines",
         "name": "fluffyLogit",
         "text": [
          "embed",
          "pos_embed",
          "0_attn_out",
          "0_mlp_out",
          "1_attn_out",
          "1_mlp_out",
          "2_attn_out",
          "2_mlp_out",
          "3_attn_out",
          "3_mlp_out",
          "4_attn_out",
          "4_mlp_out",
          "5_attn_out",
          "5_mlp_out",
          "6_attn_out",
          "6_mlp_out",
          "7_attn_out",
          "7_mlp_out",
          "8_attn_out",
          "8_mlp_out",
          "9_attn_out",
          "9_mlp_out",
          "10_attn_out",
          "10_mlp_out",
          "11_attn_out"
         ],
         "type": "scatter",
         "x": [
          0,
          0.5,
          1,
          1.5,
          2,
          2.5,
          3,
          3.5,
          4,
          4.5,
          5,
          5.5,
          6,
          6.5,
          7,
          7.5,
          8,
          8.5,
          9,
          9.5,
          10,
          10.5,
          11,
          11.5,
          12
         ],
         "y": [
          6.327064514160156,
          8.099276542663574,
          9.984931945800781,
          10.235065460205078,
          8.402030944824219,
          8.651379585266113,
          9.331138610839844,
          9.006574630737305,
          8.460748672485352,
          10.080733299255371,
          9.308622360229492,
          10.96912956237793,
          9.723550796508789,
          11.302007675170898,
          10.621156692504883,
          11.540157318115234,
          9.212581634521484,
          10.501920700073242,
          8.230551719665527,
          9.682394027709961,
          9.246453285217285,
          11.591968536376953,
          9.4874267578125,
          9.664544105529785,
          10.813436508178711
         ]
        },
        {
         "line": {
          "color": "purple"
         },
         "mode": "lines",
         "name": "scalyLogit",
         "text": [
          "embed",
          "pos_embed",
          "0_attn_out",
          "0_mlp_out",
          "1_attn_out",
          "1_mlp_out",
          "2_attn_out",
          "2_mlp_out",
          "3_attn_out",
          "3_mlp_out",
          "4_attn_out",
          "4_mlp_out",
          "5_attn_out",
          "5_mlp_out",
          "6_attn_out",
          "6_mlp_out",
          "7_attn_out",
          "7_mlp_out",
          "8_attn_out",
          "8_mlp_out",
          "9_attn_out",
          "9_mlp_out",
          "10_attn_out",
          "10_mlp_out",
          "11_attn_out"
         ],
         "type": "scatter",
         "x": [
          0,
          0.5,
          1,
          1.5,
          2,
          2.5,
          3,
          3.5,
          4,
          4.5,
          5,
          5.5,
          6,
          6.5,
          7,
          7.5,
          8,
          8.5,
          9,
          9.5,
          10,
          10.5,
          11,
          11.5,
          12
         ],
         "y": [
          8.256134033203125,
          10.40604019165039,
          11.202423095703125,
          12.862932205200195,
          10.844146728515625,
          11.3662109375,
          11.101690292358398,
          10.958662986755371,
          10.022294998168945,
          11.380104064941406,
          10.488151550292969,
          11.516570091247559,
          10.609770774841309,
          11.30289077758789,
          10.625518798828125,
          10.74754810333252,
          9.161703109741211,
          9.923774719238281,
          7.9930219650268555,
          8.821840286254883,
          8.68045711517334,
          10.135541915893555,
          7.540281772613525,
          5.887929439544678,
          7.100780010223389
         ]
        },
        {
         "line": {
          "color": "black"
         },
         "mode": "lines",
         "name": "smoothLogit",
         "text": [
          "embed",
          "pos_embed",
          "0_attn_out",
          "0_mlp_out",
          "1_attn_out",
          "1_mlp_out",
          "2_attn_out",
          "2_mlp_out",
          "3_attn_out",
          "3_mlp_out",
          "4_attn_out",
          "4_mlp_out",
          "5_attn_out",
          "5_mlp_out",
          "6_attn_out",
          "6_mlp_out",
          "7_attn_out",
          "7_mlp_out",
          "8_attn_out",
          "8_mlp_out",
          "9_attn_out",
          "9_mlp_out",
          "10_attn_out",
          "10_mlp_out",
          "11_attn_out"
         ],
         "type": "scatter",
         "x": [
          0,
          0.5,
          1,
          1.5,
          2,
          2.5,
          3,
          3.5,
          4,
          4.5,
          5,
          5.5,
          6,
          6.5,
          7,
          7.5,
          8,
          8.5,
          9,
          9.5,
          10,
          10.5,
          11,
          11.5,
          12
         ],
         "y": [
          8.338056564331055,
          10.370757102966309,
          12.660621643066406,
          12.817309379577637,
          10.345754623413086,
          11.148605346679688,
          11.728344917297363,
          11.455964088439941,
          11.400287628173828,
          12.545893669128418,
          12.06761360168457,
          13.447810173034668,
          12.315838813781738,
          13.335088729858398,
          12.985452651977539,
          13.512540817260742,
          11.563714981079102,
          12.454315185546875,
          10.755062103271484,
          10.402023315429688,
          11.49338436126709,
          11.373912811279297,
          10.557686805725098,
          8.056316375732422,
          9.547868728637695
         ]
        },
        {
         "line": {
          "color": "grey"
         },
         "mode": "lines",
         "name": "standingLogit",
         "text": [
          "embed",
          "pos_embed",
          "0_attn_out",
          "0_mlp_out",
          "1_attn_out",
          "1_mlp_out",
          "2_attn_out",
          "2_mlp_out",
          "3_attn_out",
          "3_mlp_out",
          "4_attn_out",
          "4_mlp_out",
          "5_attn_out",
          "5_mlp_out",
          "6_attn_out",
          "6_mlp_out",
          "7_attn_out",
          "7_mlp_out",
          "8_attn_out",
          "8_mlp_out",
          "9_attn_out",
          "9_mlp_out",
          "10_attn_out",
          "10_mlp_out",
          "11_attn_out"
         ],
         "type": "scatter",
         "x": [
          0,
          0.5,
          1,
          1.5,
          2,
          2.5,
          3,
          3.5,
          4,
          4.5,
          5,
          5.5,
          6,
          6.5,
          7,
          7.5,
          8,
          8.5,
          9,
          9.5,
          10,
          10.5,
          11,
          11.5,
          12
         ],
         "y": [
          8.265854835510254,
          9.88052749633789,
          11.889888763427734,
          12.370650291442871,
          10.333292007446289,
          10.344398498535156,
          11.434442520141602,
          10.905546188354492,
          10.98853588104248,
          11.398250579833984,
          11.005054473876953,
          12.46072006225586,
          11.696435928344727,
          12.618804931640625,
          12.277215957641602,
          12.98619270324707,
          10.48454761505127,
          11.51449203491211,
          8.72261905670166,
          9.690347671508789,
          9.209552764892578,
          10.27843952178955,
          9.196172714233398,
          7.630789279937744,
          9.043950080871582
         ]
        },
        {
         "line": {
          "color": "green"
         },
         "mode": "lines",
         "name": "womanLogit",
         "text": [
          "embed",
          "pos_embed",
          "0_attn_out",
          "0_mlp_out",
          "1_attn_out",
          "1_mlp_out",
          "2_attn_out",
          "2_mlp_out",
          "3_attn_out",
          "3_mlp_out",
          "4_attn_out",
          "4_mlp_out",
          "5_attn_out",
          "5_mlp_out",
          "6_attn_out",
          "6_mlp_out",
          "7_attn_out",
          "7_mlp_out",
          "8_attn_out",
          "8_mlp_out",
          "9_attn_out",
          "9_mlp_out",
          "10_attn_out",
          "10_mlp_out",
          "11_attn_out"
         ],
         "type": "scatter",
         "x": [
          0,
          0.5,
          1,
          1.5,
          2,
          2.5,
          3,
          3.5,
          4,
          4.5,
          5,
          5.5,
          6,
          6.5,
          7,
          7.5,
          8,
          8.5,
          9,
          9.5,
          10,
          10.5,
          11,
          11.5,
          12
         ],
         "y": [
          6.000558376312256,
          7.166218280792236,
          8.716206550598145,
          9.452844619750977,
          8.334602355957031,
          7.476858139038086,
          9.216142654418945,
          8.535409927368164,
          8.957839965820312,
          8.930322647094727,
          8.454442977905273,
          9.770044326782227,
          8.744012832641602,
          9.687837600708008,
          9.510616302490234,
          9.531110763549805,
          8.576725959777832,
          9.175899505615234,
          7.22779655456543,
          8.0389404296875,
          7.745215892791748,
          8.174490928649902,
          6.845258712768555,
          3.7741034030914307,
          5.330962181091309
         ]
        },
        {
         "line": {
          "color": "yellow"
         },
         "mode": "lines",
         "name": "cuteLogit",
         "text": [
          "embed",
          "pos_embed",
          "0_attn_out",
          "0_mlp_out",
          "1_attn_out",
          "1_mlp_out",
          "2_attn_out",
          "2_mlp_out",
          "3_attn_out",
          "3_mlp_out",
          "4_attn_out",
          "4_mlp_out",
          "5_attn_out",
          "5_mlp_out",
          "6_attn_out",
          "6_mlp_out",
          "7_attn_out",
          "7_mlp_out",
          "8_attn_out",
          "8_mlp_out",
          "9_attn_out",
          "9_mlp_out",
          "10_attn_out",
          "10_mlp_out",
          "11_attn_out"
         ],
         "type": "scatter",
         "x": [
          0,
          0.5,
          1,
          1.5,
          2,
          2.5,
          3,
          3.5,
          4,
          4.5,
          5,
          5.5,
          6,
          6.5,
          7,
          7.5,
          8,
          8.5,
          9,
          9.5,
          10,
          10.5,
          11,
          11.5,
          12
         ],
         "y": [
          8.874175071716309,
          10.44454288482666,
          11.902825355529785,
          11.730175018310547,
          9.899918556213379,
          9.706559181213379,
          11.18956184387207,
          10.119604110717773,
          10.112258911132812,
          11.606614112854004,
          10.666603088378906,
          12.562908172607422,
          11.231029510498047,
          13.043832778930664,
          11.713775634765625,
          12.802119255065918,
          10.12382698059082,
          12.09178352355957,
          9.11968994140625,
          10.816648483276367,
          10.491752624511719,
          11.500118255615234,
          10.059353828430176,
          9.508904457092285,
          10.293091773986816
         ]
        },
        {
         "line": {
          "color": "red"
         },
         "mode": "lines",
         "name": "catLogit",
         "text": [
          "embed",
          "pos_embed",
          "0_attn_out",
          "0_mlp_out",
          "1_attn_out",
          "1_mlp_out",
          "2_attn_out",
          "2_mlp_out",
          "3_attn_out",
          "3_mlp_out",
          "4_attn_out",
          "4_mlp_out",
          "5_attn_out",
          "5_mlp_out",
          "6_attn_out",
          "6_mlp_out",
          "7_attn_out",
          "7_mlp_out",
          "8_attn_out",
          "8_mlp_out",
          "9_attn_out",
          "9_mlp_out",
          "10_attn_out",
          "10_mlp_out",
          "11_attn_out"
         ],
         "type": "scatter",
         "x": [
          0,
          0.5,
          1,
          1.5,
          2,
          2.5,
          3,
          3.5,
          4,
          4.5,
          5,
          5.5,
          6,
          6.5,
          7,
          7.5,
          8,
          8.5,
          9,
          9.5,
          10,
          10.5,
          11,
          11.5,
          12
         ],
         "y": [
          8.04642391204834,
          8.96690559387207,
          10.427389144897461,
          10.607341766357422,
          9.391453742980957,
          8.901281356811523,
          10.150670051574707,
          8.945562362670898,
          9.413002014160156,
          9.470212936401367,
          9.634804725646973,
          10.455686569213867,
          9.65668773651123,
          10.402447700500488,
          9.835344314575195,
          10.546497344970703,
          8.553400039672852,
          9.14079761505127,
          6.861485004425049,
          8.45280933380127,
          7.594687461853027,
          10.790863037109375,
          7.353409767150879,
          11.274045944213867,
          11.275177001953125
         ]
        },
        {
         "line": {
          "color": "pink"
         },
         "mode": "lines",
         "name": "dogLogit",
         "text": [
          "embed",
          "pos_embed",
          "0_attn_out",
          "0_mlp_out",
          "1_attn_out",
          "1_mlp_out",
          "2_attn_out",
          "2_mlp_out",
          "3_attn_out",
          "3_mlp_out",
          "4_attn_out",
          "4_mlp_out",
          "5_attn_out",
          "5_mlp_out",
          "6_attn_out",
          "6_mlp_out",
          "7_attn_out",
          "7_mlp_out",
          "8_attn_out",
          "8_mlp_out",
          "9_attn_out",
          "9_mlp_out",
          "10_attn_out",
          "10_mlp_out",
          "11_attn_out"
         ],
         "type": "scatter",
         "x": [
          0,
          0.5,
          1,
          1.5,
          2,
          2.5,
          3,
          3.5,
          4,
          4.5,
          5,
          5.5,
          6,
          6.5,
          7,
          7.5,
          8,
          8.5,
          9,
          9.5,
          10,
          10.5,
          11,
          11.5,
          12
         ],
         "y": [
          6.601027488708496,
          7.2119574546813965,
          8.816383361816406,
          9.357276916503906,
          7.715785026550293,
          7.569082260131836,
          8.871079444885254,
          7.843677997589111,
          8.36092758178711,
          8.45315170288086,
          8.379413604736328,
          9.76257038116455,
          8.928078651428223,
          9.82374095916748,
          9.328797340393066,
          10.189170837402344,
          8.21607494354248,
          8.857536315917969,
          6.753522872924805,
          9.157257080078125,
          8.024643898010254,
          11.336389541625977,
          8.270135879516602,
          12.184036254882812,
          11.785083770751953
         ]
        },
        {
         "mode": "lines",
         "name": "Average Logit Across All Classes",
         "type": "scatter",
         "x": [
          0,
          0.5,
          1,
          1.5,
          2,
          2.5,
          3,
          3.5,
          4,
          4.5,
          5,
          5.5,
          6,
          6.5,
          7,
          7.5,
          8,
          8.5,
          9,
          9.5,
          10,
          10.5,
          11,
          11.5,
          12
         ],
         "y": [
          7.588662147521973,
          9.068278312683105,
          10.700082778930664,
          11.179200172424316,
          9.40837287902832,
          9.395546913146973,
          10.377883911132812,
          9.721375465393066,
          9.714487075805664,
          10.483160018920898,
          10.000588417053223,
          11.368180274963379,
          10.363176345825195,
          11.439582824707031,
          10.862236022949219,
          11.481916427612305,
          9.486572265625,
          10.457565307617188,
          8.207968711853027,
          9.382782936096191,
          9.060768127441406,
          10.647716522216797,
          8.663715362548828,
          8.497583389282227,
          9.39879322052002
         ]
        }
       ],
       "layout": {
        "autosize": true,
        "template": {
         "data": {
          "bar": [
           {
            "error_x": {
             "color": "#2a3f5f"
            },
            "error_y": {
             "color": "#2a3f5f"
            },
            "marker": {
             "line": {
              "color": "#E5ECF6",
              "width": 0.5
             },
             "pattern": {
              "fillmode": "overlay",
              "size": 10,
              "solidity": 0.2
             }
            },
            "type": "bar"
           }
          ],
          "barpolar": [
           {
            "marker": {
             "line": {
              "color": "#E5ECF6",
              "width": 0.5
             },
             "pattern": {
              "fillmode": "overlay",
              "size": 10,
              "solidity": 0.2
             }
            },
            "type": "barpolar"
           }
          ],
          "carpet": [
           {
            "aaxis": {
             "endlinecolor": "#2a3f5f",
             "gridcolor": "white",
             "linecolor": "white",
             "minorgridcolor": "white",
             "startlinecolor": "#2a3f5f"
            },
            "baxis": {
             "endlinecolor": "#2a3f5f",
             "gridcolor": "white",
             "linecolor": "white",
             "minorgridcolor": "white",
             "startlinecolor": "#2a3f5f"
            },
            "type": "carpet"
           }
          ],
          "choropleth": [
           {
            "colorbar": {
             "outlinewidth": 0,
             "ticks": ""
            },
            "type": "choropleth"
           }
          ],
          "contour": [
           {
            "colorbar": {
             "outlinewidth": 0,
             "ticks": ""
            },
            "colorscale": [
             [
              0,
              "#0d0887"
             ],
             [
              0.1111111111111111,
              "#46039f"
             ],
             [
              0.2222222222222222,
              "#7201a8"
             ],
             [
              0.3333333333333333,
              "#9c179e"
             ],
             [
              0.4444444444444444,
              "#bd3786"
             ],
             [
              0.5555555555555556,
              "#d8576b"
             ],
             [
              0.6666666666666666,
              "#ed7953"
             ],
             [
              0.7777777777777778,
              "#fb9f3a"
             ],
             [
              0.8888888888888888,
              "#fdca26"
             ],
             [
              1,
              "#f0f921"
             ]
            ],
            "type": "contour"
           }
          ],
          "contourcarpet": [
           {
            "colorbar": {
             "outlinewidth": 0,
             "ticks": ""
            },
            "type": "contourcarpet"
           }
          ],
          "heatmap": [
           {
            "colorbar": {
             "outlinewidth": 0,
             "ticks": ""
            },
            "colorscale": [
             [
              0,
              "#0d0887"
             ],
             [
              0.1111111111111111,
              "#46039f"
             ],
             [
              0.2222222222222222,
              "#7201a8"
             ],
             [
              0.3333333333333333,
              "#9c179e"
             ],
             [
              0.4444444444444444,
              "#bd3786"
             ],
             [
              0.5555555555555556,
              "#d8576b"
             ],
             [
              0.6666666666666666,
              "#ed7953"
             ],
             [
              0.7777777777777778,
              "#fb9f3a"
             ],
             [
              0.8888888888888888,
              "#fdca26"
             ],
             [
              1,
              "#f0f921"
             ]
            ],
            "type": "heatmap"
           }
          ],
          "heatmapgl": [
           {
            "colorbar": {
             "outlinewidth": 0,
             "ticks": ""
            },
            "colorscale": [
             [
              0,
              "#0d0887"
             ],
             [
              0.1111111111111111,
              "#46039f"
             ],
             [
              0.2222222222222222,
              "#7201a8"
             ],
             [
              0.3333333333333333,
              "#9c179e"
             ],
             [
              0.4444444444444444,
              "#bd3786"
             ],
             [
              0.5555555555555556,
              "#d8576b"
             ],
             [
              0.6666666666666666,
              "#ed7953"
             ],
             [
              0.7777777777777778,
              "#fb9f3a"
             ],
             [
              0.8888888888888888,
              "#fdca26"
             ],
             [
              1,
              "#f0f921"
             ]
            ],
            "type": "heatmapgl"
           }
          ],
          "histogram": [
           {
            "marker": {
             "pattern": {
              "fillmode": "overlay",
              "size": 10,
              "solidity": 0.2
             }
            },
            "type": "histogram"
           }
          ],
          "histogram2d": [
           {
            "colorbar": {
             "outlinewidth": 0,
             "ticks": ""
            },
            "colorscale": [
             [
              0,
              "#0d0887"
             ],
             [
              0.1111111111111111,
              "#46039f"
             ],
             [
              0.2222222222222222,
              "#7201a8"
             ],
             [
              0.3333333333333333,
              "#9c179e"
             ],
             [
              0.4444444444444444,
              "#bd3786"
             ],
             [
              0.5555555555555556,
              "#d8576b"
             ],
             [
              0.6666666666666666,
              "#ed7953"
             ],
             [
              0.7777777777777778,
              "#fb9f3a"
             ],
             [
              0.8888888888888888,
              "#fdca26"
             ],
             [
              1,
              "#f0f921"
             ]
            ],
            "type": "histogram2d"
           }
          ],
          "histogram2dcontour": [
           {
            "colorbar": {
             "outlinewidth": 0,
             "ticks": ""
            },
            "colorscale": [
             [
              0,
              "#0d0887"
             ],
             [
              0.1111111111111111,
              "#46039f"
             ],
             [
              0.2222222222222222,
              "#7201a8"
             ],
             [
              0.3333333333333333,
              "#9c179e"
             ],
             [
              0.4444444444444444,
              "#bd3786"
             ],
             [
              0.5555555555555556,
              "#d8576b"
             ],
             [
              0.6666666666666666,
              "#ed7953"
             ],
             [
              0.7777777777777778,
              "#fb9f3a"
             ],
             [
              0.8888888888888888,
              "#fdca26"
             ],
             [
              1,
              "#f0f921"
             ]
            ],
            "type": "histogram2dcontour"
           }
          ],
          "mesh3d": [
           {
            "colorbar": {
             "outlinewidth": 0,
             "ticks": ""
            },
            "type": "mesh3d"
           }
          ],
          "parcoords": [
           {
            "line": {
             "colorbar": {
              "outlinewidth": 0,
              "ticks": ""
             }
            },
            "type": "parcoords"
           }
          ],
          "pie": [
           {
            "automargin": true,
            "type": "pie"
           }
          ],
          "scatter": [
           {
            "fillpattern": {
             "fillmode": "overlay",
             "size": 10,
             "solidity": 0.2
            },
            "type": "scatter"
           }
          ],
          "scatter3d": [
           {
            "line": {
             "colorbar": {
              "outlinewidth": 0,
              "ticks": ""
             }
            },
            "marker": {
             "colorbar": {
              "outlinewidth": 0,
              "ticks": ""
             }
            },
            "type": "scatter3d"
           }
          ],
          "scattercarpet": [
           {
            "marker": {
             "colorbar": {
              "outlinewidth": 0,
              "ticks": ""
             }
            },
            "type": "scattercarpet"
           }
          ],
          "scattergeo": [
           {
            "marker": {
             "colorbar": {
              "outlinewidth": 0,
              "ticks": ""
             }
            },
            "type": "scattergeo"
           }
          ],
          "scattergl": [
           {
            "marker": {
             "colorbar": {
              "outlinewidth": 0,
              "ticks": ""
             }
            },
            "type": "scattergl"
           }
          ],
          "scattermapbox": [
           {
            "marker": {
             "colorbar": {
              "outlinewidth": 0,
              "ticks": ""
             }
            },
            "type": "scattermapbox"
           }
          ],
          "scatterpolar": [
           {
            "marker": {
             "colorbar": {
              "outlinewidth": 0,
              "ticks": ""
             }
            },
            "type": "scatterpolar"
           }
          ],
          "scatterpolargl": [
           {
            "marker": {
             "colorbar": {
              "outlinewidth": 0,
              "ticks": ""
             }
            },
            "type": "scatterpolargl"
           }
          ],
          "scatterternary": [
           {
            "marker": {
             "colorbar": {
              "outlinewidth": 0,
              "ticks": ""
             }
            },
            "type": "scatterternary"
           }
          ],
          "surface": [
           {
            "colorbar": {
             "outlinewidth": 0,
             "ticks": ""
            },
            "colorscale": [
             [
              0,
              "#0d0887"
             ],
             [
              0.1111111111111111,
              "#46039f"
             ],
             [
              0.2222222222222222,
              "#7201a8"
             ],
             [
              0.3333333333333333,
              "#9c179e"
             ],
             [
              0.4444444444444444,
              "#bd3786"
             ],
             [
              0.5555555555555556,
              "#d8576b"
             ],
             [
              0.6666666666666666,
              "#ed7953"
             ],
             [
              0.7777777777777778,
              "#fb9f3a"
             ],
             [
              0.8888888888888888,
              "#fdca26"
             ],
             [
              1,
              "#f0f921"
             ]
            ],
            "type": "surface"
           }
          ],
          "table": [
           {
            "cells": {
             "fill": {
              "color": "#EBF0F8"
             },
             "line": {
              "color": "white"
             }
            },
            "header": {
             "fill": {
              "color": "#C8D4E3"
             },
             "line": {
              "color": "white"
             }
            },
            "type": "table"
           }
          ]
         },
         "layout": {
          "annotationdefaults": {
           "arrowcolor": "#2a3f5f",
           "arrowhead": 0,
           "arrowwidth": 1
          },
          "autotypenumbers": "strict",
          "coloraxis": {
           "colorbar": {
            "outlinewidth": 0,
            "ticks": ""
           }
          },
          "colorscale": {
           "diverging": [
            [
             0,
             "#8e0152"
            ],
            [
             0.1,
             "#c51b7d"
            ],
            [
             0.2,
             "#de77ae"
            ],
            [
             0.3,
             "#f1b6da"
            ],
            [
             0.4,
             "#fde0ef"
            ],
            [
             0.5,
             "#f7f7f7"
            ],
            [
             0.6,
             "#e6f5d0"
            ],
            [
             0.7,
             "#b8e186"
            ],
            [
             0.8,
             "#7fbc41"
            ],
            [
             0.9,
             "#4d9221"
            ],
            [
             1,
             "#276419"
            ]
           ],
           "sequential": [
            [
             0,
             "#0d0887"
            ],
            [
             0.1111111111111111,
             "#46039f"
            ],
            [
             0.2222222222222222,
             "#7201a8"
            ],
            [
             0.3333333333333333,
             "#9c179e"
            ],
            [
             0.4444444444444444,
             "#bd3786"
            ],
            [
             0.5555555555555556,
             "#d8576b"
            ],
            [
             0.6666666666666666,
             "#ed7953"
            ],
            [
             0.7777777777777778,
             "#fb9f3a"
            ],
            [
             0.8888888888888888,
             "#fdca26"
            ],
            [
             1,
             "#f0f921"
            ]
           ],
           "sequentialminus": [
            [
             0,
             "#0d0887"
            ],
            [
             0.1111111111111111,
             "#46039f"
            ],
            [
             0.2222222222222222,
             "#7201a8"
            ],
            [
             0.3333333333333333,
             "#9c179e"
            ],
            [
             0.4444444444444444,
             "#bd3786"
            ],
            [
             0.5555555555555556,
             "#d8576b"
            ],
            [
             0.6666666666666666,
             "#ed7953"
            ],
            [
             0.7777777777777778,
             "#fb9f3a"
            ],
            [
             0.8888888888888888,
             "#fdca26"
            ],
            [
             1,
             "#f0f921"
            ]
           ]
          },
          "colorway": [
           "#636efa",
           "#EF553B",
           "#00cc96",
           "#ab63fa",
           "#FFA15A",
           "#19d3f3",
           "#FF6692",
           "#B6E880",
           "#FF97FF",
           "#FECB52"
          ],
          "font": {
           "color": "#2a3f5f"
          },
          "geo": {
           "bgcolor": "white",
           "lakecolor": "white",
           "landcolor": "#E5ECF6",
           "showlakes": true,
           "showland": true,
           "subunitcolor": "white"
          },
          "hoverlabel": {
           "align": "left"
          },
          "hovermode": "closest",
          "mapbox": {
           "style": "light"
          },
          "paper_bgcolor": "white",
          "plot_bgcolor": "#E5ECF6",
          "polar": {
           "angularaxis": {
            "gridcolor": "white",
            "linecolor": "white",
            "ticks": ""
           },
           "bgcolor": "#E5ECF6",
           "radialaxis": {
            "gridcolor": "white",
            "linecolor": "white",
            "ticks": ""
           }
          },
          "scene": {
           "xaxis": {
            "backgroundcolor": "#E5ECF6",
            "gridcolor": "white",
            "gridwidth": 2,
            "linecolor": "white",
            "showbackground": true,
            "ticks": "",
            "zerolinecolor": "white"
           },
           "yaxis": {
            "backgroundcolor": "#E5ECF6",
            "gridcolor": "white",
            "gridwidth": 2,
            "linecolor": "white",
            "showbackground": true,
            "ticks": "",
            "zerolinecolor": "white"
           },
           "zaxis": {
            "backgroundcolor": "#E5ECF6",
            "gridcolor": "white",
            "gridwidth": 2,
            "linecolor": "white",
            "showbackground": true,
            "ticks": "",
            "zerolinecolor": "white"
           }
          },
          "shapedefaults": {
           "line": {
            "color": "#2a3f5f"
           }
          },
          "ternary": {
           "aaxis": {
            "gridcolor": "white",
            "linecolor": "white",
            "ticks": ""
           },
           "baxis": {
            "gridcolor": "white",
            "linecolor": "white",
            "ticks": ""
           },
           "bgcolor": "#E5ECF6",
           "caxis": {
            "gridcolor": "white",
            "linecolor": "white",
            "ticks": ""
           }
          },
          "title": {
           "x": 0.05
          },
          "xaxis": {
           "automargin": true,
           "gridcolor": "white",
           "linecolor": "white",
           "ticks": "",
           "title": {
            "standoff": 15
           },
           "zerolinecolor": "white",
           "zerolinewidth": 2
          },
          "yaxis": {
           "automargin": true,
           "gridcolor": "white",
           "linecolor": "white",
           "ticks": "",
           "title": {
            "standoff": 15
           },
           "zerolinecolor": "white",
           "zerolinewidth": 2
          }
         }
        },
        "title": {
         "text": "Logit through Model Layers"
        },
        "xaxis": {
         "autorange": true,
         "range": [
          0,
          12
         ],
         "title": {
          "text": "Model Layer"
         },
         "type": "linear"
        },
        "yaxis": {
         "autorange": true,
         "range": [
          3.233079102304247,
          14.053565118047926
         ],
         "title": {
          "text": "Logit Value"
         },
         "type": "linear"
        }
       }
      },
      "image/png": "[encoded data removed]",
      "text/html": [
       "<div>                            <div id=\"e0cb5506-e9dc-4573-b978-59347b3845e6\" class=\"plotly-graph-div\" style=\"height:525px; width:100%;\"></div>            <script type=\"text/javascript\">                require([\"plotly\"], function(Plotly) {                    window.PLOTLYENV=window.PLOTLYENV || {};                                    if (document.getElementById(\"e0cb5506-e9dc-4573-b978-59347b3845e6\")) {                    Plotly.newPlot(                        \"e0cb5506-e9dc-4573-b978-59347b3845e6\",                        [{\"line\":{\"color\":\"orange\"},\"mode\":\"lines\",\"name\":\"fluffyLogit\",\"text\":[\"embed\",\"pos_embed\",\"0_attn_out\",\"0_mlp_out\",\"1_attn_out\",\"1_mlp_out\",\"2_attn_out\",\"2_mlp_out\",\"3_attn_out\",\"3_mlp_out\",\"4_attn_out\",\"4_mlp_out\",\"5_attn_out\",\"5_mlp_out\",\"6_attn_out\",\"6_mlp_out\",\"7_attn_out\",\"7_mlp_out\",\"8_attn_out\",\"8_mlp_out\",\"9_attn_out\",\"9_mlp_out\",\"10_attn_out\",\"10_mlp_out\",\"11_attn_out\"],\"x\":[0.0,0.5,1.0,1.5,2.0,2.5,3.0,3.5,4.0,4.5,5.0,5.5,6.0,6.5,7.0,7.5,8.0,8.5,9.0,9.5,10.0,10.5,11.0,11.5,12.0],\"y\":[6.327064514160156,8.099276542663574,9.984931945800781,10.235065460205078,8.402030944824219,8.651379585266113,9.331138610839844,9.006574630737305,8.460748672485352,10.080733299255371,9.308622360229492,10.96912956237793,9.723550796508789,11.302007675170898,10.621156692504883,11.540157318115234,9.212581634521484,10.501920700073242,8.230551719665527,9.682394027709961,9.246453285217285,11.591968536376953,9.4874267578125,9.664544105529785,10.813436508178711],\"type\":\"scatter\"},{\"line\":{\"color\":\"purple\"},\"mode\":\"lines\",\"name\":\"scalyLogit\",\"text\":[\"embed\",\"pos_embed\",\"0_attn_out\",\"0_mlp_out\",\"1_attn_out\",\"1_mlp_out\",\"2_attn_out\",\"2_mlp_out\",\"3_attn_out\",\"3_mlp_out\",\"4_attn_out\",\"4_mlp_out\",\"5_attn_out\",\"5_mlp_out\",\"6_attn_out\",\"6_mlp_out\",\"7_attn_out\",\"7_mlp_out\",\"8_attn_out\",\"8_mlp_out\",\"9_attn_out\",\"9_mlp_out\",\"10_attn_out\",\"10_mlp_out\",\"11_attn_out\"],\"x\":[0.0,0.5,1.0,1.5,2.0,2.5,3.0,3.5,4.0,4.5,5.0,5.5,6.0,6.5,7.0,7.5,8.0,8.5,9.0,9.5,10.0,10.5,11.0,11.5,12.0],\"y\":[8.256134033203125,10.40604019165039,11.202423095703125,12.862932205200195,10.844146728515625,11.3662109375,11.101690292358398,10.958662986755371,10.022294998168945,11.380104064941406,10.488151550292969,11.516570091247559,10.609770774841309,11.30289077758789,10.625518798828125,10.74754810333252,9.161703109741211,9.923774719238281,7.9930219650268555,8.821840286254883,8.68045711517334,10.135541915893555,7.540281772613525,5.887929439544678,7.100780010223389],\"type\":\"scatter\"},{\"line\":{\"color\":\"black\"},\"mode\":\"lines\",\"name\":\"smoothLogit\",\"text\":[\"embed\",\"pos_embed\",\"0_attn_out\",\"0_mlp_out\",\"1_attn_out\",\"1_mlp_out\",\"2_attn_out\",\"2_mlp_out\",\"3_attn_out\",\"3_mlp_out\",\"4_attn_out\",\"4_mlp_out\",\"5_attn_out\",\"5_mlp_out\",\"6_attn_out\",\"6_mlp_out\",\"7_attn_out\",\"7_mlp_out\",\"8_attn_out\",\"8_mlp_out\",\"9_attn_out\",\"9_mlp_out\",\"10_attn_out\",\"10_mlp_out\",\"11_attn_out\"],\"x\":[0.0,0.5,1.0,1.5,2.0,2.5,3.0,3.5,4.0,4.5,5.0,5.5,6.0,6.5,7.0,7.5,8.0,8.5,9.0,9.5,10.0,10.5,11.0,11.5,12.0],\"y\":[8.338056564331055,10.370757102966309,12.660621643066406,12.817309379577637,10.345754623413086,11.148605346679688,11.728344917297363,11.455964088439941,11.400287628173828,12.545893669128418,12.06761360168457,13.447810173034668,12.315838813781738,13.335088729858398,12.985452651977539,13.512540817260742,11.563714981079102,12.454315185546875,10.755062103271484,10.402023315429688,11.49338436126709,11.373912811279297,10.557686805725098,8.056316375732422,9.547868728637695],\"type\":\"scatter\"},{\"line\":{\"color\":\"grey\"},\"mode\":\"lines\",\"name\":\"standingLogit\",\"text\":[\"embed\",\"pos_embed\",\"0_attn_out\",\"0_mlp_out\",\"1_attn_out\",\"1_mlp_out\",\"2_attn_out\",\"2_mlp_out\",\"3_attn_out\",\"3_mlp_out\",\"4_attn_out\",\"4_mlp_out\",\"5_attn_out\",\"5_mlp_out\",\"6_attn_out\",\"6_mlp_out\",\"7_attn_out\",\"7_mlp_out\",\"8_attn_out\",\"8_mlp_out\",\"9_attn_out\",\"9_mlp_out\",\"10_attn_out\",\"10_mlp_out\",\"11_attn_out\"],\"x\":[0.0,0.5,1.0,1.5,2.0,2.5,3.0,3.5,4.0,4.5,5.0,5.5,6.0,6.5,7.0,7.5,8.0,8.5,9.0,9.5,10.0,10.5,11.0,11.5,12.0],\"y\":[8.265854835510254,9.88052749633789,11.889888763427734,12.370650291442871,10.333292007446289,10.344398498535156,11.434442520141602,10.905546188354492,10.98853588104248,11.398250579833984,11.005054473876953,12.46072006225586,11.696435928344727,12.618804931640625,12.277215957641602,12.98619270324707,10.48454761505127,11.51449203491211,8.72261905670166,9.690347671508789,9.209552764892578,10.27843952178955,9.196172714233398,7.630789279937744,9.043950080871582],\"type\":\"scatter\"},{\"line\":{\"color\":\"green\"},\"mode\":\"lines\",\"name\":\"womanLogit\",\"text\":[\"embed\",\"pos_embed\",\"0_attn_out\",\"0_mlp_out\",\"1_attn_out\",\"1_mlp_out\",\"2_attn_out\",\"2_mlp_out\",\"3_attn_out\",\"3_mlp_out\",\"4_attn_out\",\"4_mlp_out\",\"5_attn_out\",\"5_mlp_out\",\"6_attn_out\",\"6_mlp_out\",\"7_attn_out\",\"7_mlp_out\",\"8_attn_out\",\"8_mlp_out\",\"9_attn_out\",\"9_mlp_out\",\"10_attn_out\",\"10_mlp_out\",\"11_attn_out\"],\"x\":[0.0,0.5,1.0,1.5,2.0,2.5,3.0,3.5,4.0,4.5,5.0,5.5,6.0,6.5,7.0,7.5,8.0,8.5,9.0,9.5,10.0,10.5,11.0,11.5,12.0],\"y\":[6.000558376312256,7.166218280792236,8.716206550598145,9.452844619750977,8.334602355957031,7.476858139038086,9.216142654418945,8.535409927368164,8.957839965820312,8.930322647094727,8.454442977905273,9.770044326782227,8.744012832641602,9.687837600708008,9.510616302490234,9.531110763549805,8.576725959777832,9.175899505615234,7.22779655456543,8.0389404296875,7.745215892791748,8.174490928649902,6.845258712768555,3.7741034030914307,5.330962181091309],\"type\":\"scatter\"},{\"line\":{\"color\":\"yellow\"},\"mode\":\"lines\",\"name\":\"cuteLogit\",\"text\":[\"embed\",\"pos_embed\",\"0_attn_out\",\"0_mlp_out\",\"1_attn_out\",\"1_mlp_out\",\"2_attn_out\",\"2_mlp_out\",\"3_attn_out\",\"3_mlp_out\",\"4_attn_out\",\"4_mlp_out\",\"5_attn_out\",\"5_mlp_out\",\"6_attn_out\",\"6_mlp_out\",\"7_attn_out\",\"7_mlp_out\",\"8_attn_out\",\"8_mlp_out\",\"9_attn_out\",\"9_mlp_out\",\"10_attn_out\",\"10_mlp_out\",\"11_attn_out\"],\"x\":[0.0,0.5,1.0,1.5,2.0,2.5,3.0,3.5,4.0,4.5,5.0,5.5,6.0,6.5,7.0,7.5,8.0,8.5,9.0,9.5,10.0,10.5,11.0,11.5,12.0],\"y\":[8.874175071716309,10.44454288482666,11.902825355529785,11.730175018310547,9.899918556213379,9.706559181213379,11.18956184387207,10.119604110717773,10.112258911132812,11.606614112854004,10.666603088378906,12.562908172607422,11.231029510498047,13.043832778930664,11.713775634765625,12.802119255065918,10.12382698059082,12.09178352355957,9.11968994140625,10.816648483276367,10.491752624511719,11.500118255615234,10.059353828430176,9.508904457092285,10.293091773986816],\"type\":\"scatter\"},{\"line\":{\"color\":\"red\"},\"mode\":\"lines\",\"name\":\"catLogit\",\"text\":[\"embed\",\"pos_embed\",\"0_attn_out\",\"0_mlp_out\",\"1_attn_out\",\"1_mlp_out\",\"2_attn_out\",\"2_mlp_out\",\"3_attn_out\",\"3_mlp_out\",\"4_attn_out\",\"4_mlp_out\",\"5_attn_out\",\"5_mlp_out\",\"6_attn_out\",\"6_mlp_out\",\"7_attn_out\",\"7_mlp_out\",\"8_attn_out\",\"8_mlp_out\",\"9_attn_out\",\"9_mlp_out\",\"10_attn_out\",\"10_mlp_out\",\"11_attn_out\"],\"x\":[0.0,0.5,1.0,1.5,2.0,2.5,3.0,3.5,4.0,4.5,5.0,5.5,6.0,6.5,7.0,7.5,8.0,8.5,9.0,9.5,10.0,10.5,11.0,11.5,12.0],\"y\":[8.04642391204834,8.96690559387207,10.427389144897461,10.607341766357422,9.391453742980957,8.901281356811523,10.150670051574707,8.945562362670898,9.413002014160156,9.470212936401367,9.634804725646973,10.455686569213867,9.65668773651123,10.402447700500488,9.835344314575195,10.546497344970703,8.553400039672852,9.14079761505127,6.861485004425049,8.45280933380127,7.594687461853027,10.790863037109375,7.353409767150879,11.274045944213867,11.275177001953125],\"type\":\"scatter\"},{\"line\":{\"color\":\"pink\"},\"mode\":\"lines\",\"name\":\"dogLogit\",\"text\":[\"embed\",\"pos_embed\",\"0_attn_out\",\"0_mlp_out\",\"1_attn_out\",\"1_mlp_out\",\"2_attn_out\",\"2_mlp_out\",\"3_attn_out\",\"3_mlp_out\",\"4_attn_out\",\"4_mlp_out\",\"5_attn_out\",\"5_mlp_out\",\"6_attn_out\",\"6_mlp_out\",\"7_attn_out\",\"7_mlp_out\",\"8_attn_out\",\"8_mlp_out\",\"9_attn_out\",\"9_mlp_out\",\"10_attn_out\",\"10_mlp_out\",\"11_attn_out\"],\"x\":[0.0,0.5,1.0,1.5,2.0,2.5,3.0,3.5,4.0,4.5,5.0,5.5,6.0,6.5,7.0,7.5,8.0,8.5,9.0,9.5,10.0,10.5,11.0,11.5,12.0],\"y\":[6.601027488708496,7.2119574546813965,8.816383361816406,9.357276916503906,7.715785026550293,7.569082260131836,8.871079444885254,7.843677997589111,8.36092758178711,8.45315170288086,8.379413604736328,9.76257038116455,8.928078651428223,9.82374095916748,9.328797340393066,10.189170837402344,8.21607494354248,8.857536315917969,6.753522872924805,9.157257080078125,8.024643898010254,11.336389541625977,8.270135879516602,12.184036254882812,11.785083770751953],\"type\":\"scatter\"},{\"mode\":\"lines\",\"name\":\"Average Logit Across All Classes\",\"x\":[0.0,0.5,1.0,1.5,2.0,2.5,3.0,3.5,4.0,4.5,5.0,5.5,6.0,6.5,7.0,7.5,8.0,8.5,9.0,9.5,10.0,10.5,11.0,11.5,12.0],\"y\":[7.588662147521973,9.068278312683105,10.700082778930664,11.179200172424316,9.40837287902832,9.395546913146973,10.377883911132812,9.721375465393066,9.714487075805664,10.483160018920898,10.000588417053223,11.368180274963379,10.363176345825195,11.439582824707031,10.862236022949219,11.481916427612305,9.486572265625,10.457565307617188,8.207968711853027,9.382782936096191,9.060768127441406,10.647716522216797,8.663715362548828,8.497583389282227,9.39879322052002],\"type\":\"scatter\"}],                        {\"template\":{\"data\":{\"histogram2dcontour\":[{\"type\":\"histogram2dcontour\",\"colorbar\":{\"outlinewidth\":0,\"ticks\":\"\"},\"colorscale\":[[0.0,\"#0d0887\"],[0.1111111111111111,\"#46039f\"],[0.2222222222222222,\"#7201a8\"],[0.3333333333333333,\"#9c179e\"],[0.4444444444444444,\"#bd3786\"],[0.5555555555555556,\"#d8576b\"],[0.6666666666666666,\"#ed7953\"],[0.7777777777777778,\"#fb9f3a\"],[0.8888888888888888,\"#fdca26\"],[1.0,\"#f0f921\"]]}],\"choropleth\":[{\"type\":\"choropleth\",\"colorbar\":{\"outlinewidth\":0,\"ticks\":\"\"}}],\"histogram2d\":[{\"type\":\"histogram2d\",\"colorbar\":{\"outlinewidth\":0,\"ticks\":\"\"},\"colorscale\":[[0.0,\"#0d0887\"],[0.1111111111111111,\"#46039f\"],[0.2222222222222222,\"#7201a8\"],[0.3333333333333333,\"#9c179e\"],[0.4444444444444444,\"#bd3786\"],[0.5555555555555556,\"#d8576b\"],[0.6666666666666666,\"#ed7953\"],[0.7777777777777778,\"#fb9f3a\"],[0.8888888888888888,\"#fdca26\"],[1.0,\"#f0f921\"]]}],\"heatmap\":[{\"type\":\"heatmap\",\"colorbar\":{\"outlinewidth\":0,\"ticks\":\"\"},\"colorscale\":[[0.0,\"#0d0887\"],[0.1111111111111111,\"#46039f\"],[0.2222222222222222,\"#7201a8\"],[0.3333333333333333,\"#9c179e\"],[0.4444444444444444,\"#bd3786\"],[0.5555555555555556,\"#d8576b\"],[0.6666666666666666,\"#ed7953\"],[0.7777777777777778,\"#fb9f3a\"],[0.8888888888888888,\"#fdca26\"],[1.0,\"#f0f921\"]]}],\"heatmapgl\":[{\"type\":\"heatmapgl\",\"colorbar\":{\"outlinewidth\":0,\"ticks\":\"\"},\"colorscale\":[[0.0,\"#0d0887\"],[0.1111111111111111,\"#46039f\"],[0.2222222222222222,\"#7201a8\"],[0.3333333333333333,\"#9c179e\"],[0.4444444444444444,\"#bd3786\"],[0.5555555555555556,\"#d8576b\"],[0.6666666666666666,\"#ed7953\"],[0.7777777777777778,\"#fb9f3a\"],[0.8888888888888888,\"#fdca26\"],[1.0,\"#f0f921\"]]}],\"contourcarpet\":[{\"type\":\"contourcarpet\",\"colorbar\":{\"outlinewidth\":0,\"ticks\":\"\"}}],\"contour\":[{\"type\":\"contour\",\"colorbar\":{\"outlinewidth\":0,\"ticks\":\"\"},\"colorscale\":[[0.0,\"#0d0887\"],[0.1111111111111111,\"#46039f\"],[0.2222222222222222,\"#7201a8\"],[0.3333333333333333,\"#9c179e\"],[0.4444444444444444,\"#bd3786\"],[0.5555555555555556,\"#d8576b\"],[0.6666666666666666,\"#ed7953\"],[0.7777777777777778,\"#fb9f3a\"],[0.8888888888888888,\"#fdca26\"],[1.0,\"#f0f921\"]]}],\"surface\":[{\"type\":\"surface\",\"colorbar\":{\"outlinewidth\":0,\"ticks\":\"\"},\"colorscale\":[[0.0,\"#0d0887\"],[0.1111111111111111,\"#46039f\"],[0.2222222222222222,\"#7201a8\"],[0.3333333333333333,\"#9c179e\"],[0.4444444444444444,\"#bd3786\"],[0.5555555555555556,\"#d8576b\"],[0.6666666666666666,\"#ed7953\"],[0.7777777777777778,\"#fb9f3a\"],[0.8888888888888888,\"#fdca26\"],[1.0,\"#f0f921\"]]}],\"mesh3d\":[{\"type\":\"mesh3d\",\"colorbar\":{\"outlinewidth\":0,\"ticks\":\"\"}}],\"scatter\":[{\"fillpattern\":{\"fillmode\":\"overlay\",\"size\":10,\"solidity\":0.2},\"type\":\"scatter\"}],\"parcoords\":[{\"type\":\"parcoords\",\"line\":{\"colorbar\":{\"outlinewidth\":0,\"ticks\":\"\"}}}],\"scatterpolargl\":[{\"type\":\"scatterpolargl\",\"marker\":{\"colorbar\":{\"outlinewidth\":0,\"ticks\":\"\"}}}],\"bar\":[{\"error_x\":{\"color\":\"#2a3f5f\"},\"error_y\":{\"color\":\"#2a3f5f\"},\"marker\":{\"line\":{\"color\":\"#E5ECF6\",\"width\":0.5},\"pattern\":{\"fillmode\":\"overlay\",\"size\":10,\"solidity\":0.2}},\"type\":\"bar\"}],\"scattergeo\":[{\"type\":\"scattergeo\",\"marker\":{\"colorbar\":{\"outlinewidth\":0,\"ticks\":\"\"}}}],\"scatterpolar\":[{\"type\":\"scatterpolar\",\"marker\":{\"colorbar\":{\"outlinewidth\":0,\"ticks\":\"\"}}}],\"histogram\":[{\"marker\":{\"pattern\":{\"fillmode\":\"overlay\",\"size\":10,\"solidity\":0.2}},\"type\":\"histogram\"}],\"scattergl\":[{\"type\":\"scattergl\",\"marker\":{\"colorbar\":{\"outlinewidth\":0,\"ticks\":\"\"}}}],\"scatter3d\":[{\"type\":\"scatter3d\",\"line\":{\"colorbar\":{\"outlinewidth\":0,\"ticks\":\"\"}},\"marker\":{\"colorbar\":{\"outlinewidth\":0,\"ticks\":\"\"}}}],\"scattermapbox\":[{\"type\":\"scattermapbox\",\"marker\":{\"colorbar\":{\"outlinewidth\":0,\"ticks\":\"\"}}}],\"scatterternary\":[{\"type\":\"scatterternary\",\"marker\":{\"colorbar\":{\"outlinewidth\":0,\"ticks\":\"\"}}}],\"scattercarpet\":[{\"type\":\"scattercarpet\",\"marker\":{\"colorbar\":{\"outlinewidth\":0,\"ticks\":\"\"}}}],\"carpet\":[{\"aaxis\":{\"endlinecolor\":\"#2a3f5f\",\"gridcolor\":\"white\",\"linecolor\":\"white\",\"minorgridcolor\":\"white\",\"startlinecolor\":\"#2a3f5f\"},\"baxis\":{\"endlinecolor\":\"#2a3f5f\",\"gridcolor\":\"white\",\"linecolor\":\"white\",\"minorgridcolor\":\"white\",\"startlinecolor\":\"#2a3f5f\"},\"type\":\"carpet\"}],\"table\":[{\"cells\":{\"fill\":{\"color\":\"#EBF0F8\"},\"line\":{\"color\":\"white\"}},\"header\":{\"fill\":{\"color\":\"#C8D4E3\"},\"line\":{\"color\":\"white\"}},\"type\":\"table\"}],\"barpolar\":[{\"marker\":{\"line\":{\"color\":\"#E5ECF6\",\"width\":0.5},\"pattern\":{\"fillmode\":\"overlay\",\"size\":10,\"solidity\":0.2}},\"type\":\"barpolar\"}],\"pie\":[{\"automargin\":true,\"type\":\"pie\"}]},\"layout\":{\"autotypenumbers\":\"strict\",\"colorway\":[\"#636efa\",\"#EF553B\",\"#00cc96\",\"#ab63fa\",\"#FFA15A\",\"#19d3f3\",\"#FF6692\",\"#B6E880\",\"#FF97FF\",\"#FECB52\"],\"font\":{\"color\":\"#2a3f5f\"},\"hovermode\":\"closest\",\"hoverlabel\":{\"align\":\"left\"},\"paper_bgcolor\":\"white\",\"plot_bgcolor\":\"#E5ECF6\",\"polar\":{\"bgcolor\":\"#E5ECF6\",\"angularaxis\":{\"gridcolor\":\"white\",\"linecolor\":\"white\",\"ticks\":\"\"},\"radialaxis\":{\"gridcolor\":\"white\",\"linecolor\":\"white\",\"ticks\":\"\"}},\"ternary\":{\"bgcolor\":\"#E5ECF6\",\"aaxis\":{\"gridcolor\":\"white\",\"linecolor\":\"white\",\"ticks\":\"\"},\"baxis\":{\"gridcolor\":\"white\",\"linecolor\":\"white\",\"ticks\":\"\"},\"caxis\":{\"gridcolor\":\"white\",\"linecolor\":\"white\",\"ticks\":\"\"}},\"coloraxis\":{\"colorbar\":{\"outlinewidth\":0,\"ticks\":\"\"}},\"colorscale\":{\"sequential\":[[0.0,\"#0d0887\"],[0.1111111111111111,\"#46039f\"],[0.2222222222222222,\"#7201a8\"],[0.3333333333333333,\"#9c179e\"],[0.4444444444444444,\"#bd3786\"],[0.5555555555555556,\"#d8576b\"],[0.6666666666666666,\"#ed7953\"],[0.7777777777777778,\"#fb9f3a\"],[0.8888888888888888,\"#fdca26\"],[1.0,\"#f0f921\"]],\"sequentialminus\":[[0.0,\"#0d0887\"],[0.1111111111111111,\"#46039f\"],[0.2222222222222222,\"#7201a8\"],[0.3333333333333333,\"#9c179e\"],[0.4444444444444444,\"#bd3786\"],[0.5555555555555556,\"#d8576b\"],[0.6666666666666666,\"#ed7953\"],[0.7777777777777778,\"#fb9f3a\"],[0.8888888888888888,\"#fdca26\"],[1.0,\"#f0f921\"]],\"diverging\":[[0,\"#8e0152\"],[0.1,\"#c51b7d\"],[0.2,\"#de77ae\"],[0.3,\"#f1b6da\"],[0.4,\"#fde0ef\"],[0.5,\"#f7f7f7\"],[0.6,\"#e6f5d0\"],[0.7,\"#b8e186\"],[0.8,\"#7fbc41\"],[0.9,\"#4d9221\"],[1,\"#276419\"]]},\"xaxis\":{\"gridcolor\":\"white\",\"linecolor\":\"white\",\"ticks\":\"\",\"title\":{\"standoff\":15},\"zerolinecolor\":\"white\",\"automargin\":true,\"zerolinewidth\":2},\"yaxis\":{\"gridcolor\":\"white\",\"linecolor\":\"white\",\"ticks\":\"\",\"title\":{\"standoff\":15},\"zerolinecolor\":\"white\",\"automargin\":true,\"zerolinewidth\":2},\"scene\":{\"xaxis\":{\"backgroundcolor\":\"#E5ECF6\",\"gridcolor\":\"white\",\"linecolor\":\"white\",\"showbackground\":true,\"ticks\":\"\",\"zerolinecolor\":\"white\",\"gridwidth\":2},\"yaxis\":{\"backgroundcolor\":\"#E5ECF6\",\"gridcolor\":\"white\",\"linecolor\":\"white\",\"showbackground\":true,\"ticks\":\"\",\"zerolinecolor\":\"white\",\"gridwidth\":2},\"zaxis\":{\"backgroundcolor\":\"#E5ECF6\",\"gridcolor\":\"white\",\"linecolor\":\"white\",\"showbackground\":true,\"ticks\":\"\",\"zerolinecolor\":\"white\",\"gridwidth\":2}},\"shapedefaults\":{\"line\":{\"color\":\"#2a3f5f\"}},\"annotationdefaults\":{\"arrowcolor\":\"#2a3f5f\",\"arrowhead\":0,\"arrowwidth\":1},\"geo\":{\"bgcolor\":\"white\",\"landcolor\":\"#E5ECF6\",\"subunitcolor\":\"white\",\"showland\":true,\"showlakes\":true,\"lakecolor\":\"white\"},\"title\":{\"x\":0.05},\"mapbox\":{\"style\":\"light\"}}},\"title\":{\"text\":\"Logit through Model Layers\"},\"xaxis\":{\"title\":{\"text\":\"Model Layer\"}},\"yaxis\":{\"title\":{\"text\":\"Logit Value\"}}},                        {\"responsive\": true}                    ).then(function(){\n",
       "                            \n",
       "var gd = document.getElementById('e0cb5506-e9dc-4573-b978-59347b3845e6');\n",
       "var x = new MutationObserver(function (mutations, observer) {{\n",
       "        var display = window.getComputedStyle(gd).display;\n",
       "        if (!display || display === 'none') {{\n",
       "            console.log([gd, 'removed!']);\n",
       "            Plotly.purge(gd);\n",
       "            observer.disconnect();\n",
       "        }}\n",
       "}});\n",
       "\n",
       "// Listen for the removal of the full notebook cells\n",
       "var notebookContainer = gd.closest('#notebook-container');\n",
       "if (notebookContainer) {{\n",
       "    x.observe(notebookContainer, {childList: true});\n",
       "}}\n",
       "\n",
       "// Listen for the clearing of the current output cell\n",
       "var outputEl = gd.closest('.output');\n",
       "if (outputEl) {{\n",
       "    x.observe(outputEl, {childList: true});\n",
       "}}\n",
       "\n",
       "                        })                };                });            </script>        </div>"
      ]
     },
     "metadata": {},
     "output_type": "display_data"
    }
   ],
   "source": [
    "fig = go.Figure()\n",
    "\n",
    "residual_directions = [\n",
    "#     # (cat_answer_residual_direction, 'Tabby Cat Logit', 'grey', cat_index), # Grey for Tabby Cat\n",
    "#     # (dog_answer_residual_direction, 'Border Collie Logit', 'brown', dog_index), # Brown for Border Collie\n",
    "#     # (misc_residual_direction, 'Banana Logit', 'goldenrod', misc_index), # Yellow-Orange for Banana\n",
    "#     # (life_residual_direction, 'Life Logit', 'red', life_index), # Yellow-Orange for Banana\n",
    "#     # (pet_residual_direction, 'Pet Logit', 'black', pet_index), # Yellow-Orange for Banana\n",
    "#     # (edge_residual_direction, 'Edge Logit', 'blue', edge_index), # Yellow-Orange for Banana\n",
    "#     # (animal_residual_direction, 'Animal Logit', 'green', edge_index), # Yellow-Orange for Banana\n",
    "    (interesting_residual_directions[0], interesting_words[0]+'Logit', 'orange', interesting_indexes[0]), # Yellow-Orange for Banana\n",
    "    (interesting_residual_directions[1], interesting_words[1]+'Logit', 'purple', interesting_indexes[1]), # Yellow-Orange for Banana\n",
    "    (interesting_residual_directions[2], interesting_words[2]+'Logit', 'black', interesting_indexes[2]), # Yellow-Orange for Banana\n",
    "    (interesting_residual_directions[3], interesting_words[3]+'Logit', 'grey', interesting_indexes[3]), # Yellow-Orange for Banana\n",
    "    (interesting_residual_directions[4], interesting_words[4]+'Logit', 'green', interesting_indexes[4]), # Yellow-Orange for Banana\n",
    "    (interesting_residual_directions[5], interesting_words[5]+'Logit', 'yellow', interesting_indexes[5]), # Yellow-Orange for Banana\n",
    "    (interesting_residual_directions[6], interesting_words[6]+'Logit', 'red', interesting_indexes[6]), # Yellow-Orange for Banana\n",
    "    (interesting_residual_directions[7], interesting_words[7]+'Logit', 'pink', interesting_indexes[7]), # Yellow-Orange for Banana\n",
    "]\n",
    "\n",
    "\n",
    "\n",
    "hover_text = [f\"{layer_labels[idx]}\" for idx, diff in enumerate(accumulated_residual)]\n",
    "\n",
    "# Process each residual direction\n",
    "for direction, label, color, ix in residual_directions:\n",
    "    # logit_predictions = residual_stack_to_logit(accumulated_residual, cache, direction)\n",
    "    # logit_predictions = logit_predictions.T + bias  # Add bias\n",
    "    # logit_predictions = logit_predictions.detach().numpy()\n",
    "    logit_predictions = residual_stack_to_logit(accumulated_residual, cache).detach().numpy()\n",
    "    logit_predictions = logit_predictions[ix]\n",
    "    fig.add_trace(go.Scatter(x= np.arange(model.cfg.n_layers * 2 + 1) / 2, y=logit_predictions, mode='lines', name=label, text=hover_text, line=dict(color=color)))\n",
    "\n",
    "# Handle \"Average Logit Across All Classes\" separately\n",
    "average_total_logits = average_logit_value_across_all_classes(accumulated_residual, cache).detach().numpy()\n",
    "fig.add_trace(go.Scatter(x= np.arange(model.cfg.n_layers * 2 + 1) / 2, y=average_total_logits, mode='lines', name='Average Logit Across All Classes'))\n",
    "\n",
    "fig.update_layout(\n",
    "    title=\"Logit through Model Layers\",\n",
    "    xaxis_title=\"Model Layer\",\n",
    "    yaxis_title=\"Logit Value\",\n",
    ")\n",
    "\n",
    "fig.show()\n"
   ]
  },
  {
   "cell_type": "markdown",
   "metadata": {
    "id": "ZqcYNIUlsOV7"
   },
   "source": [
    "We can see the model doesn't really weight the Border Collie prediction too highly until Layer 8! The prediction is around equal to the banana prediction. Interestingly, it takes until Layer 8 for the model to decide that the image is *not* a banana."
   ]
  },
  {
   "cell_type": "code",
   "execution_count": 301,
   "metadata": {
    "id": "4q7Cm4vAlt6N"
   },
   "outputs": [
    {
     "data": {
      "application/vnd.plotly.v1+json": {
       "config": {
        "plotlyServerURL": "https://plot.ly"
       },
       "data": [
        {
         "line": {
          "color": "orange"
         },
         "mode": "lines",
         "name": "fluffyLogit",
         "text": [
          "embed",
          "pos_embed",
          "0_attn_out",
          "0_mlp_out",
          "1_attn_out",
          "1_mlp_out",
          "2_attn_out",
          "2_mlp_out",
          "3_attn_out",
          "3_mlp_out",
          "4_attn_out",
          "4_mlp_out",
          "5_attn_out",
          "5_mlp_out",
          "6_attn_out",
          "6_mlp_out",
          "7_attn_out",
          "7_mlp_out",
          "8_attn_out",
          "8_mlp_out",
          "9_attn_out",
          "9_mlp_out",
          "10_attn_out",
          "10_mlp_out",
          "11_attn_out",
          "11_mlp_out"
         ],
         "type": "scatter",
         "y": [
          4.008615970611572,
          12.623469352722168,
          11.363563537597656,
          11.11400032043457,
          12.38427734375,
          9.773368835449219,
          9.400320053100586,
          11.07272720336914,
          10.291666030883789,
          10.650938987731934,
          11.189791679382324,
          10.86319351196289,
          12.243826866149902,
          10.566481590270996,
          12.182159423828125,
          11.504709243774414,
          11.418990135192871,
          9.644988059997559,
          11.818056106567383,
          9.151948928833008,
          12.172575950622559,
          8.872601509094238,
          12.680614471435547,
          8.082405090332031,
          7.310277938842773,
          10.118871688842773
         ]
        },
        {
         "line": {
          "color": "purple"
         },
         "mode": "lines",
         "name": "scalyLogit",
         "text": [
          "embed",
          "pos_embed",
          "0_attn_out",
          "0_mlp_out",
          "1_attn_out",
          "1_mlp_out",
          "2_attn_out",
          "2_mlp_out",
          "3_attn_out",
          "3_mlp_out",
          "4_attn_out",
          "4_mlp_out",
          "5_attn_out",
          "5_mlp_out",
          "6_attn_out",
          "6_mlp_out",
          "7_attn_out",
          "7_mlp_out",
          "8_attn_out",
          "8_mlp_out",
          "9_attn_out",
          "9_mlp_out",
          "10_attn_out",
          "10_mlp_out",
          "11_attn_out",
          "11_mlp_out"
         ],
         "type": "scatter",
         "y": [
          2.775926351547241,
          12.071481704711914,
          10.504566192626953,
          8.73055362701416,
          13.511429786682129,
          9.427433013916016,
          8.960759162902832,
          8.937738418579102,
          9.851574897766113,
          9.510225296020508,
          9.91988468170166,
          10.219414710998535,
          10.635644912719727,
          10.329888343811035,
          10.32162094116211,
          10.840778350830078,
          9.7612943649292,
          9.672445297241211,
          10.49126148223877,
          8.835604667663574,
          10.706110000610352,
          8.585959434509277,
          10.873777389526367,
          6.609297275543213,
          4.740115165710449,
          11.15743637084961
         ]
        },
        {
         "name": "Average Logit Across All Labels",
         "type": "scatter",
         "y": [
          3.635838031768799,
          12.656412124633789,
          10.441224098205566,
          10.569036483764648,
          12.647931098937988,
          9.993252754211426,
          8.975725173950195,
          11.325263977050781,
          9.837639808654785,
          11.308696746826172,
          9.968354225158691,
          11.192953109741211,
          11.755626678466797,
          10.828777313232422,
          11.466863632202148,
          11.586509704589844,
          10.978325843811035,
          9.941740989685059,
          11.351269721984863,
          9.12109375,
          11.75799560546875,
          8.918292999267578,
          11.613390922546387,
          7.928216934204102,
          6.919983863830566,
          10.212397575378418
         ]
        }
       ],
       "layout": {
        "autosize": true,
        "template": {
         "data": {
          "bar": [
           {
            "error_x": {
             "color": "#2a3f5f"
            },
            "error_y": {
             "color": "#2a3f5f"
            },
            "marker": {
             "line": {
              "color": "#E5ECF6",
              "width": 0.5
             },
             "pattern": {
              "fillmode": "overlay",
              "size": 10,
              "solidity": 0.2
             }
            },
            "type": "bar"
           }
          ],
          "barpolar": [
           {
            "marker": {
             "line": {
              "color": "#E5ECF6",
              "width": 0.5
             },
             "pattern": {
              "fillmode": "overlay",
              "size": 10,
              "solidity": 0.2
             }
            },
            "type": "barpolar"
           }
          ],
          "carpet": [
           {
            "aaxis": {
             "endlinecolor": "#2a3f5f",
             "gridcolor": "white",
             "linecolor": "white",
             "minorgridcolor": "white",
             "startlinecolor": "#2a3f5f"
            },
            "baxis": {
             "endlinecolor": "#2a3f5f",
             "gridcolor": "white",
             "linecolor": "white",
             "minorgridcolor": "white",
             "startlinecolor": "#2a3f5f"
            },
            "type": "carpet"
           }
          ],
          "choropleth": [
           {
            "colorbar": {
             "outlinewidth": 0,
             "ticks": ""
            },
            "type": "choropleth"
           }
          ],
          "contour": [
           {
            "colorbar": {
             "outlinewidth": 0,
             "ticks": ""
            },
            "colorscale": [
             [
              0,
              "#0d0887"
             ],
             [
              0.1111111111111111,
              "#46039f"
             ],
             [
              0.2222222222222222,
              "#7201a8"
             ],
             [
              0.3333333333333333,
              "#9c179e"
             ],
             [
              0.4444444444444444,
              "#bd3786"
             ],
             [
              0.5555555555555556,
              "#d8576b"
             ],
             [
              0.6666666666666666,
              "#ed7953"
             ],
             [
              0.7777777777777778,
              "#fb9f3a"
             ],
             [
              0.8888888888888888,
              "#fdca26"
             ],
             [
              1,
              "#f0f921"
             ]
            ],
            "type": "contour"
           }
          ],
          "contourcarpet": [
           {
            "colorbar": {
             "outlinewidth": 0,
             "ticks": ""
            },
            "type": "contourcarpet"
           }
          ],
          "heatmap": [
           {
            "colorbar": {
             "outlinewidth": 0,
             "ticks": ""
            },
            "colorscale": [
             [
              0,
              "#0d0887"
             ],
             [
              0.1111111111111111,
              "#46039f"
             ],
             [
              0.2222222222222222,
              "#7201a8"
             ],
             [
              0.3333333333333333,
              "#9c179e"
             ],
             [
              0.4444444444444444,
              "#bd3786"
             ],
             [
              0.5555555555555556,
              "#d8576b"
             ],
             [
              0.6666666666666666,
              "#ed7953"
             ],
             [
              0.7777777777777778,
              "#fb9f3a"
             ],
             [
              0.8888888888888888,
              "#fdca26"
             ],
             [
              1,
              "#f0f921"
             ]
            ],
            "type": "heatmap"
           }
          ],
          "heatmapgl": [
           {
            "colorbar": {
             "outlinewidth": 0,
             "ticks": ""
            },
            "colorscale": [
             [
              0,
              "#0d0887"
             ],
             [
              0.1111111111111111,
              "#46039f"
             ],
             [
              0.2222222222222222,
              "#7201a8"
             ],
             [
              0.3333333333333333,
              "#9c179e"
             ],
             [
              0.4444444444444444,
              "#bd3786"
             ],
             [
              0.5555555555555556,
              "#d8576b"
             ],
             [
              0.6666666666666666,
              "#ed7953"
             ],
             [
              0.7777777777777778,
              "#fb9f3a"
             ],
             [
              0.8888888888888888,
              "#fdca26"
             ],
             [
              1,
              "#f0f921"
             ]
            ],
            "type": "heatmapgl"
           }
          ],
          "histogram": [
           {
            "marker": {
             "pattern": {
              "fillmode": "overlay",
              "size": 10,
              "solidity": 0.2
             }
            },
            "type": "histogram"
           }
          ],
          "histogram2d": [
           {
            "colorbar": {
             "outlinewidth": 0,
             "ticks": ""
            },
            "colorscale": [
             [
              0,
              "#0d0887"
             ],
             [
              0.1111111111111111,
              "#46039f"
             ],
             [
              0.2222222222222222,
              "#7201a8"
             ],
             [
              0.3333333333333333,
              "#9c179e"
             ],
             [
              0.4444444444444444,
              "#bd3786"
             ],
             [
              0.5555555555555556,
              "#d8576b"
             ],
             [
              0.6666666666666666,
              "#ed7953"
             ],
             [
              0.7777777777777778,
              "#fb9f3a"
             ],
             [
              0.8888888888888888,
              "#fdca26"
             ],
             [
              1,
              "#f0f921"
             ]
            ],
            "type": "histogram2d"
           }
          ],
          "histogram2dcontour": [
           {
            "colorbar": {
             "outlinewidth": 0,
             "ticks": ""
            },
            "colorscale": [
             [
              0,
              "#0d0887"
             ],
             [
              0.1111111111111111,
              "#46039f"
             ],
             [
              0.2222222222222222,
              "#7201a8"
             ],
             [
              0.3333333333333333,
              "#9c179e"
             ],
             [
              0.4444444444444444,
              "#bd3786"
             ],
             [
              0.5555555555555556,
              "#d8576b"
             ],
             [
              0.6666666666666666,
              "#ed7953"
             ],
             [
              0.7777777777777778,
              "#fb9f3a"
             ],
             [
              0.8888888888888888,
              "#fdca26"
             ],
             [
              1,
              "#f0f921"
             ]
            ],
            "type": "histogram2dcontour"
           }
          ],
          "mesh3d": [
           {
            "colorbar": {
             "outlinewidth": 0,
             "ticks": ""
            },
            "type": "mesh3d"
           }
          ],
          "parcoords": [
           {
            "line": {
             "colorbar": {
              "outlinewidth": 0,
              "ticks": ""
             }
            },
            "type": "parcoords"
           }
          ],
          "pie": [
           {
            "automargin": true,
            "type": "pie"
           }
          ],
          "scatter": [
           {
            "fillpattern": {
             "fillmode": "overlay",
             "size": 10,
             "solidity": 0.2
            },
            "type": "scatter"
           }
          ],
          "scatter3d": [
           {
            "line": {
             "colorbar": {
              "outlinewidth": 0,
              "ticks": ""
             }
            },
            "marker": {
             "colorbar": {
              "outlinewidth": 0,
              "ticks": ""
             }
            },
            "type": "scatter3d"
           }
          ],
          "scattercarpet": [
           {
            "marker": {
             "colorbar": {
              "outlinewidth": 0,
              "ticks": ""
             }
            },
            "type": "scattercarpet"
           }
          ],
          "scattergeo": [
           {
            "marker": {
             "colorbar": {
              "outlinewidth": 0,
              "ticks": ""
             }
            },
            "type": "scattergeo"
           }
          ],
          "scattergl": [
           {
            "marker": {
             "colorbar": {
              "outlinewidth": 0,
              "ticks": ""
             }
            },
            "type": "scattergl"
           }
          ],
          "scattermapbox": [
           {
            "marker": {
             "colorbar": {
              "outlinewidth": 0,
              "ticks": ""
             }
            },
            "type": "scattermapbox"
           }
          ],
          "scatterpolar": [
           {
            "marker": {
             "colorbar": {
              "outlinewidth": 0,
              "ticks": ""
             }
            },
            "type": "scatterpolar"
           }
          ],
          "scatterpolargl": [
           {
            "marker": {
             "colorbar": {
              "outlinewidth": 0,
              "ticks": ""
             }
            },
            "type": "scatterpolargl"
           }
          ],
          "scatterternary": [
           {
            "marker": {
             "colorbar": {
              "outlinewidth": 0,
              "ticks": ""
             }
            },
            "type": "scatterternary"
           }
          ],
          "surface": [
           {
            "colorbar": {
             "outlinewidth": 0,
             "ticks": ""
            },
            "colorscale": [
             [
              0,
              "#0d0887"
             ],
             [
              0.1111111111111111,
              "#46039f"
             ],
             [
              0.2222222222222222,
              "#7201a8"
             ],
             [
              0.3333333333333333,
              "#9c179e"
             ],
             [
              0.4444444444444444,
              "#bd3786"
             ],
             [
              0.5555555555555556,
              "#d8576b"
             ],
             [
              0.6666666666666666,
              "#ed7953"
             ],
             [
              0.7777777777777778,
              "#fb9f3a"
             ],
             [
              0.8888888888888888,
              "#fdca26"
             ],
             [
              1,
              "#f0f921"
             ]
            ],
            "type": "surface"
           }
          ],
          "table": [
           {
            "cells": {
             "fill": {
              "color": "#EBF0F8"
             },
             "line": {
              "color": "white"
             }
            },
            "header": {
             "fill": {
              "color": "#C8D4E3"
             },
             "line": {
              "color": "white"
             }
            },
            "type": "table"
           }
          ]
         },
         "layout": {
          "annotationdefaults": {
           "arrowcolor": "#2a3f5f",
           "arrowhead": 0,
           "arrowwidth": 1
          },
          "autotypenumbers": "strict",
          "coloraxis": {
           "colorbar": {
            "outlinewidth": 0,
            "ticks": ""
           }
          },
          "colorscale": {
           "diverging": [
            [
             0,
             "#8e0152"
            ],
            [
             0.1,
             "#c51b7d"
            ],
            [
             0.2,
             "#de77ae"
            ],
            [
             0.3,
             "#f1b6da"
            ],
            [
             0.4,
             "#fde0ef"
            ],
            [
             0.5,
             "#f7f7f7"
            ],
            [
             0.6,
             "#e6f5d0"
            ],
            [
             0.7,
             "#b8e186"
            ],
            [
             0.8,
             "#7fbc41"
            ],
            [
             0.9,
             "#4d9221"
            ],
            [
             1,
             "#276419"
            ]
           ],
           "sequential": [
            [
             0,
             "#0d0887"
            ],
            [
             0.1111111111111111,
             "#46039f"
            ],
            [
             0.2222222222222222,
             "#7201a8"
            ],
            [
             0.3333333333333333,
             "#9c179e"
            ],
            [
             0.4444444444444444,
             "#bd3786"
            ],
            [
             0.5555555555555556,
             "#d8576b"
            ],
            [
             0.6666666666666666,
             "#ed7953"
            ],
            [
             0.7777777777777778,
             "#fb9f3a"
            ],
            [
             0.8888888888888888,
             "#fdca26"
            ],
            [
             1,
             "#f0f921"
            ]
           ],
           "sequentialminus": [
            [
             0,
             "#0d0887"
            ],
            [
             0.1111111111111111,
             "#46039f"
            ],
            [
             0.2222222222222222,
             "#7201a8"
            ],
            [
             0.3333333333333333,
             "#9c179e"
            ],
            [
             0.4444444444444444,
             "#bd3786"
            ],
            [
             0.5555555555555556,
             "#d8576b"
            ],
            [
             0.6666666666666666,
             "#ed7953"
            ],
            [
             0.7777777777777778,
             "#fb9f3a"
            ],
            [
             0.8888888888888888,
             "#fdca26"
            ],
            [
             1,
             "#f0f921"
            ]
           ]
          },
          "colorway": [
           "#636efa",
           "#EF553B",
           "#00cc96",
           "#ab63fa",
           "#FFA15A",
           "#19d3f3",
           "#FF6692",
           "#B6E880",
           "#FF97FF",
           "#FECB52"
          ],
          "font": {
           "color": "#2a3f5f"
          },
          "geo": {
           "bgcolor": "white",
           "lakecolor": "white",
           "landcolor": "#E5ECF6",
           "showlakes": true,
           "showland": true,
           "subunitcolor": "white"
          },
          "hoverlabel": {
           "align": "left"
          },
          "hovermode": "closest",
          "mapbox": {
           "style": "light"
          },
          "paper_bgcolor": "white",
          "plot_bgcolor": "#E5ECF6",
          "polar": {
           "angularaxis": {
            "gridcolor": "white",
            "linecolor": "white",
            "ticks": ""
           },
           "bgcolor": "#E5ECF6",
           "radialaxis": {
            "gridcolor": "white",
            "linecolor": "white",
            "ticks": ""
           }
          },
          "scene": {
           "xaxis": {
            "backgroundcolor": "#E5ECF6",
            "gridcolor": "white",
            "gridwidth": 2,
            "linecolor": "white",
            "showbackground": true,
            "ticks": "",
            "zerolinecolor": "white"
           },
           "yaxis": {
            "backgroundcolor": "#E5ECF6",
            "gridcolor": "white",
            "gridwidth": 2,
            "linecolor": "white",
            "showbackground": true,
            "ticks": "",
            "zerolinecolor": "white"
           },
           "zaxis": {
            "backgroundcolor": "#E5ECF6",
            "gridcolor": "white",
            "gridwidth": 2,
            "linecolor": "white",
            "showbackground": true,
            "ticks": "",
            "zerolinecolor": "white"
           }
          },
          "shapedefaults": {
           "line": {
            "color": "#2a3f5f"
           }
          },
          "ternary": {
           "aaxis": {
            "gridcolor": "white",
            "linecolor": "white",
            "ticks": ""
           },
           "baxis": {
            "gridcolor": "white",
            "linecolor": "white",
            "ticks": ""
           },
           "bgcolor": "#E5ECF6",
           "caxis": {
            "gridcolor": "white",
            "linecolor": "white",
            "ticks": ""
           }
          },
          "title": {
           "x": 0.05
          },
          "xaxis": {
           "automargin": true,
           "gridcolor": "white",
           "linecolor": "white",
           "ticks": "",
           "title": {
            "standoff": 15
           },
           "zerolinecolor": "white",
           "zerolinewidth": 2
          },
          "yaxis": {
           "automargin": true,
           "gridcolor": "white",
           "linecolor": "white",
           "ticks": "",
           "title": {
            "standoff": 15
           },
           "zerolinecolor": "white",
           "zerolinewidth": 2
          }
         }
        },
        "title": {
         "text": "Logit through Model Layers"
        },
        "xaxis": {
         "autorange": true,
         "range": [
          0,
          25
         ],
         "title": {
          "text": "Layer"
         }
        },
        "yaxis": {
         "autorange": true,
         "range": [
          2.1795094940397473,
          14.107846644189623
         ],
         "title": {
          "text": "Logit Difference"
         },
         "type": "linear"
        }
       }
      },
      "text/html": [
       "<div>                            <div id=\"b00a3258-2a3a-4622-a63d-a68f5cc2d9c6\" class=\"plotly-graph-div\" style=\"height:525px; width:100%;\"></div>            <script type=\"text/javascript\">                require([\"plotly\"], function(Plotly) {                    window.PLOTLYENV=window.PLOTLYENV || {};                                    if (document.getElementById(\"b00a3258-2a3a-4622-a63d-a68f5cc2d9c6\")) {                    Plotly.newPlot(                        \"b00a3258-2a3a-4622-a63d-a68f5cc2d9c6\",                        [{\"line\":{\"color\":\"orange\"},\"mode\":\"lines\",\"name\":\"fluffyLogit\",\"text\":[\"embed\",\"pos_embed\",\"0_attn_out\",\"0_mlp_out\",\"1_attn_out\",\"1_mlp_out\",\"2_attn_out\",\"2_mlp_out\",\"3_attn_out\",\"3_mlp_out\",\"4_attn_out\",\"4_mlp_out\",\"5_attn_out\",\"5_mlp_out\",\"6_attn_out\",\"6_mlp_out\",\"7_attn_out\",\"7_mlp_out\",\"8_attn_out\",\"8_mlp_out\",\"9_attn_out\",\"9_mlp_out\",\"10_attn_out\",\"10_mlp_out\",\"11_attn_out\",\"11_mlp_out\"],\"y\":[4.008615970611572,12.623469352722168,11.363563537597656,11.11400032043457,12.38427734375,9.773368835449219,9.400320053100586,11.07272720336914,10.291666030883789,10.650938987731934,11.189791679382324,10.86319351196289,12.243826866149902,10.566481590270996,12.182159423828125,11.504709243774414,11.418990135192871,9.644988059997559,11.818056106567383,9.151948928833008,12.172575950622559,8.872601509094238,12.680614471435547,8.082405090332031,7.310277938842773,10.118871688842773],\"type\":\"scatter\"},{\"line\":{\"color\":\"purple\"},\"mode\":\"lines\",\"name\":\"scalyLogit\",\"text\":[\"embed\",\"pos_embed\",\"0_attn_out\",\"0_mlp_out\",\"1_attn_out\",\"1_mlp_out\",\"2_attn_out\",\"2_mlp_out\",\"3_attn_out\",\"3_mlp_out\",\"4_attn_out\",\"4_mlp_out\",\"5_attn_out\",\"5_mlp_out\",\"6_attn_out\",\"6_mlp_out\",\"7_attn_out\",\"7_mlp_out\",\"8_attn_out\",\"8_mlp_out\",\"9_attn_out\",\"9_mlp_out\",\"10_attn_out\",\"10_mlp_out\",\"11_attn_out\",\"11_mlp_out\"],\"y\":[2.775926351547241,12.071481704711914,10.504566192626953,8.73055362701416,13.511429786682129,9.427433013916016,8.960759162902832,8.937738418579102,9.851574897766113,9.510225296020508,9.91988468170166,10.219414710998535,10.635644912719727,10.329888343811035,10.32162094116211,10.840778350830078,9.7612943649292,9.672445297241211,10.49126148223877,8.835604667663574,10.706110000610352,8.585959434509277,10.873777389526367,6.609297275543213,4.740115165710449,11.15743637084961],\"type\":\"scatter\"},{\"name\":\"Average Logit Across All Labels\",\"y\":[3.635838031768799,12.656412124633789,10.441224098205566,10.569036483764648,12.647931098937988,9.993252754211426,8.975725173950195,11.325263977050781,9.837639808654785,11.308696746826172,9.968354225158691,11.192953109741211,11.755626678466797,10.828777313232422,11.466863632202148,11.586509704589844,10.978325843811035,9.941740989685059,11.351269721984863,9.12109375,11.75799560546875,8.918292999267578,11.613390922546387,7.928216934204102,6.919983863830566,10.212397575378418],\"type\":\"scatter\"}],                        {\"template\":{\"data\":{\"histogram2dcontour\":[{\"type\":\"histogram2dcontour\",\"colorbar\":{\"outlinewidth\":0,\"ticks\":\"\"},\"colorscale\":[[0.0,\"#0d0887\"],[0.1111111111111111,\"#46039f\"],[0.2222222222222222,\"#7201a8\"],[0.3333333333333333,\"#9c179e\"],[0.4444444444444444,\"#bd3786\"],[0.5555555555555556,\"#d8576b\"],[0.6666666666666666,\"#ed7953\"],[0.7777777777777778,\"#fb9f3a\"],[0.8888888888888888,\"#fdca26\"],[1.0,\"#f0f921\"]]}],\"choropleth\":[{\"type\":\"choropleth\",\"colorbar\":{\"outlinewidth\":0,\"ticks\":\"\"}}],\"histogram2d\":[{\"type\":\"histogram2d\",\"colorbar\":{\"outlinewidth\":0,\"ticks\":\"\"},\"colorscale\":[[0.0,\"#0d0887\"],[0.1111111111111111,\"#46039f\"],[0.2222222222222222,\"#7201a8\"],[0.3333333333333333,\"#9c179e\"],[0.4444444444444444,\"#bd3786\"],[0.5555555555555556,\"#d8576b\"],[0.6666666666666666,\"#ed7953\"],[0.7777777777777778,\"#fb9f3a\"],[0.8888888888888888,\"#fdca26\"],[1.0,\"#f0f921\"]]}],\"heatmap\":[{\"type\":\"heatmap\",\"colorbar\":{\"outlinewidth\":0,\"ticks\":\"\"},\"colorscale\":[[0.0,\"#0d0887\"],[0.1111111111111111,\"#46039f\"],[0.2222222222222222,\"#7201a8\"],[0.3333333333333333,\"#9c179e\"],[0.4444444444444444,\"#bd3786\"],[0.5555555555555556,\"#d8576b\"],[0.6666666666666666,\"#ed7953\"],[0.7777777777777778,\"#fb9f3a\"],[0.8888888888888888,\"#fdca26\"],[1.0,\"#f0f921\"]]}],\"heatmapgl\":[{\"type\":\"heatmapgl\",\"colorbar\":{\"outlinewidth\":0,\"ticks\":\"\"},\"colorscale\":[[0.0,\"#0d0887\"],[0.1111111111111111,\"#46039f\"],[0.2222222222222222,\"#7201a8\"],[0.3333333333333333,\"#9c179e\"],[0.4444444444444444,\"#bd3786\"],[0.5555555555555556,\"#d8576b\"],[0.6666666666666666,\"#ed7953\"],[0.7777777777777778,\"#fb9f3a\"],[0.8888888888888888,\"#fdca26\"],[1.0,\"#f0f921\"]]}],\"contourcarpet\":[{\"type\":\"contourcarpet\",\"colorbar\":{\"outlinewidth\":0,\"ticks\":\"\"}}],\"contour\":[{\"type\":\"contour\",\"colorbar\":{\"outlinewidth\":0,\"ticks\":\"\"},\"colorscale\":[[0.0,\"#0d0887\"],[0.1111111111111111,\"#46039f\"],[0.2222222222222222,\"#7201a8\"],[0.3333333333333333,\"#9c179e\"],[0.4444444444444444,\"#bd3786\"],[0.5555555555555556,\"#d8576b\"],[0.6666666666666666,\"#ed7953\"],[0.7777777777777778,\"#fb9f3a\"],[0.8888888888888888,\"#fdca26\"],[1.0,\"#f0f921\"]]}],\"surface\":[{\"type\":\"surface\",\"colorbar\":{\"outlinewidth\":0,\"ticks\":\"\"},\"colorscale\":[[0.0,\"#0d0887\"],[0.1111111111111111,\"#46039f\"],[0.2222222222222222,\"#7201a8\"],[0.3333333333333333,\"#9c179e\"],[0.4444444444444444,\"#bd3786\"],[0.5555555555555556,\"#d8576b\"],[0.6666666666666666,\"#ed7953\"],[0.7777777777777778,\"#fb9f3a\"],[0.8888888888888888,\"#fdca26\"],[1.0,\"#f0f921\"]]}],\"mesh3d\":[{\"type\":\"mesh3d\",\"colorbar\":{\"outlinewidth\":0,\"ticks\":\"\"}}],\"scatter\":[{\"fillpattern\":{\"fillmode\":\"overlay\",\"size\":10,\"solidity\":0.2},\"type\":\"scatter\"}],\"parcoords\":[{\"type\":\"parcoords\",\"line\":{\"colorbar\":{\"outlinewidth\":0,\"ticks\":\"\"}}}],\"scatterpolargl\":[{\"type\":\"scatterpolargl\",\"marker\":{\"colorbar\":{\"outlinewidth\":0,\"ticks\":\"\"}}}],\"bar\":[{\"error_x\":{\"color\":\"#2a3f5f\"},\"error_y\":{\"color\":\"#2a3f5f\"},\"marker\":{\"line\":{\"color\":\"#E5ECF6\",\"width\":0.5},\"pattern\":{\"fillmode\":\"overlay\",\"size\":10,\"solidity\":0.2}},\"type\":\"bar\"}],\"scattergeo\":[{\"type\":\"scattergeo\",\"marker\":{\"colorbar\":{\"outlinewidth\":0,\"ticks\":\"\"}}}],\"scatterpolar\":[{\"type\":\"scatterpolar\",\"marker\":{\"colorbar\":{\"outlinewidth\":0,\"ticks\":\"\"}}}],\"histogram\":[{\"marker\":{\"pattern\":{\"fillmode\":\"overlay\",\"size\":10,\"solidity\":0.2}},\"type\":\"histogram\"}],\"scattergl\":[{\"type\":\"scattergl\",\"marker\":{\"colorbar\":{\"outlinewidth\":0,\"ticks\":\"\"}}}],\"scatter3d\":[{\"type\":\"scatter3d\",\"line\":{\"colorbar\":{\"outlinewidth\":0,\"ticks\":\"\"}},\"marker\":{\"colorbar\":{\"outlinewidth\":0,\"ticks\":\"\"}}}],\"scattermapbox\":[{\"type\":\"scattermapbox\",\"marker\":{\"colorbar\":{\"outlinewidth\":0,\"ticks\":\"\"}}}],\"scatterternary\":[{\"type\":\"scatterternary\",\"marker\":{\"colorbar\":{\"outlinewidth\":0,\"ticks\":\"\"}}}],\"scattercarpet\":[{\"type\":\"scattercarpet\",\"marker\":{\"colorbar\":{\"outlinewidth\":0,\"ticks\":\"\"}}}],\"carpet\":[{\"aaxis\":{\"endlinecolor\":\"#2a3f5f\",\"gridcolor\":\"white\",\"linecolor\":\"white\",\"minorgridcolor\":\"white\",\"startlinecolor\":\"#2a3f5f\"},\"baxis\":{\"endlinecolor\":\"#2a3f5f\",\"gridcolor\":\"white\",\"linecolor\":\"white\",\"minorgridcolor\":\"white\",\"startlinecolor\":\"#2a3f5f\"},\"type\":\"carpet\"}],\"table\":[{\"cells\":{\"fill\":{\"color\":\"#EBF0F8\"},\"line\":{\"color\":\"white\"}},\"header\":{\"fill\":{\"color\":\"#C8D4E3\"},\"line\":{\"color\":\"white\"}},\"type\":\"table\"}],\"barpolar\":[{\"marker\":{\"line\":{\"color\":\"#E5ECF6\",\"width\":0.5},\"pattern\":{\"fillmode\":\"overlay\",\"size\":10,\"solidity\":0.2}},\"type\":\"barpolar\"}],\"pie\":[{\"automargin\":true,\"type\":\"pie\"}]},\"layout\":{\"autotypenumbers\":\"strict\",\"colorway\":[\"#636efa\",\"#EF553B\",\"#00cc96\",\"#ab63fa\",\"#FFA15A\",\"#19d3f3\",\"#FF6692\",\"#B6E880\",\"#FF97FF\",\"#FECB52\"],\"font\":{\"color\":\"#2a3f5f\"},\"hovermode\":\"closest\",\"hoverlabel\":{\"align\":\"left\"},\"paper_bgcolor\":\"white\",\"plot_bgcolor\":\"#E5ECF6\",\"polar\":{\"bgcolor\":\"#E5ECF6\",\"angularaxis\":{\"gridcolor\":\"white\",\"linecolor\":\"white\",\"ticks\":\"\"},\"radialaxis\":{\"gridcolor\":\"white\",\"linecolor\":\"white\",\"ticks\":\"\"}},\"ternary\":{\"bgcolor\":\"#E5ECF6\",\"aaxis\":{\"gridcolor\":\"white\",\"linecolor\":\"white\",\"ticks\":\"\"},\"baxis\":{\"gridcolor\":\"white\",\"linecolor\":\"white\",\"ticks\":\"\"},\"caxis\":{\"gridcolor\":\"white\",\"linecolor\":\"white\",\"ticks\":\"\"}},\"coloraxis\":{\"colorbar\":{\"outlinewidth\":0,\"ticks\":\"\"}},\"colorscale\":{\"sequential\":[[0.0,\"#0d0887\"],[0.1111111111111111,\"#46039f\"],[0.2222222222222222,\"#7201a8\"],[0.3333333333333333,\"#9c179e\"],[0.4444444444444444,\"#bd3786\"],[0.5555555555555556,\"#d8576b\"],[0.6666666666666666,\"#ed7953\"],[0.7777777777777778,\"#fb9f3a\"],[0.8888888888888888,\"#fdca26\"],[1.0,\"#f0f921\"]],\"sequentialminus\":[[0.0,\"#0d0887\"],[0.1111111111111111,\"#46039f\"],[0.2222222222222222,\"#7201a8\"],[0.3333333333333333,\"#9c179e\"],[0.4444444444444444,\"#bd3786\"],[0.5555555555555556,\"#d8576b\"],[0.6666666666666666,\"#ed7953\"],[0.7777777777777778,\"#fb9f3a\"],[0.8888888888888888,\"#fdca26\"],[1.0,\"#f0f921\"]],\"diverging\":[[0,\"#8e0152\"],[0.1,\"#c51b7d\"],[0.2,\"#de77ae\"],[0.3,\"#f1b6da\"],[0.4,\"#fde0ef\"],[0.5,\"#f7f7f7\"],[0.6,\"#e6f5d0\"],[0.7,\"#b8e186\"],[0.8,\"#7fbc41\"],[0.9,\"#4d9221\"],[1,\"#276419\"]]},\"xaxis\":{\"gridcolor\":\"white\",\"linecolor\":\"white\",\"ticks\":\"\",\"title\":{\"standoff\":15},\"zerolinecolor\":\"white\",\"automargin\":true,\"zerolinewidth\":2},\"yaxis\":{\"gridcolor\":\"white\",\"linecolor\":\"white\",\"ticks\":\"\",\"title\":{\"standoff\":15},\"zerolinecolor\":\"white\",\"automargin\":true,\"zerolinewidth\":2},\"scene\":{\"xaxis\":{\"backgroundcolor\":\"#E5ECF6\",\"gridcolor\":\"white\",\"linecolor\":\"white\",\"showbackground\":true,\"ticks\":\"\",\"zerolinecolor\":\"white\",\"gridwidth\":2},\"yaxis\":{\"backgroundcolor\":\"#E5ECF6\",\"gridcolor\":\"white\",\"linecolor\":\"white\",\"showbackground\":true,\"ticks\":\"\",\"zerolinecolor\":\"white\",\"gridwidth\":2},\"zaxis\":{\"backgroundcolor\":\"#E5ECF6\",\"gridcolor\":\"white\",\"linecolor\":\"white\",\"showbackground\":true,\"ticks\":\"\",\"zerolinecolor\":\"white\",\"gridwidth\":2}},\"shapedefaults\":{\"line\":{\"color\":\"#2a3f5f\"}},\"annotationdefaults\":{\"arrowcolor\":\"#2a3f5f\",\"arrowhead\":0,\"arrowwidth\":1},\"geo\":{\"bgcolor\":\"white\",\"landcolor\":\"#E5ECF6\",\"subunitcolor\":\"white\",\"showland\":true,\"showlakes\":true,\"lakecolor\":\"white\"},\"title\":{\"x\":0.05},\"mapbox\":{\"style\":\"light\"}}},\"title\":{\"text\":\"Logit through Model Layers\"},\"xaxis\":{\"title\":{\"text\":\"Layer\"}},\"yaxis\":{\"title\":{\"text\":\"Logit Difference\"}}},                        {\"responsive\": true}                    ).then(function(){\n",
       "                            \n",
       "var gd = document.getElementById('b00a3258-2a3a-4622-a63d-a68f5cc2d9c6');\n",
       "var x = new MutationObserver(function (mutations, observer) {{\n",
       "        var display = window.getComputedStyle(gd).display;\n",
       "        if (!display || display === 'none') {{\n",
       "            console.log([gd, 'removed!']);\n",
       "            Plotly.purge(gd);\n",
       "            observer.disconnect();\n",
       "        }}\n",
       "}});\n",
       "\n",
       "// Listen for the removal of the full notebook cells\n",
       "var notebookContainer = gd.closest('#notebook-container');\n",
       "if (notebookContainer) {{\n",
       "    x.observe(notebookContainer, {childList: true});\n",
       "}}\n",
       "\n",
       "// Listen for the clearing of the current output cell\n",
       "var outputEl = gd.closest('.output');\n",
       "if (outputEl) {{\n",
       "    x.observe(outputEl, {childList: true});\n",
       "}}\n",
       "\n",
       "                        })                };                });            </script>        </div>"
      ]
     },
     "metadata": {},
     "output_type": "display_data"
    }
   ],
   "source": [
    "import plotly.graph_objects as go\n",
    "\n",
    "# Assuming `cache`, `average_logit_value_across_all_classes`, `residual_stack_to_logit`, and other necessary functions and variables are defined elsewhere\n",
    "\n",
    "# Retrieve the per-layer residual and labels\n",
    "per_layer_residual, layer_labels = cache.decompose_resid(\n",
    "    layer=-1, pos_slice=0, return_labels=True\n",
    ")\n",
    "\n",
    "# Initialize the figure\n",
    "fig = go.Figure()\n",
    "\n",
    "# Iterate over each residual direction and its corresponding label\n",
    "for direction, label, color, ix in residual_directions:\n",
    "    per_layer_logit_diffs = residual_stack_to_logit(per_layer_residual, cache)\n",
    "    per_layer_logit_diffs = per_layer_logit_diffs[ix]\n",
    "    per_layer_logit_diffs = per_layer_logit_diffs.detach().numpy()  # Assuming you want the first element for some reason; adjust if necessary\n",
    "    hover_text = [f\"{layer_labels[idx]}\" for idx, diff in enumerate(per_layer_logit_diffs)]\n",
    "    fig.add_trace(go.Scatter(y=per_layer_logit_diffs, mode='lines', name=label, text=hover_text, line=dict(color=color)))\n",
    "\n",
    "# Handle average logits across all classes\n",
    "average_total_logits = average_logit_value_across_all_classes(per_layer_residual, cache).detach().numpy()\n",
    "fig.add_trace(go.Scatter(y=average_total_logits, name=\"Average Logit Across All Labels\"))\n",
    "\n",
    "# Update layout with appropriate titles\n",
    "fig.update_layout(\n",
    "    title=\"Logit through Model Layers\",\n",
    "    xaxis_title=\"Layer\",\n",
    "    yaxis_title=\"Logit Difference\",\n",
    ")\n",
    "\n",
    "# Display the plot\n",
    "fig.show()\n"
   ]
  },
  {
   "cell_type": "markdown",
   "metadata": {
    "id": "oM41pXX7xeUG"
   },
   "source": [
    "We can do the same analysis above, but for each layer. This is equivalent to taking the difference between each adjacent residual stream.\n",
    "\n",
    "We can see that the final attention layer does the most work in deciding the computation. The subsequent MLP layer actually makes its performance worse!\n",
    "\n",
    "The last four layers seem to being the bulk of the work in identifying the cat and the dog."
   ]
  },
  {
   "cell_type": "markdown",
   "metadata": {
    "id": "UCa1RPyFoi7v"
   },
   "source": [
    "## Patch-level logit lens\n",
    "\n",
    "We ran the analysis above on just the CLS token of the model. But we actually have 49 other patches that we haven't investigated yet.\n",
    "\n",
    "(As a reminder, our 224 x 224 image was divided into 50 non-overlapping patches. Each patch is 32 x 32. The patches are analogous to tokens in an LLM.)\n",
    "\n",
    "The attention layers move information between patches, while the MLP layers process information within each patch. One open question in vision mech interp is what each patch represents throughout the net, and how information moves between the patches. How is information \"gathered\" across a cat whisker, cat ear, and cat eye to lead to a cat classification? Does every patch contain local information from the original image, even in the last layers of the net? For instance, does a patch initially containing a dog ear retain dog ear information, even after 12 layers of global self-attention? Or does it start storing higher abstractions, such as, dog face information, and dog breed information?\n",
    "\n",
    "A patch-level logit lens is a good starting point to investigate these questions. The patch-level logit lens is the same as the analysis done above, but run on every patch instead of just the CLS token.\n",
    "\n",
    "We'll soon see that each patch encodes information (mostly) locally, to the extent that we can use the patch-level logit lens as a segmentation map."
   ]
  },
  {
   "cell_type": "code",
   "execution_count": 302,
   "metadata": {
    "id": "7ux63_tX1bM0"
   },
   "outputs": [],
   "source": [
    "from vit_prisma.prisma_tools.logit_lens import get_patch_logit_directions, get_patch_logit_dictionary"
   ]
  },
  {
   "cell_type": "code",
   "execution_count": 303,
   "metadata": {},
   "outputs": [],
   "source": [
    "def get_patch_logit_directions_v2(cache, indices, incl_mid=False, return_labels=True):\n",
    "    accumulated_residual, labels = cache.accumulated_resid(\n",
    "        layer=-1, incl_mid=incl_mid, return_labels=True\n",
    "    )\n",
    "    scaled_residual_stack = cache.apply_ln_to_stack(\n",
    "        accumulated_residual, layer=-1,\n",
    "    )\n",
    "    # result = torch.einsum('lbpd,od -> lbpo', scaled_residual_stack, all_answers)\n",
    "\n",
    "    # Rearrange so batches are first\n",
    "    result = residual_stack_to_logit(scaled_residual_stack, cache).unsqueeze(0)\n",
    "    result = result.permute(0, 1, 3, 2)\n",
    "    return result, labels\n",
    "\n",
    "def get_patch_logit_dictionary_v2(patch_logit_directions, batch_idx=0, rank_label=None):\n",
    "    patch_dictionary = defaultdict(list)\n",
    "    # if tuple, get first entry\n",
    "    if isinstance(patch_logit_directions, tuple):\n",
    "        patch_logit_directions = patch_logit_directions[0]\n",
    "    # Go through laeyrs of one batch\n",
    "    for patch_idx, patches in enumerate(patch_logit_directions[batch_idx]):\n",
    "        # Go through every patch and get max prediction\n",
    "        for logits in patches:\n",
    "            probs = torch.softmax(logits, dim=-1)\n",
    "            # Get index of max prediction\n",
    "            predicted_idx = int(torch.argmax(probs))\n",
    "            logit = logits[predicted_idx].item()\n",
    "            predicted_class_name = IMAGENET_DICT[predicted_idx]\n",
    "            if rank_label:\n",
    "                # Where is the rank_label in the sorted list?\n",
    "                rank_index = imagenet_index_from_word(rank_label)\n",
    "                sorted_list = torch.argsort(probs, descending=True)\n",
    "                rank = np.where(sorted_list == rank_index)[0][0]\n",
    "                patch_dictionary[patch_idx].append((logit, predicted_class_name, predicted_idx, rank))\n",
    "            else:\n",
    "                patch_dictionary[patch_idx].append((logit, predicted_class_name, predicted_idx))\n",
    "    return patch_dictionary\n"
   ]
  },
  {
   "cell_type": "code",
   "execution_count": 304,
   "metadata": {
    "id": "exweeIxKoAAF"
   },
   "outputs": [
    {
     "ename": "ValueError",
     "evalue": "'fluffy' not found in IMAGENET_DICT.",
     "output_type": "error",
     "traceback": [
      "\u001b[0;31m---------------------------------------------------------------------------\u001b[0m",
      "\u001b[0;31mValueError\u001b[0m                                Traceback (most recent call last)",
      "Cell \u001b[0;32mIn[304], line 7\u001b[0m\n\u001b[1;32m      4\u001b[0m all_answers \u001b[38;5;241m=\u001b[39m tokens_to_residual_directions(model, np\u001b[38;5;241m.\u001b[39marange(\u001b[38;5;28mlen\u001b[39m(IMAGENET_DICT)), clstok, text_features, logit_scale)\n\u001b[1;32m      5\u001b[0m patch_logit_directions \u001b[38;5;241m=\u001b[39m get_patch_logit_directions(cache, all_answers, incl_mid\u001b[38;5;241m=\u001b[39m\u001b[38;5;28;01mTrue\u001b[39;00m)\n\u001b[0;32m----> 7\u001b[0m patch_dictionary \u001b[38;5;241m=\u001b[39m \u001b[43mget_patch_logit_dictionary\u001b[49m\u001b[43m(\u001b[49m\u001b[43mpatch_logit_directions\u001b[49m\u001b[43m,\u001b[49m\u001b[43m \u001b[49m\u001b[43mrank_label\u001b[49m\u001b[38;5;241;43m=\u001b[39;49m\u001b[43mIMAGENET_DICT\u001b[49m\u001b[43m[\u001b[49m\u001b[38;5;241;43m0\u001b[39;49m\u001b[43m]\u001b[49m\u001b[43m)\u001b[49m\n\u001b[1;32m      8\u001b[0m \u001b[38;5;28mprint\u001b[39m(\u001b[38;5;124m\"\u001b[39m\u001b[38;5;124mLength of patch dictionary:\u001b[39m\u001b[38;5;124m\"\u001b[39m, \u001b[38;5;28mlen\u001b[39m(patch_dictionary)) \u001b[38;5;66;03m# Number of patches\u001b[39;00m\n\u001b[1;32m      9\u001b[0m \u001b[38;5;28mprint\u001b[39m(\u001b[38;5;124m\"\u001b[39m\u001b[38;5;124mLength of one dictionary entry:\u001b[39m\u001b[38;5;124m\"\u001b[39m, \u001b[38;5;28mlen\u001b[39m(\u001b[38;5;28mlist\u001b[39m(patch_dictionary\u001b[38;5;241m.\u001b[39mvalues())[\u001b[38;5;241m0\u001b[39m])) \u001b[38;5;66;03m# Layers\u001b[39;00m\n",
      "File \u001b[0;32m~/miniconda3/envs/dsprites/lib/python3.12/site-packages/vit_prisma/prisma_tools/logit_lens.py:47\u001b[0m, in \u001b[0;36mget_patch_logit_dictionary\u001b[0;34m(patch_logit_directions, batch_idx, rank_label)\u001b[0m\n\u001b[1;32m     44\u001b[0m predicted_class_name \u001b[38;5;241m=\u001b[39m IMAGENET_DICT[predicted_idx]\n\u001b[1;32m     45\u001b[0m \u001b[38;5;28;01mif\u001b[39;00m rank_label:\n\u001b[1;32m     46\u001b[0m     \u001b[38;5;66;03m# Where is the rank_label in the sorted list?\u001b[39;00m\n\u001b[0;32m---> 47\u001b[0m     rank_index \u001b[38;5;241m=\u001b[39m \u001b[43mimagenet_index_from_word\u001b[49m\u001b[43m(\u001b[49m\u001b[43mrank_label\u001b[49m\u001b[43m)\u001b[49m\n\u001b[1;32m     48\u001b[0m     sorted_list \u001b[38;5;241m=\u001b[39m torch\u001b[38;5;241m.\u001b[39margsort(probs, descending\u001b[38;5;241m=\u001b[39m\u001b[38;5;28;01mTrue\u001b[39;00m)\n\u001b[1;32m     49\u001b[0m     rank \u001b[38;5;241m=\u001b[39m np\u001b[38;5;241m.\u001b[39mwhere(sorted_list \u001b[38;5;241m==\u001b[39m rank_index)[\u001b[38;5;241m0\u001b[39m][\u001b[38;5;241m0\u001b[39m]\n",
      "File \u001b[0;32m~/miniconda3/envs/dsprites/lib/python3.12/site-packages/vit_prisma/utils/data_utils/imagenet_utils.py:14\u001b[0m, in \u001b[0;36mimagenet_index_from_word\u001b[0;34m(search_term)\u001b[0m\n\u001b[1;32m     11\u001b[0m         \u001b[38;5;28;01mreturn\u001b[39;00m key  \u001b[38;5;66;03m# Return the key directly once found\u001b[39;00m\n\u001b[1;32m     13\u001b[0m \u001b[38;5;66;03m# If the loop completes without returning, the term was not found; raise an exception\u001b[39;00m\n\u001b[0;32m---> 14\u001b[0m \u001b[38;5;28;01mraise\u001b[39;00m \u001b[38;5;167;01mValueError\u001b[39;00m(\u001b[38;5;124mf\u001b[39m\u001b[38;5;124m\"\u001b[39m\u001b[38;5;124m'\u001b[39m\u001b[38;5;132;01m{\u001b[39;00msearch_term\u001b[38;5;132;01m}\u001b[39;00m\u001b[38;5;124m'\u001b[39m\u001b[38;5;124m not found in IMAGENET_DICT.\u001b[39m\u001b[38;5;124m\"\u001b[39m)\n",
      "\u001b[0;31mValueError\u001b[0m: 'fluffy' not found in IMAGENET_DICT."
     ]
    }
   ],
   "source": [
    "# Can also import the above as functions; displayed in full above for didactic purposes.\n",
    "# from vit_prisma.prisma_tools.logit_lens import get_patch_logit_directions, get_patch_logit_dictionary\n",
    "\n",
    "all_answers = tokens_to_residual_directions(model, np.arange(len(IMAGENET_DICT)), clstok, text_features, logit_scale)\n",
    "patch_logit_directions = get_patch_logit_directions(cache, all_answers, incl_mid=True)\n",
    "\n",
    "patch_dictionary = get_patch_logit_dictionary(patch_logit_directions, rank_label=IMAGENET_DICT[0])\n",
    "print(\"Length of patch dictionary:\", len(patch_dictionary)) # Number of patches\n",
    "print(\"Length of one dictionary entry:\", len(list(patch_dictionary.values())[0])) # Layers\n",
    "\n",
    "tabby_rank_formatted = np.array([[item[-1] for item in list(patch_dictionary.values())[i]] for i in range(50)])\n",
    "\n",
    "patch_dictionary = get_patch_logit_dictionary(patch_logit_directions, rank_label=IMAGENET_DICT[1])\n",
    "collie_rank_formatted = np.array([[item[-1] for item in list(patch_dictionary.values())[i]] for i in range(50)])"
   ]
  },
  {
   "cell_type": "code",
   "execution_count": null,
   "metadata": {},
   "outputs": [],
   "source": [
    "# Can also import the above as functions; displayed in full above for didactic purposes.\n",
    "# from vit_prisma.prisma_tools.logit_lens import get_patch_logit_directions, get_patch_logit_dictionary\n",
    "\n",
    "patch_logit_directions_v2 = get_patch_logit_directions_v2(cache, np.arange(1000), incl_mid=True)\n",
    "\n",
    "patch_dictionary = get_patch_logit_dictionary(patch_logit_directions_v2, rank_label='tabby')\n",
    "print(\"Length of patch dictionary:\", len(patch_dictionary)) # Number of patches\n",
    "print(\"Length of one dictionary entry:\", len(list(patch_dictionary.values())[0])) # Layers\n",
    "\n",
    "tabby_rank_formatted = np.array([[item[-1] for item in list(patch_dictionary.values())[i]] for i in range(50)])\n",
    "\n",
    "patch_dictionary = get_patch_logit_dictionary(patch_logit_directions_v2, rank_label='collie')\n",
    "collie_rank_formatted = np.array([[item[-1] for item in list(patch_dictionary.values())[i]] for i in range(50)])"
   ]
  },
  {
   "cell_type": "code",
   "execution_count": null,
   "metadata": {
    "id": "5QJGb42PnWbB"
   },
   "outputs": [],
   "source": [
    "import plotly.graph_objs as go\n",
    "import numpy as np\n",
    "\n",
    "# Initialize traces list for Plotly\n",
    "traces = []\n",
    "\n",
    "# Define colors with darker shades\n",
    "colors = {\n",
    "    'tabby': {'cls_color': 'rgba(0, 0, 255, 1.0)', 'patch_color': 'rgba(169, 169, 169, 0.5)'},\n",
    "    'collie': {'cls_color': 'rgba(255, 0, 0, 1.0)', 'patch_color': 'rgba(218, 165, 32, 0.5)'},\n",
    "}\n",
    "\n",
    "# Data setup for each class\n",
    "data_classes = [\n",
    "    {'name': 'tabby', 'data': tabby_rank_formatted},\n",
    "    {'name': 'collie', 'data': collie_rank_formatted},\n",
    "]\n",
    "\n",
    "# Processing both classes in a single loop\n",
    "for class_info in data_classes:\n",
    "    rank_data = class_info['data']\n",
    "    class_name = class_info['name']\n",
    "    cls_color = colors[class_name]['cls_color']\n",
    "    patch_color = colors[class_name]['patch_color']\n",
    "\n",
    "    for i, patch_data in enumerate(rank_data):\n",
    "        color = cls_color if i == 0 else patch_color\n",
    "        width = 2 if i == 0 else 1\n",
    "        mode = 'lines+markers' if i == 0 else 'lines'\n",
    "        trace = go.Scatter(\n",
    "            x=np.arange(len(patch_data) * 2 + 1) / 2,\n",
    "            y=patch_data,\n",
    "            mode=mode,\n",
    "            line=dict(color=color, width=width),\n",
    "            hoverinfo='text',\n",
    "            text=[f'Layer {x + 1}, Patch {i} - {class_name.capitalize()}, Rank: {y}' for x, y in enumerate(patch_data)],\n",
    "            name=f'{class_name.capitalize()} Rank for CLS' if i == 0 else f'{class_name.capitalize()} Rank',\n",
    "            showlegend=i < 2  # Show legend only for the first CLS and patch\n",
    "        )\n",
    "        traces.append(trace)\n",
    "\n",
    "# Plotting configuration\n",
    "fig = go.Figure(traces)\n",
    "fig.update_layout(\n",
    "    title='Patch Ranks Over Layers for Tabby and Border Collie',\n",
    "    xaxis_title='Layer',\n",
    "    yaxis_title='Rank',\n",
    "    hovermode='closest',\n",
    "    legend_title='Legend',\n",
    "    legend=dict(yanchor=\"top\", y=0.99, xanchor=\"left\", x=0.01)\n",
    ")\n",
    "fig.show()\n"
   ]
  },
  {
   "cell_type": "markdown",
   "metadata": {
    "id": "6IokRulR_JAT"
   },
   "source": [
    "Above, we've done a logit lens on every individual patch. We've plotted each layer's ranking for the tabby cat and Border Collie classes.\n",
    "\n",
    "The patch info appears to have a decent amount of spatial localization. The patches for which both cat/collie rank poorly (patches 15, 21, 7, 35) correspond to the edges of the image. Patch 25 ranks poorly for tabby, but well for dog, which spatially corresponds to the dog.\n",
    "\n",
    "It's interesting that the rank for the cat and collie somewhat trade off against each other in the middle of the net (Layers 4-7).\n",
    "\n",
    "As a sanity check, let's graph the rank of the CLS token alongside its logit value."
   ]
  },
  {
   "cell_type": "code",
   "execution_count": null,
   "metadata": {
    "id": "PEr1a2jQleq9"
   },
   "outputs": [],
   "source": [
    "# Graph CLS rank and logit together\n",
    "\n",
    "import plotly.graph_objects as go\n",
    "from plotly.subplots import make_subplots\n",
    "\n",
    "cls_token = tabby_rank_formatted[0]\n",
    "\n",
    "# Create a figure with secondary y-axis\n",
    "fig = make_subplots(specs=[[{\"secondary_y\": True}]])\n",
    "\n",
    "# Add rank plot\n",
    "fig.add_trace(\n",
    "    go.Scatter(x=list(range(len(cls_token))), y=cls_token, name=\"Rank of tabby cat (CLS token)\", mode='lines+markers'),\n",
    "    secondary_y=False,\n",
    ")\n",
    "\n",
    "# Get cat residual direction independently\n",
    "cat_logit_predictions = residual_stack_to_logit(accumulated_residual, cache)[cat_index]\n",
    "cat_logit_predictions = cat_logit_predictions.detach().numpy()\n",
    "\n",
    "\n",
    "# Add logit difference plot\n",
    "fig.add_trace(\n",
    "    go.Scatter(x=list(range(len(cat_logit_predictions))), y=cat_logit_predictions, name=\"Logit diff\", mode='lines+markers'),\n",
    "    secondary_y=True,\n",
    ")\n",
    "\n",
    "\n",
    "# Add figure title\n",
    "fig.update_layout(\n",
    "    title_text=\"Rank of Tabby Cat and Logit Differences Through Model Layers\"\n",
    ")\n",
    "\n",
    "# Set x-axis title\n",
    "fig.update_xaxes(title_text=\"Model Layers\")\n",
    "fig.update_yaxes(title_text=\"<b>Rank</b> of tabby cat\", secondary_y=False)\n",
    "fig.update_yaxes(title_text=\"<b>Logit Difference</b>\", secondary_y=True)\n",
    "\n",
    "fig.show()\n"
   ]
  },
  {
   "cell_type": "markdown",
   "metadata": {
    "id": "wYLT8JWkz8MP"
   },
   "source": [
    "### Emoji logit lens\n",
    "It'd be nice to have a clearer visual representation of what is happening. Let's get the predicted value for each patch for every layer of the net. This is equivalent to passing every layer's output into the classification head and seeing the prediction.\n",
    "\n",
    "Hover over the emoji logit lens below to see the class name."
   ]
  },
  {
   "cell_type": "code",
   "execution_count": null,
   "metadata": {
    "id": "lydOfJhm0g-W"
   },
   "outputs": [],
   "source": [
    "from vit_prisma.utils.data_utils.imagenet_emoji import IMAGENET_EMOJI\n",
    "from vit_prisma.visualization.patch_level_logit_lens import display_patch_logit_lens\n",
    "\n",
    "\n",
    "patch_logit_directions = get_patch_logit_directions(cache, all_answers, incl_mid=False)\n",
    "\n",
    "patch_dictionary = get_patch_logit_dictionary(patch_logit_directions, batch_idx=0)\n",
    "\n",
    "display_patch_logit_lens(patch_dictionary, labels=layer_labels[::2], width=1300, height=1000, emoji_size=22)"
   ]
  },
  {
   "cell_type": "code",
   "execution_count": null,
   "metadata": {},
   "outputs": [],
   "source": [
    "from vit_prisma.utils.data_utils.imagenet_emoji import IMAGENET_EMOJI\n",
    "from vit_prisma.visualization.patch_level_logit_lens import display_patch_logit_lens\n",
    "\n",
    "\n",
    "patch_logit_directions_v2 = get_patch_logit_directions_v2(cache, np.arange(1000), incl_mid=False)\n",
    "\n",
    "patch_dictionary_v2 = get_patch_logit_dictionary(patch_logit_directions_v2, batch_idx=0)\n",
    "\n",
    "display_patch_logit_lens(patch_dictionary_v2, labels=layer_labels[::2], width=1300, height=1000, emoji_size=22)"
   ]
  },
  {
   "cell_type": "markdown",
   "metadata": {
    "id": "584STXbgGdgH"
   },
   "source": [
    "### Tabby cat / border collie patch-level map\n",
    "\n",
    "We can overlay the final layer predictions of the patch-level logit lens on top of the original image.\n",
    "\n",
    "We can see that the patch logit lens acts as an image segmenter, with the dog patches roughly corresponding to the dog prediction, and the cat patches roughly corresponding to the cat prediction!\n",
    "\n",
    "Also, some patches (yellow) seem to contribute more to the logits than others. Perhaps these patches have more predictive \"cat\" or \"dog\" information.\n",
    "\n",
    "As for the random-seeming predictions like \"aircraft carrier\" on patch 7; it's not clear why the net is predicting this. Reverse-engineering why it predicts aircraft carrier is a satisfying future research direction."
   ]
  },
  {
   "cell_type": "code",
   "execution_count": null,
   "metadata": {},
   "outputs": [],
   "source": [
    "image.shape"
   ]
  },
  {
   "cell_type": "code",
   "execution_count": null,
   "metadata": {
    "id": "wiWe-wtjHUPS"
   },
   "outputs": [],
   "source": [
    "from vit_prisma.visualization.patch_level_logit_lens import display_grid_on_image_with_heatmap\n",
    "\n",
    "fig = display_grid_on_image_with_heatmap(image, patch_dictionary, alpha_color=.4, emoji_font_size=30, return_graph=True)\n",
    "fig.show()"
   ]
  },
  {
   "cell_type": "code",
   "execution_count": null,
   "metadata": {},
   "outputs": [],
   "source": [
    "from vit_prisma.visualization.patch_level_logit_lens import display_grid_on_image_with_heatmap\n",
    "\n",
    "fig = display_grid_on_image_with_heatmap(image, patch_dictionary_v2, alpha_color=.4, emoji_font_size=30, return_graph=True)\n",
    "fig.show()"
   ]
  },
  {
   "cell_type": "markdown",
   "metadata": {
    "id": "ws6ZkvMT5PCO"
   },
   "source": [
    "The segmentation map becomes even more pronounced if we group all the dogs together and all the cats together and color-code by logit value."
   ]
  },
  {
   "cell_type": "code",
   "execution_count": null,
   "metadata": {
    "id": "5bWALEsb5R1m"
   },
   "outputs": [],
   "source": [
    "fig = display_grid_on_image_with_heatmap(image, patch_dictionary, heatmap_mode='emoji_colors', emoji_font_size=30, return_graph=True, alpha_color=.4, layer_idx=-1)\n",
    "fig.show()"
   ]
  },
  {
   "cell_type": "code",
   "execution_count": null,
   "metadata": {},
   "outputs": [],
   "source": [
    "fig = display_grid_on_image_with_heatmap(image, patch_dictionary_v2, heatmap_mode='emoji_colors', emoji_font_size=30, return_graph=True, alpha_color=.4, layer_idx=-1)\n",
    "fig.show()"
   ]
  },
  {
   "cell_type": "markdown",
   "metadata": {
    "id": "iqfqH7xYY03P"
   },
   "source": [
    "It's interesting that the model still predict cat despite there being more dog patches and more dog classes!"
   ]
  },
  {
   "cell_type": "markdown",
   "metadata": {
    "id": "EoaGtkFN37mf"
   },
   "source": [
    "It is fascinating that the model predicts Border collie even for the blank patches on the right."
   ]
  },
  {
   "cell_type": "markdown",
   "metadata": {
    "id": "RLzm_X_BG7kk"
   },
   "source": [
    "# The Cat - Dog Switch\n",
    "\n",
    "I'm curious why the network predicts cat over dog. Can we localize the point in the network that makes this \"decision\"?\n",
    "\n",
    "Let's take the *logit difference* between the tabby cat and Border Collie predictions as our new metric.\n",
    "\n",
    "***Is it possible to switch the network's prediction from cat to dog?***"
   ]
  },
  {
   "cell_type": "code",
   "execution_count": null,
   "metadata": {
    "id": "p9NyHS-PHIjq"
   },
   "outputs": [],
   "source": [
    "def logits_to_ave_logit_diff(logits, answer_tokens, per_prompt=False):\n",
    "    # Only the final logits are relevant for the answer\n",
    "    answer_logits = logits[:, answer_tokens]\n",
    "    answer_logits = torch.logsumexp(answer_logits, dim=0) # sum multiple labels if present\n",
    "    answer_logit_diff = answer_logits[:, 0] - answer_logits[:, 1]\n",
    "    if per_prompt:\n",
    "        return answer_logit_diff\n",
    "    else:\n",
    "        return answer_logit_diff.mean()\n",
    "\n",
    "\n",
    "answer_tokens = [[dog_index, cat_index]]\n",
    "answer_tokens = torch.Tensor(answer_tokens).long()\n",
    "\n",
    "logit_diff = logits_to_ave_logit_diff(logits, answer_tokens)\n",
    "print(\"The logit difference between Border Collie and tabby cat is: \", logit_diff.item())\n"
   ]
  },
  {
   "cell_type": "markdown",
   "metadata": {
    "id": "oz76n_QVH76U"
   },
   "source": [
    "This means that the net is e^-1.56 = 0.21; 1/0.21 = **x4.76** more likely to pick the Border Collie than the tabby cat.\n",
    "\n",
    "A negative value mean the net classifies the image as tabby cat. Positive means the net classifies the image as Border Collie.\n",
    "\n",
    "We can graph out the logit difference through the layers below:"
   ]
  },
  {
   "cell_type": "code",
   "execution_count": null,
   "metadata": {
    "id": "DZgzkvZsJAuL"
   },
   "outputs": [],
   "source": [
    "answer_residual_directions = tokens_to_residual_directions(model, answer_tokens, clstok, text_features, logit_scale)\n",
    "\n",
    "logit_diff_directions = (\n",
    "    answer_residual_directions[:, 0] - answer_residual_directions[:, 1]\n",
    ")\n",
    "print(\"Logit difference directions shape:\", logit_diff_directions.shape)"
   ]
  },
  {
   "cell_type": "code",
   "execution_count": null,
   "metadata": {
    "id": "YcJ9MDDKIued"
   },
   "outputs": [],
   "source": [
    "\n",
    "def residual_stack_to_logit_diff(\n",
    "    residual_stack,\n",
    "    cache,\n",
    ") -> float:\n",
    "\n",
    "    scaled_residual_stack = cache.apply_ln_to_stack(\n",
    "        residual_stack, layer=-1, pos_slice=0\n",
    "    )\n",
    "    return einsum(\n",
    "        \"... batch d_model, batch d_model -> ...\",\n",
    "        scaled_residual_stack,\n",
    "        logit_diff_directions,\n",
    "    )\n",
    "\n",
    "fig = go.Figure()\n",
    "\n",
    "accumulated_residual, layer_labels = cache.accumulated_resid(\n",
    "        layer=-1, incl_mid=True, pos_slice=0, return_labels=True\n",
    "    )\n",
    "logit_diff = residual_stack_to_logit_diff(accumulated_residual, cache) + model.head.b_H[dog_index] - model.head.b_H[cat_index]\n",
    "fig.add_trace(go.Scatter(x= np.arange(model.cfg.n_layers * 2 + 1) / 2, y=logit_diff.detach().numpy(), mode='lines', name='Average Logit Across All Classes'))\n",
    "\n",
    "# Add a horizontal line at y=0 in red\n",
    "fig.add_shape(type=\"line\",\n",
    "                x0=0, y0=0, x1=1, y1=0,\n",
    "                line=dict(color=\"Red\", width=2),\n",
    "                xref='paper', yref='y')\n",
    "\n",
    "x_points = np.arange(model.cfg.n_layers * 2 + 1) / 2\n",
    "\n",
    "fig.update_layout(\n",
    "    title=\"Cat - Dog Logit Difference through Model Layers\",\n",
    "    xaxis_title=\"Model Layer\",\n",
    "    yaxis_title=\"Logit Difference\",\n",
    "    xaxis=dict(\n",
    "        tickvals=x_points,  # Positions at which ticks should be displayed\n",
    "        ticktext=layer_labels  # Text labels for the ticks\n",
    "    ),\n",
    ")\n",
    "\n",
    "# Ensure the 'x' position for annotations is the last point on the x-axis\n",
    "last_x_position = x_points[-1]\n",
    "\n",
    "# Adjust annotations to reference 'x' and 'y' axes correctly\n",
    "fig.add_annotation(x=last_x_position, y=0.1, text=\"Border Collie prediction\", showarrow=False, yref=\"y\", xref=\"x\", font=dict(color=\"black\"), align=\"right\")\n",
    "fig.add_annotation(x=last_x_position, y=-0.1, text=\"Tabby Cat prediction\", showarrow=False, yref=\"y\", xref=\"x\", font=dict(color=\"black\"), align=\"right\")\n",
    "\n",
    "# Update the 'x1' attribute in the red line shape to span the full width of the x-axis\n",
    "fig.update_shapes(dict(xref='x', x0=0, x1=last_x_position))\n",
    "\n",
    "fig.show()\n"
   ]
  },
  {
   "cell_type": "markdown",
   "metadata": {
    "id": "iR4Wrj_JJUdE"
   },
   "source": [
    "The net guesses tabby cat over Border Collie for most of its layers expect for one hot second after the block 10 MLP layer (`11_pre`), when the prediction ranks Border Collie over tabby cat.\n",
    "\n",
    "The block 11 Attention layer brings the logit value back to tabby cat again.\n",
    "\n",
    "Can we keep the logit prediction at Border Collie? ***Let's find the attention head responsible and disable it, so the prediction stays at Border Collie.***\n",
    "\n",
    "## Head Attribution\n",
    "\n",
    "We can break the output of the attention layer into the sum of outputs of each attention head. See [A Mathematical Framework for Transformer Circuits](https://transformer-circuits.pub/2021/framework/index.html) for more details.\n",
    "\n",
    "We can see that the last layer of heads is the most active! Most of the computation happens here, corroborating our plots above.\n",
    "\n",
    "A highly negative logit means that the attention head contributes more to the tabby cat computation. Positive means the attention head contributes more to the dog computation. We have a good mix of the two in the final layer!\n",
    "\n",
    "Head 4 of Layer 11 pushes the prediction toward tabby (negative) while Head 5 of Laeyr 11 pushes the prediction toward Border Collie (positive)."
   ]
  },
  {
   "cell_type": "code",
   "execution_count": null,
   "metadata": {
    "id": "t1ZzZO78MiwR"
   },
   "outputs": [],
   "source": [
    "import einops\n",
    "\n",
    "def residual_stack_to_logit_attn(\n",
    "    residual_stack,\n",
    "    cache,\n",
    "    answer_residual_direction\n",
    ") -> float:\n",
    "    scaled_residual_stack = cache.apply_ln_to_stack(\n",
    "        residual_stack, layer=-1, pos_slice=0\n",
    "    )\n",
    "    print(scaled_residual_stack.shape)\n",
    "    print(answer_residual_direction.shape)\n",
    "    return einsum(\n",
    "        \"... batch d_model, batch d_model -> ...\",\n",
    "        scaled_residual_stack,\n",
    "        answer_residual_direction,\n",
    "    )"
   ]
  },
  {
   "cell_type": "code",
   "execution_count": null,
   "metadata": {
    "id": "ZwOzfN4sMVuc"
   },
   "outputs": [],
   "source": [
    "per_head_residual, labels = cache.stack_head_results(\n",
    "    layer=-1, pos_slice=0, return_labels=True\n",
    ")\n",
    "\n",
    "per_head_logit_diffs = residual_stack_to_logit_attn(per_head_residual, cache, logit_diff_directions)\n",
    "\n",
    "per_head_logit_diffs = einops.rearrange(\n",
    "    per_head_logit_diffs,\n",
    "    \"(layer head_index) -> layer head_index\",\n",
    "    layer=model.cfg.n_layers,\n",
    "    head_index=model.cfg.n_heads,\n",
    ")\n",
    "px.imshow(\n",
    "    per_head_logit_diffs.detach().cpu().numpy(),\n",
    "    labels={\"x\": \"Head\", \"y\": \"Layer\"},\n",
    "    title=\"Logit Difference From Each Head (CLS token)\",\n",
    "    color_continuous_scale='RdBu_r',  # Use Red-Blue color scale for warm to cool transition\n",
    "\n",
    ")"
   ]
  },
  {
   "cell_type": "markdown",
   "metadata": {
    "id": "iENZYEbZM2TX"
   },
   "source": [
    "## Interactive attention heads\n"
   ]
  },
  {
   "cell_type": "markdown",
   "metadata": {
    "id": "KaYc6PALNV55"
   },
   "source": [
    "\n",
    "Let's examine the attention heads visually to get a better sense of what they're doing.\n",
    "\n",
    "### Plotting Code\n"
   ]
  },
  {
   "cell_type": "code",
   "execution_count": null,
   "metadata": {
    "id": "ubpM--XeNTnj"
   },
   "outputs": [],
   "source": [
    "def visualize_attention(\n",
    "    heads,\n",
    "    local_cache,\n",
    "    # local_tokens,\n",
    "    title,\n",
    "    max_width,\n",
    "    batch_idx,\n",
    "    attention_type = 'attn_scores' # or 'attn_patterns'\n",
    ") -> str:\n",
    "    # If a single head is given, convert to a list\n",
    "    if isinstance(heads, int):\n",
    "        heads = [heads]\n",
    "\n",
    "    # Create the plotting data\n",
    "    labels: List[str] = []\n",
    "    patterns: List[Float[torch.Tensor, \"dest_pos src_pos\"]] = []\n",
    "\n",
    "    for head in heads:\n",
    "        # Set the label\n",
    "        layer = head // model.cfg.n_heads\n",
    "        head_index = head % model.cfg.n_heads\n",
    "        labels.append(f\"L{layer}H{head_index}\")\n",
    "\n",
    "        # Get the attention patterns for the head\n",
    "        # Attention patterns have shape [batch, head_index, query_pos, key_pos]\n",
    "        patterns.append(local_cache[attention_type, layer][batch_idx, head_index])\n",
    "\n",
    "    # Combine the patterns into a single tensor\n",
    "    patterns = torch.stack(\n",
    "        patterns, dim=0\n",
    "    )\n",
    "    return patterns# Look at those heads [display all heads, modify function if necessary]\n",
    "\n",
    "def print_layer_head_format(tensor_of_heads):\n",
    "  for head in tensor_of_heads:\n",
    "    layer = head // model.cfg.n_heads\n",
    "    head_index = head % model.cfg.n_heads\n",
    "    print(\"Layer: \", layer.item(), \"Head:\", head_index.item())"
   ]
  },
  {
   "cell_type": "markdown",
   "metadata": {
    "id": "9XtlLLlRrKOh"
   },
   "source": [
    "### Visualization\n",
    "\n",
    "Let's first visualize the most negative attention heads (which contribute toward tabby cat).\n",
    "\n",
    "Each axis of the attention head below is the image flattened (50 patches / squares on the attention head). The y axis is the query, and the x axis is the key.\n",
    "\n",
    "Run your cursor over the visualization below to see the corresponding patches on the image that are correlating with each other. Use the drop down menu of Attention Heads to click between the top three attention heads contributing toward the tabby cat.\n",
    "\n",
    "**Some Observations**\n",
    "\n",
    "* Attention Head 1 - Strongly attends to the cat's face! (pink square)\n",
    "* Attention Head 2 - Strongly attends to a random patch to the left of the dog. This may be a notebook/scratchpad token - an unimportant token in the image that starts accruing global information. See [Do Vision Transformers Need Registers](https://arxiv.org/pdf/2309.16588.pdf) for more informatoin.\n",
    "* Attention Head 3 - Also strongly attends to the random patch to the left of the dog.\n"
   ]
  },
  {
   "cell_type": "code",
   "execution_count": null,
   "metadata": {
    "id": "YYd7F8yJNv_z"
   },
   "outputs": [],
   "source": [
    "from vit_prisma.visualization.visualize_attention_js import plot_javascript\n",
    "\n",
    "top_k = 3\n",
    "top_negative_logit_attr_heads = torch.topk(\n",
    "    per_head_logit_diffs.flatten(), k=top_k, largest=False\n",
    ").indices\n",
    "\n",
    "print_layer_head_format(top_negative_logit_attr_heads)\n",
    "\n",
    "print(\"Top negative logit heads (flattened indices):\", top_negative_logit_attr_heads)\n",
    "\n",
    "batch_idx = 0\n",
    "scores = visualize_attention(top_negative_logit_attr_heads, cache, \"Attention Scores\", 700, batch_idx = batch_idx, attention_type=\"attn\")\n",
    "\n",
    "html_code = plot_javascript(scores, [image, image, image], ATTN_SCALING=8)\n",
    "display(HTML(html_code))"
   ]
  },
  {
   "cell_type": "markdown",
   "metadata": {
    "id": "xNib7bWuy9F6"
   },
   "source": [
    "We can now look at the top postive heads, or the heads that contribute most strongly to the dog computation. We can see that the same notebook/scratchpad token to the left of the dog is highly active!\n"
   ]
  },
  {
   "cell_type": "code",
   "execution_count": null,
   "metadata": {
    "id": "5yGUskQdNbt1"
   },
   "outputs": [],
   "source": [
    "\n",
    "top_k = 3\n",
    "top_positive_logit_attr_heads = torch.topk(\n",
    "    per_head_logit_diffs.flatten(), k=top_k\n",
    ").indices\n",
    "\n",
    "print_layer_head_format(top_positive_logit_attr_heads)\n",
    "\n",
    "print(\"Top positive logit heads:\", top_positive_logit_attr_heads)\n",
    "\n",
    "batch_idx = 0\n",
    "scores = visualize_attention(top_positive_logit_attr_heads, cache, \"Attention Scores\", 700, batch_idx = batch_idx, attention_type=\"attn\")\n",
    "\n",
    "html_code = plot_javascript(scores, [image, image, image], ATTN_SCALING=8)\n",
    "display(HTML(html_code))"
   ]
  },
  {
   "cell_type": "code",
   "execution_count": null,
   "metadata": {},
   "outputs": [],
   "source": [
    "\n",
    "top_k = 3\n",
    "top_positive_logit_attr_heads = torch.topk(\n",
    "    per_head_logit_diffs.flatten(), k=top_k, largest=False\n",
    ").indices\n",
    "\n",
    "print_layer_head_format(top_positive_logit_attr_heads)\n",
    "\n",
    "print(\"Top positive logit heads:\", top_positive_logit_attr_heads)\n",
    "\n",
    "batch_idx = 0\n",
    "scores = visualize_attention(top_positive_logit_attr_heads, cache, \"Attention Scores\", 700, batch_idx = batch_idx, attention_type=\"attn\")\n",
    "\n",
    "html_code = plot_javascript(scores, [image, image, image], ATTN_SCALING=8)\n",
    "display(HTML(html_code))"
   ]
  },
  {
   "cell_type": "markdown",
   "metadata": {
    "id": "Gc9fLio3pOzK"
   },
   "source": [
    "## Activation patching\n",
    "\n",
    "While direct logit attribution gets at the parts of the model that directly impact the logits, there may be significant parts of the model that have an indirect effect. For example, the attention head of an early layer may significantly impact a downstream MLP layer, but its direct impact may not show up with direct logit attribution.\n",
    "\n",
    "Activation patching gives a causal way to see the impact of that component on the logit. The technique was first introduced in [David Bau and Kevin Meng's ROME paper](https://rome.baulab.info/).\n",
    "\n",
    "For our image, we want to see the contribution of every model component on predicting cats vs dogs. We'll crop out the cat to create a \"corrupted\" activation. The goal is to find the parts of the net that are \"deciding\" between cat/dog as the final logit.\n",
    "\n",
    "We'll run the corrupted image through the model and cache the corrupted activations. Then, we will then systematically activation patch in the corrupted activations from the corrupted image into each model component individually. We'll see how much each corrupted activation patch changes the model's original decision.\n",
    "\n",
    "Can we flip the prediction from tabby cat to Border Collie?\n",
    "\n",
    "*Note: Confusingly, the word \"patch\" is being used in two contexts here: activating patching, and the patches/tokens of the original image. I'll put \"activation patch\" before taking about the activation patching here.*\n",
    "\n",
    "\n"
   ]
  },
  {
   "cell_type": "code",
   "execution_count": null,
   "metadata": {
    "id": "Hb0DwyvZplgR"
   },
   "outputs": [],
   "source": [
    "clean_image = Image.open('cat_dog.jpeg')\n",
    "clean_image = transform(clean_image)\n",
    "\n",
    "plot_image(clean_image)\n",
    "corrupted_image = Image.open('crop_cat.png')\n",
    "corrupted_image = transform(corrupted_image)\n",
    "\n",
    "plot_image(corrupted_image)"
   ]
  },
  {
   "cell_type": "code",
   "execution_count": null,
   "metadata": {
    "id": "9uSSFqTUPgxO"
   },
   "outputs": [],
   "source": [
    "answer_tokens = [[dog_index, cat_index]]\n",
    "answer_tokens = torch.Tensor(answer_tokens).long()\n",
    "\n",
    "clean_logits, clean_cache = model.run_with_cache(clean_image.unsqueeze(0))\n",
    "clean_logit_difference = logits_to_ave_logit_diff(clean_logits, answer_tokens)\n",
    "print(\"Logit difference of clean:\", clean_logit_difference.item())\n",
    "\n",
    "corrupted_logits, corrupted_cache = model.run_with_cache(corrupted_image.unsqueeze(0))\n",
    "corrupted_logit_difference = logits_to_ave_logit_diff(corrupted_logits, answer_tokens)\n",
    "print(\"Logit difference of corrupted:\", corrupted_logit_difference.item())\n"
   ]
  },
  {
   "cell_type": "markdown",
   "metadata": {
    "id": "Jp-AZPWP0lXR"
   },
   "source": [
    "When we put the black box on top of the tabby cat, we can see that the net switches its prediction from tabby cat to Border Collie. Before, the net was  e^-1.56 = 0.21; 1/0.21 = x4.76 more likely to pick tabby cat over Border Collie. Now, the net with the corrupted input is e^5.10 = x164 more likely to pick Border Collie over tabby cat."
   ]
  },
  {
   "cell_type": "markdown",
   "metadata": {
    "id": "71O1Zc4z4KkE"
   },
   "source": [
    "## Patching attention heads\n",
    "\n",
    "Let's run a head-by-head activation patching to localize the computation."
   ]
  },
  {
   "cell_type": "markdown",
   "metadata": {
    "id": "HvPDqxdlrSAu"
   },
   "source": [
    "### Plotting code"
   ]
  },
  {
   "cell_type": "code",
   "execution_count": null,
   "metadata": {
    "id": "gZoexY9f2LoH"
   },
   "outputs": [],
   "source": [
    "# patch in the heads\n",
    "from tqdm.auto import tqdm\n",
    "from functools import partial\n",
    "\n",
    "def patch_head_vector(\n",
    "    original_head_vector,\n",
    "    hook,\n",
    "    head_index,\n",
    "    cache,\n",
    "    patch_num\n",
    "):\n",
    "\n",
    "    original_head_vector[:, patch_num, head_index, :] = cache[hook.name][\n",
    "        :, patch_num, head_index, :\n",
    "    ]\n",
    "    return original_head_vector\n",
    "\n",
    "def run_patch(name): # name can be q, k, v, z\n",
    "    patched_components = torch.zeros(\n",
    "    50, model.cfg.n_heads, dtype=torch.float32\n",
    "    )\n",
    "\n",
    "    for patch_num in tqdm(range(50)):\n",
    "        for head_index in range(model.cfg.n_heads):\n",
    "            hook_fn = partial(patch_head_vector, head_index=head_index, cache=corrupted_cache, patch_num=patch_num)\n",
    "            patched_logits = model.run_with_hooks(\n",
    "                clean_image.unsqueeze(0),\n",
    "                fwd_hooks=[(prisma_utils.get_act_name(name, 11, \"attn\"), hook_fn)],\n",
    "            )\n",
    "            patched_logit_diff = logits_to_ave_logit_diff(patched_logits, answer_tokens) + model.head.b_H[dog_index] - model.head.b_H[cat_index]\n",
    "\n",
    "            patched_components[patch_num, head_index] = patched_logit_diff.detach()\n",
    "\n",
    "    return patched_components\n",
    "\n",
    "def run_all_attn_heads(layers=12): # name can be q, k, v, z\n",
    "    patched_heads = torch.zeros(\n",
    "    layers, model.cfg.n_heads, dtype=torch.float32\n",
    "    )\n",
    "\n",
    "    for layer in tqdm(range(layers)):\n",
    "        for head_index in range(model.cfg.n_heads):\n",
    "            hook_fn = partial(patch_head_vector, head_index=head_index, cache=corrupted_cache, patch_num=0)\n",
    "            patched_logits = model.run_with_hooks(\n",
    "                clean_image.unsqueeze(0),\n",
    "                fwd_hooks=[(prisma_utils.get_act_name('z', layer, \"attn\"), hook_fn)],\n",
    "                # return_type=\"logits\",\n",
    "            )\n",
    "            patched_logit_diff = logits_to_ave_logit_diff(patched_logits, answer_tokens) + model.head.b_H[dog_index] - model.head.b_H[cat_index]\n",
    "\n",
    "            patched_heads[layer, head_index] = patched_logit_diff.detach()\n",
    "\n",
    "    return patched_heads"
   ]
  },
  {
   "cell_type": "markdown",
   "metadata": {
    "id": "c2zKWcWGrUkB"
   },
   "source": [
    "### Visualization"
   ]
  },
  {
   "cell_type": "code",
   "execution_count": null,
   "metadata": {
    "id": "2yWoZV9W4e-R"
   },
   "outputs": [],
   "source": [
    "patched_heads = run_all_attn_heads()"
   ]
  },
  {
   "cell_type": "code",
   "execution_count": null,
   "metadata": {
    "id": "A5RjANQ75SIQ"
   },
   "outputs": [],
   "source": [
    "imshow(\n",
    "    patched_heads,\n",
    "    labels={\"x\": \"Head\", \"y\": \"Layer\"},\n",
    "    title=\"New Logit Difference from Each Patched Head\",\n",
    ")"
   ]
  },
  {
   "cell_type": "markdown",
   "metadata": {
    "id": "aWdO1I8e5sS6"
   },
   "source": [
    "Patching just Head 4 of Layer 11 (light blue) shifted the prediction from tabby cat to Border Collie! Let's zoom in on this attention head..."
   ]
  },
  {
   "cell_type": "markdown",
   "metadata": {
    "id": "2F0NmUS651bk"
   },
   "source": [
    "## Breaking down one attention head (Head 4, Layer 11)\n",
    "\n",
    "Let's zoom in on Attention Head 4 of Layer 11, which has shifted the prediction to Border Collie when we patch it.\n",
    "\n",
    "Attention is a multi-step computation, so which part of the attention head is making this switch? And which patch of the original input? Is there a difference in result when we activation-patch the CLS token, vs a spatial patch (e.g. the cat's face)?\n",
    "\n",
    "Let's check out the z matrix of the Attention Head. This is the part of the residual stream that's been matmuled with the value weight matrix and then weighted by the attention pattern:\n",
    "\n",
    "\n",
    "\n",
    "```\n",
    "z = self.hook_z(\n",
    "            einsum(\n",
    "                \"batch key_pos head_index d_head, \\\n",
    "                batch head_index query_pos key_pos -> \\\n",
    "                batch query_pos head_index d_head\",\n",
    "                v,\n",
    "                pattern,\n",
    "            )\n",
    "        )\n",
    "```\n",
    "From Prisma repo. Source [here](https://github.com/soniajoseph/ViT-Prisma/blob/dd3b1d456ddd1f293c06c3bf7707c05d61049bc2/src/vit_prisma/models/layers/attention.py#L268C9-L276C10).\n",
    "\n"
   ]
  },
  {
   "cell_type": "code",
   "execution_count": null,
   "metadata": {
    "id": "VcigxxnG3Glb"
   },
   "outputs": [],
   "source": [
    "patched_z = run_patch('z')\n",
    "fig = plot_patched_component(patched_z, title='z')\n"
   ]
  },
  {
   "cell_type": "markdown",
   "metadata": {
    "id": "5ywF9yCM288g"
   },
   "source": [
    "The y-axis is each patch number, and the x-axis is the attention head number. We can see that only patching the CLS token of Attention Head 4 flips the value to Border Collie (positive)."
   ]
  },
  {
   "cell_type": "code",
   "execution_count": null,
   "metadata": {
    "id": "4aBCdKUb6pXV"
   },
   "outputs": [],
   "source": [
    "fig.show()"
   ]
  },
  {
   "cell_type": "markdown",
   "metadata": {
    "id": "EwrrffWa3d7D"
   },
   "source": [
    "Let's check out value matrix (which is computed upstream of the z matrix above). Interestingly, patching the 26th patch shifts the decision most away from tabby cat and toward Border Collie (but not enough to fully flip it)."
   ]
  },
  {
   "cell_type": "code",
   "execution_count": null,
   "metadata": {
    "id": "pvbzIvxi3IP4"
   },
   "outputs": [],
   "source": [
    "patched_v = run_patch('v')\n",
    "fig = plot_patched_component(patched_v, title='v')\n"
   ]
  },
  {
   "cell_type": "code",
   "execution_count": null,
   "metadata": {
    "id": "I44umIPZ6lGh"
   },
   "outputs": [],
   "source": [
    "fig.show()"
   ]
  },
  {
   "cell_type": "markdown",
   "metadata": {
    "id": "HoWTdtJe3wKj"
   },
   "source": [
    "Looking at the grid below, Patch 26 corresponds to the bottom part of the cat's face! So it intuitively checks out that activation patching this patch with the black crop-out would nudge the computation toward Border Collie."
   ]
  },
  {
   "cell_type": "code",
   "execution_count": null,
   "metadata": {
    "id": "LmStmmYM-s8d"
   },
   "outputs": [],
   "source": [
    "display_grid_on_image(corrupted_image, patch_size=32)\n",
    "display_grid_on_image(clean_image, patch_size=32)"
   ]
  },
  {
   "cell_type": "markdown",
   "metadata": {
    "id": "kMBzfDsU3-Rf"
   },
   "source": [
    "Let's now check out patching the key matrix."
   ]
  },
  {
   "cell_type": "code",
   "execution_count": null,
   "metadata": {
    "id": "4n3qPKBS3ZKf"
   },
   "outputs": [],
   "source": [
    "patched_k = run_patch('k')\n",
    "fig = plot_patched_component(patched_k, title='k')\n"
   ]
  },
  {
   "cell_type": "markdown",
   "metadata": {
    "id": "NJgKeVGS4AjV"
   },
   "source": [
    "Patch 26 also makes a difference! But not enough to flip the computation by itself."
   ]
  },
  {
   "cell_type": "code",
   "execution_count": null,
   "metadata": {
    "id": "DwxEpE8P6sac"
   },
   "outputs": [],
   "source": [
    "fig.show()"
   ]
  },
  {
   "cell_type": "markdown",
   "metadata": {
    "id": "kiut2zOT4ICA"
   },
   "source": [
    "Let's run the query matrix to finish off this attention head."
   ]
  },
  {
   "cell_type": "code",
   "execution_count": null,
   "metadata": {
    "id": "-znhyBtf3b0-"
   },
   "outputs": [],
   "source": [
    "patched_q = run_patch('q')\n",
    "fig = plot_patched_component(patched_q, title='q')\n"
   ]
  },
  {
   "cell_type": "code",
   "execution_count": null,
   "metadata": {
    "id": "PfQO2-Zd6tfP"
   },
   "outputs": [],
   "source": [
    "fig.show()"
   ]
  },
  {
   "cell_type": "markdown",
   "metadata": {
    "id": "DS8hoXwH4M0A"
   },
   "source": [
    "It appears that no activation-patching in the query matrix shifts the computation too dramatically here.\n",
    "\n",
    "Putting this all together, this means that the significant cat-dog deciding computation happens at the z-matrix (when the value matrix is weighted by the attention pattern).\n",
    "\n",
    "Here, the \"cat information\" (Patch 26, the lower cat face) is being aggregated and sent to the CLS token.\n",
    "\n",
    "Can you visualize key-query heatmaps to better visualize why?\n",
    "\n",
    "Finally, let's plot v vs z of every patch/head combo."
   ]
  },
  {
   "cell_type": "markdown",
   "metadata": {
    "id": "SBjjMs7q6TvR"
   },
   "source": [
    "### Plotting code"
   ]
  },
  {
   "cell_type": "code",
   "execution_count": null,
   "metadata": {
    "id": "yBVNVzuZ6TZp"
   },
   "outputs": [],
   "source": [
    "\n",
    "n_heads = model.cfg.n_heads\n",
    "n_patches = 50  # Assuming there are 50 patches\n",
    "\n",
    "# Generate combined labels for patches and heads\n",
    "combined_labels = [f\"Patch {p} H{h}\" for p in range(n_patches) for h in range(n_heads)]\n",
    "\n",
    "colors = np.tile(np.arange(n_heads), n_patches)\n",
    "\n",
    "x_values, y_values = patched_v.flatten(), patched_z.flatten()\n",
    "\n",
    "# Create the scatter plot\n",
    "fig = px.scatter(\n",
    "    x=x_values,\n",
    "    y=y_values,\n",
    "    # colors=colors,\n",
    "    labels={\n",
    "        \"x\": \"v Patch Difference\",\n",
    "        \"y\": \"z Patch Difference\",\n",
    "        \"color\": \"Layer & Patch\"\n",
    "    },\n",
    "    title=\"Scatter plot of z patching vs v patching\",\n",
    "\n",
    ")\n",
    "\n",
    "# Add hover data for each point with custom labels\n",
    "fig.update_traces(marker=dict(size=6),\n",
    "                  selector=dict(mode='markers'),\n",
    "                  hovertemplate=[\"%{x}<br>%{y}<br>%{text}\" for _ in combined_labels],\n",
    "                  text=combined_labels)\n",
    "\n"
   ]
  },
  {
   "cell_type": "markdown",
   "metadata": {
    "id": "eLpkUvc86W65"
   },
   "source": [
    "### Visualization"
   ]
  },
  {
   "cell_type": "code",
   "execution_count": null,
   "metadata": {
    "id": "PoINRJc06t6s"
   },
   "outputs": [],
   "source": [
    "fig.show()"
   ]
  },
  {
   "cell_type": "markdown",
   "metadata": {
    "id": "n5Ylrdq24yfG"
   },
   "source": [
    "It appears that the value activation patching makes a more significant difference for some patches (e.g. Patch 26) than the CLS otken, where the output patch matters more."
   ]
  },
  {
   "cell_type": "markdown",
   "metadata": {
    "id": "Du1nWG_v7JcN"
   },
   "source": [
    "## Run net again with minimum viable ablation\n",
    "\n",
    "Let's flip the net's prediction from tabby cat to Border collie by changing as little as we can.\n",
    "\n",
    "Note that we are only patching the CLS token of the z matrix of Attention Head 4, Layer 11. This is a tiny ablation (a 64-component vector)."
   ]
  },
  {
   "cell_type": "code",
   "execution_count": null,
   "metadata": {
    "id": "Y298F0sB5km2"
   },
   "outputs": [],
   "source": [
    "def patch_head_vector(\n",
    "    original_head_vector,\n",
    "    hook,\n",
    "    head_index,\n",
    "    cache,\n",
    "    patch_num\n",
    "):\n",
    "\n",
    "    original_head_vector[:, patch_num, head_index, :] = cache[hook.name][\n",
    "        :, patch_num, head_index, :\n",
    "    ]\n",
    "    return original_head_vector"
   ]
  },
  {
   "cell_type": "code",
   "execution_count": null,
   "metadata": {
    "id": "bTltiNcP7Kf1"
   },
   "outputs": [],
   "source": [
    "\n",
    "\n",
    "\n",
    "hook_fn = partial(patch_head_vector, head_index=4, cache=corrupted_cache, patch_num=0)\n",
    "logits = model.run_with_hooks(\n",
    "    clean_image.unsqueeze(0),\n",
    "    fwd_hooks=[(prisma_utils.get_act_name('z', 11, \"attn\"), hook_fn)],\n",
    ")\n",
    "\n",
    "probs = logits.softmax(dim=-1)\n",
    "probs = probs.squeeze(0).detach().numpy()\n",
    "sorted_probs = np.sort(probs)[::-1]\n",
    "sorted_probs_args = np.argsort(probs)[::-1]\n",
    "\n",
    "top_k = 10\n",
    "for i in range(top_k):\n",
    "    index = sorted_probs_args[i]\n",
    "    prob = sorted_probs[i]\n",
    "    logit = logits[0, index].item()  # Assuming you want to show the original logit value\n",
    "    label = IMAGENET_DICT[index]\n",
    "\n",
    "    rank_str = f\"Top {i}th token.\"\n",
    "    logit_str = f\"Logit: {logit:.2f}\"\n",
    "    prob_str = f\"Prob: {prob * 100:.2f}%\"\n",
    "    token_str = f\"Label: |{label}|\"\n",
    "    print(f\"{rank_str} {logit_str} {prob_str} {token_str}\")\n"
   ]
  },
  {
   "cell_type": "markdown",
   "metadata": {
    "id": "pS1_Yr6S83qc"
   },
   "source": [
    "The net has shifted its classification from tabby cat to Border collie. Tabby cat is now the 5th answer. And we got the network to switch by making the Minimum Viable Ablation: this is just the CLS token of the z matrix of Head 4, Layer 11! We altered the net with surgical precision.\n"
   ]
  },
  {
   "cell_type": "markdown",
   "metadata": {
    "id": "2DpZRHN87N7r"
   },
   "source": [
    "# Outro\n",
    "\n",
    "## More problems\n",
    "\n",
    "* Can you make the ablation *even more* precise by ablating the features of the CLS embedding, instead of the whole embedding?\n",
    "* Does this result generalize to other cat/dog images? Try flipping the image.\n",
    "* Can you figure out exactly how the CLS is accruing information from the other patches, including Patch 26?\n",
    "* See more open problems [here](https://www.lesswrong.com/posts/kobJymvvcvhbjWFKe/laying-the-foundations-for-vision-and-multimodal-mechanistic).\n",
    "\n",
    "## More notebooks\n",
    "\n",
    "* [Emoji Logit Lens Demo](https://colab.research.google.com/drive/1yAHrEoIgkaVqdWC4GY-GQ46ZCnorkIVo)\n",
    "* [Interactive Attention Head Demo](https://colab.research.google.com/drive/1P252fCvTHNL_yhqJDeDVOXKCzIgIuAz2)\n",
    "\n",
    "\n",
    "\n",
    "\n",
    "See the [Prisma repo](https://github.com/soniajoseph/ViT-Prisma/tree/main) for the original codebase.\n",
    "\n",
    "*If you have feedback, please DM me on the LW forum or Twitter (@soniajoseph_).*"
   ]
  },
  {
   "cell_type": "markdown",
   "metadata": {},
   "source": []
  },
  {
   "cell_type": "markdown",
   "metadata": {},
   "source": []
  },
  {
   "cell_type": "markdown",
   "metadata": {},
   "source": []
  }
 ],
 "metadata": {
  "accelerator": "GPU",
  "colab": {
   "collapsed_sections": [
    "nRmhq7T8iObj",
    "SBjjMs7q6TvR"
   ],
   "gpuType": "T4",
   "machine_shape": "hm",
   "provenance": [],
   "toc_visible": true
  },
  "kernelspec": {
   "display_name": "Python 3 (ipykernel)",
   "language": "python",
   "name": "python3"
  },
  "language_info": {
   "codemirror_mode": {
    "name": "ipython",
    "version": 3
   },
   "file_extension": ".py",
   "mimetype": "text/x-python",
   "name": "python",
   "nbconvert_exporter": "python",
   "pygments_lexer": "ipython3",
   "version": "3.12.4"
  }
 },
 "nbformat": 4,
 "nbformat_minor": 4
}
